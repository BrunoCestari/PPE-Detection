{
  "cells": [
    {
      "cell_type": "markdown",
      "metadata": {
        "id": "I3hz_o4QfJs1"
      },
      "source": []
    },
    {
      "cell_type": "code",
      "execution_count": null,
      "metadata": {
        "id": "-zEQOMTFK5jx"
      },
      "outputs": [],
      "source": [
        "#CELL TO CONNECT GOOGLE DRIVE TO COLAB\n",
        "\n",
        "from google.colab import drive\n",
        "drive.mount('/content/gdrive')"
      ]
    },
    {
      "cell_type": "code",
      "source": [
        "#Install ClearML, Ultralytics and import Yolo\n",
        "\n",
        "!pip install ultralytics\n",
        "!pip install clearml\n",
        "import os\n",
        "from ultralytics import YOLO\n"
      ],
      "metadata": {
        "id": "1pLqz85u4eEa"
      },
      "execution_count": null,
      "outputs": []
    },
    {
      "cell_type": "code",
      "execution_count": null,
      "metadata": {
        "id": "NDr0KaXZy17P"
      },
      "outputs": [],
      "source": [
        "#FINETUNING AND CONFIGURATION TO MAKE EXPERIMENT  EASY TO MANAGE: https://www.kaggle.com/code/hinepo/yolov8-finetuning-for-ppe-detection\n",
        "\n",
        "class CFG:\n",
        "    DEBUG = False\n",
        "    FRACTION = 0.05 if DEBUG else 1.0\n",
        "    SEED = 88\n",
        "    # training\n",
        "    EPOCHS = 3 if DEBUG else 300 # 100\n",
        "    BATCH_SIZE = 16\n",
        "\n",
        "    BASE_MODEL = 'yolov8l' # yolov8n, yolov8s, yolov8m, yolov8l, yolov8x\n",
        "    BASE_MODEL_WEIGHTS = f'{BASE_MODEL}.pt'\n",
        "\n",
        "    #train directory and ClearML tracking, manually edit  epochs if resume training.\n",
        "    EXP_NAME = f'Experiment-11_PPE_Detector_{BASE_MODEL}_{EPOCHS}_epochs'\n",
        "\n",
        "    CONTINUE_LAST_TASK = False  #Or task ID (if you want continue a previous experiment)\n",
        "\n",
        "    OPTIMIZER = 'auto' # SGD, Adam, Adamax, AdamW, NAdam, RAdam, RMSProp, auto\n",
        "    LR = 1e-3\n",
        "    LR_FACTOR = 0.01\n",
        "    WEIGHT_DECAY = 5e-4\n",
        "    DROPOUT = 0.0\n",
        "    PATIENCE = 20\n",
        "    PROFILE = False\n",
        "    LABEL_SMOOTHING = 0.0\n",
        "\n",
        "\n",
        "    # paths\n",
        "    ROOT_DIR = '/content/gdrive/My Drive/PPE Detection/' #WRITE YOU ROOT DIRECTORY HERE\n",
        "\n",
        "\n"
      ]
    },
    {
      "cell_type": "code",
      "execution_count": null,
      "metadata": {
        "id": "WudcFMhvRGtl"
      },
      "outputs": [],
      "source": [
        "#Configure and start ClearML for experiment tracking\n",
        "\n",
        "from clearml import Task, Logger\n",
        "Task.set_credentials(\n",
        "    api_host = \"https://api.clear.ml\",\n",
        "    web_host = \"https://app.clear.ml\",\n",
        "    files_host = \"https://files.clear.ml\",\n",
        "    key = 'key', # Your ClearML key\n",
        "    secret =  'secret' #Your ClearML secret key\n",
        ")\n",
        "task = Task.init(project_name = 'PPE Detection', task_name = CFG.EXP_NAME, continue_last_task = CFG.CONTINUE_LAST_TASK)"
      ]
    },
    {
      "cell_type": "code",
      "execution_count": null,
      "metadata": {
        "id": "pVJoI9GqR8Bi"
      },
      "outputs": [],
      "source": [
        "# Train model\n",
        "\n",
        "#Load model\n",
        "model = YOLO(CFG.BASE_MODEL_WEIGHTS)\n",
        "\n",
        "#Use model\n",
        "model.train(\n",
        "    data=os.path.join(CFG.ROOT_DIR, \"data.yaml\"),\n",
        "    task = 'detect',\n",
        "    epochs = CFG.EPOCHS,\n",
        "    batch = CFG.BATCH_SIZE,\n",
        "    optimizer = CFG.OPTIMIZER,\n",
        "    lr0 = CFG.LR,\n",
        "    lrf = CFG.LR_FACTOR,\n",
        "    weight_decay = CFG.WEIGHT_DECAY,\n",
        "    dropout = CFG.DROPOUT,\n",
        "    fraction = CFG.FRACTION,\n",
        "    patience = CFG.PATIENCE,\n",
        "    profile = CFG.PROFILE,\n",
        "    label_smoothing = CFG.LABEL_SMOOTHING,\n",
        "\n",
        "    name = f'{CFG.EXP_NAME}',\n",
        "    seed = CFG.SEED,\n",
        "    val = True,\n",
        "    amp = True,\n",
        "    exist_ok = True,\n",
        "    resume = False,\n",
        "    device = 0,\n",
        "    verbose = False,\n",
        "    )\n",
        "\n",
        "#SAVE OUTPUT TO GOOGLE DRIVE\n",
        "import locale\n",
        "locale.getpreferredencoding = lambda: \"UTF-8\"\n",
        "!pip install aspose-words\n",
        "!scp -r /content/runs/ '/content/gdrive/My Drive/PPE Detection/' #adjust it manually if don't work\n"
      ]
    },
    {
      "cell_type": "code",
      "execution_count": null,
      "metadata": {
        "id": "llklKqp38h1p"
      },
      "outputs": [],
      "source": [
        "#Get weights to make inference\n",
        "\n",
        "model = YOLO(\"/content/gdrive/MyDrive/PPE Detection/runs/detect/PPE_Detector_yolov8l_finetuning-133_epochs/weights/best.pt\")"
      ]
    },
    {
      "cell_type": "markdown",
      "metadata": {
        "id": "JFCyAue50tCf"
      },
      "source": []
    },
    {
      "cell_type": "code",
      "execution_count": null,
      "metadata": {
        "id": "NCwS9CpBrQIe"
      },
      "outputs": [],
      "source": [
        "# Validate the model\n",
        "metrics = model.val()  # no arguments needed, dataset and settings remembered\n",
        "metrics.box.map    # map50-95\n",
        "metrics.box.map50  # map50\n",
        "metrics.box.map75  # map75\n",
        "metrics.box.maps   # a list contains map50-95 of each category"
      ]
    },
    {
      "cell_type": "code",
      "execution_count": null,
      "metadata": {
        "id": "c-0hjZqfD579"
      },
      "outputs": [],
      "source": [
        "#Make inference on a video\n",
        "\n",
        "!yolo detect predict model = \"/content/gdrive/MyDrive/PPE Detection/runs/detect/PPE_Detector_yolov8l_finetuning-133_epochs/weights/best.pt\"  source = \"/content/gdrive/MyDrive/PPE Detection/data/videos/workers-video-1.mp4\""
      ]
    },
    {
      "cell_type": "code",
      "execution_count": null,
      "metadata": {
        "id": "Mgc49tGcLVup"
      },
      "outputs": [],
      "source": [
        "#Save the video on runs/\n",
        "\n",
        "!scp -r /content/runs '/content/gdrive/My Drive/PPE Detection/'"
      ]
    },
    {
      "cell_type": "code",
      "execution_count": null,
      "metadata": {
        "id": "JEOz-JMlLgOt"
      },
      "outputs": [],
      "source": [
        "#Convert the video to mp4 format\n",
        "!ffmpeg -i {\"/content/gdrive/MyDrive/PPE Detection/runs/detect/predict/workers-video-2.avi\"} -vcodec libx264 {\"yolov8l-ppe-detection-video-1.mp4\"}"
      ]
    }
  ],
  "metadata": {
    "accelerator": "GPU",
    "colab": {
      "provenance": [],
      "gpuType": "T4"
    },
    "kernelspec": {
      "display_name": "Python 3",
      "name": "python3"
    },
    "language_info": {
      "name": "python"
    }
  },
  "nbformat": 4,
  "nbformat_minor": 0
}