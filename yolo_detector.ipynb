{
  "cells": [
    {
      "cell_type": "markdown",
      "metadata": {
        "id": "I3hz_o4QfJs1"
      },
      "source": []
    },
    {
      "cell_type": "code",
      "execution_count": 9,
      "metadata": {
        "colab": {
          "base_uri": "https://localhost:8080/"
        },
        "id": "-zEQOMTFK5jx",
        "outputId": "0364ff68-8722-4202-8281-9d68fc294fd3"
      },
      "outputs": [
        {
          "output_type": "stream",
          "name": "stdout",
          "text": [
            "Drive already mounted at /content/gdrive; to attempt to forcibly remount, call drive.mount(\"/content/gdrive\", force_remount=True).\n"
          ]
        }
      ],
      "source": [
        "#CELL TO CONNECT GOOGLE DRIVE TO COLAB\n",
        "\n",
        "from google.colab import drive\n",
        "drive.mount('/content/gdrive')"
      ]
    },
    {
      "cell_type": "code",
      "source": [
        "#Install ClearML, Ultralytics and import Yolo\n",
        "\n",
        "!pip install ultralytics\n",
        "!pip install clearml\n",
        "import os\n",
        "from ultralytics import YOLO\n"
      ],
      "metadata": {
        "colab": {
          "base_uri": "https://localhost:8080/"
        },
        "id": "1pLqz85u4eEa",
        "outputId": "37e2b23f-187b-435e-84b7-268e0953383e"
      },
      "execution_count": 3,
      "outputs": [
        {
          "output_type": "stream",
          "name": "stdout",
          "text": [
            "Collecting ultralytics\n",
            "  Downloading ultralytics-8.1.9-py3-none-any.whl (709 kB)\n",
            "\u001b[?25l     \u001b[90m━━━━━━━━━━━━━━━━━━━━━━━━━━━━━━━━━━━━━━━━\u001b[0m \u001b[32m0.0/709.3 kB\u001b[0m \u001b[31m?\u001b[0m eta \u001b[36m-:--:--\u001b[0m\r\u001b[2K     \u001b[91m━━━━━━━━━━━━━━━━━━━━━━━━━━━━━\u001b[0m\u001b[90m╺\u001b[0m\u001b[90m━━━━━━━━━━\u001b[0m \u001b[32m522.2/709.3 kB\u001b[0m \u001b[31m15.5 MB/s\u001b[0m eta \u001b[36m0:00:01\u001b[0m\r\u001b[2K     \u001b[90m━━━━━━━━━━━━━━━━━━━━━━━━━━━━━━━━━━━━━━━━\u001b[0m \u001b[32m709.3/709.3 kB\u001b[0m \u001b[31m16.3 MB/s\u001b[0m eta \u001b[36m0:00:00\u001b[0m\n",
            "\u001b[?25hRequirement already satisfied: matplotlib>=3.3.0 in /usr/local/lib/python3.10/dist-packages (from ultralytics) (3.7.1)\n",
            "Requirement already satisfied: numpy>=1.22.2 in /usr/local/lib/python3.10/dist-packages (from ultralytics) (1.23.5)\n",
            "Requirement already satisfied: opencv-python>=4.6.0 in /usr/local/lib/python3.10/dist-packages (from ultralytics) (4.8.0.76)\n",
            "Requirement already satisfied: pillow>=7.1.2 in /usr/local/lib/python3.10/dist-packages (from ultralytics) (9.4.0)\n",
            "Requirement already satisfied: pyyaml>=5.3.1 in /usr/local/lib/python3.10/dist-packages (from ultralytics) (6.0.1)\n",
            "Requirement already satisfied: requests>=2.23.0 in /usr/local/lib/python3.10/dist-packages (from ultralytics) (2.31.0)\n",
            "Requirement already satisfied: scipy>=1.4.1 in /usr/local/lib/python3.10/dist-packages (from ultralytics) (1.11.4)\n",
            "Requirement already satisfied: torch>=1.8.0 in /usr/local/lib/python3.10/dist-packages (from ultralytics) (2.1.0+cu121)\n",
            "Requirement already satisfied: torchvision>=0.9.0 in /usr/local/lib/python3.10/dist-packages (from ultralytics) (0.16.0+cu121)\n",
            "Requirement already satisfied: tqdm>=4.64.0 in /usr/local/lib/python3.10/dist-packages (from ultralytics) (4.66.1)\n",
            "Requirement already satisfied: psutil in /usr/local/lib/python3.10/dist-packages (from ultralytics) (5.9.5)\n",
            "Requirement already satisfied: py-cpuinfo in /usr/local/lib/python3.10/dist-packages (from ultralytics) (9.0.0)\n",
            "Collecting thop>=0.1.1 (from ultralytics)\n",
            "  Downloading thop-0.1.1.post2209072238-py3-none-any.whl (15 kB)\n",
            "Requirement already satisfied: pandas>=1.1.4 in /usr/local/lib/python3.10/dist-packages (from ultralytics) (1.5.3)\n",
            "Requirement already satisfied: seaborn>=0.11.0 in /usr/local/lib/python3.10/dist-packages (from ultralytics) (0.13.1)\n",
            "Requirement already satisfied: contourpy>=1.0.1 in /usr/local/lib/python3.10/dist-packages (from matplotlib>=3.3.0->ultralytics) (1.2.0)\n",
            "Requirement already satisfied: cycler>=0.10 in /usr/local/lib/python3.10/dist-packages (from matplotlib>=3.3.0->ultralytics) (0.12.1)\n",
            "Requirement already satisfied: fonttools>=4.22.0 in /usr/local/lib/python3.10/dist-packages (from matplotlib>=3.3.0->ultralytics) (4.47.2)\n",
            "Requirement already satisfied: kiwisolver>=1.0.1 in /usr/local/lib/python3.10/dist-packages (from matplotlib>=3.3.0->ultralytics) (1.4.5)\n",
            "Requirement already satisfied: packaging>=20.0 in /usr/local/lib/python3.10/dist-packages (from matplotlib>=3.3.0->ultralytics) (23.2)\n",
            "Requirement already satisfied: pyparsing>=2.3.1 in /usr/local/lib/python3.10/dist-packages (from matplotlib>=3.3.0->ultralytics) (3.1.1)\n",
            "Requirement already satisfied: python-dateutil>=2.7 in /usr/local/lib/python3.10/dist-packages (from matplotlib>=3.3.0->ultralytics) (2.8.2)\n",
            "Requirement already satisfied: pytz>=2020.1 in /usr/local/lib/python3.10/dist-packages (from pandas>=1.1.4->ultralytics) (2023.4)\n",
            "Requirement already satisfied: charset-normalizer<4,>=2 in /usr/local/lib/python3.10/dist-packages (from requests>=2.23.0->ultralytics) (3.3.2)\n",
            "Requirement already satisfied: idna<4,>=2.5 in /usr/local/lib/python3.10/dist-packages (from requests>=2.23.0->ultralytics) (3.6)\n",
            "Requirement already satisfied: urllib3<3,>=1.21.1 in /usr/local/lib/python3.10/dist-packages (from requests>=2.23.0->ultralytics) (2.0.7)\n",
            "Requirement already satisfied: certifi>=2017.4.17 in /usr/local/lib/python3.10/dist-packages (from requests>=2.23.0->ultralytics) (2023.11.17)\n",
            "Requirement already satisfied: filelock in /usr/local/lib/python3.10/dist-packages (from torch>=1.8.0->ultralytics) (3.13.1)\n",
            "Requirement already satisfied: typing-extensions in /usr/local/lib/python3.10/dist-packages (from torch>=1.8.0->ultralytics) (4.5.0)\n",
            "Requirement already satisfied: sympy in /usr/local/lib/python3.10/dist-packages (from torch>=1.8.0->ultralytics) (1.12)\n",
            "Requirement already satisfied: networkx in /usr/local/lib/python3.10/dist-packages (from torch>=1.8.0->ultralytics) (3.2.1)\n",
            "Requirement already satisfied: jinja2 in /usr/local/lib/python3.10/dist-packages (from torch>=1.8.0->ultralytics) (3.1.3)\n",
            "Requirement already satisfied: fsspec in /usr/local/lib/python3.10/dist-packages (from torch>=1.8.0->ultralytics) (2023.6.0)\n",
            "Requirement already satisfied: triton==2.1.0 in /usr/local/lib/python3.10/dist-packages (from torch>=1.8.0->ultralytics) (2.1.0)\n",
            "Requirement already satisfied: six>=1.5 in /usr/local/lib/python3.10/dist-packages (from python-dateutil>=2.7->matplotlib>=3.3.0->ultralytics) (1.16.0)\n",
            "Requirement already satisfied: MarkupSafe>=2.0 in /usr/local/lib/python3.10/dist-packages (from jinja2->torch>=1.8.0->ultralytics) (2.1.4)\n",
            "Requirement already satisfied: mpmath>=0.19 in /usr/local/lib/python3.10/dist-packages (from sympy->torch>=1.8.0->ultralytics) (1.3.0)\n",
            "Installing collected packages: thop, ultralytics\n",
            "Successfully installed thop-0.1.1.post2209072238 ultralytics-8.1.9\n",
            "Collecting clearml\n",
            "  Downloading clearml-1.14.1-py2.py3-none-any.whl (1.1 MB)\n",
            "\u001b[2K     \u001b[90m━━━━━━━━━━━━━━━━━━━━━━━━━━━━━━━━━━━━━━━━\u001b[0m \u001b[32m1.1/1.1 MB\u001b[0m \u001b[31m15.8 MB/s\u001b[0m eta \u001b[36m0:00:00\u001b[0m\n",
            "\u001b[?25hRequirement already satisfied: attrs>=18.0 in /usr/local/lib/python3.10/dist-packages (from clearml) (23.2.0)\n",
            "Collecting furl>=2.0.0 (from clearml)\n",
            "  Downloading furl-2.1.3-py2.py3-none-any.whl (20 kB)\n",
            "Requirement already satisfied: jsonschema>=2.6.0 in /usr/local/lib/python3.10/dist-packages (from clearml) (4.19.2)\n",
            "Requirement already satisfied: numpy>=1.10 in /usr/local/lib/python3.10/dist-packages (from clearml) (1.23.5)\n",
            "Collecting pathlib2>=2.3.0 (from clearml)\n",
            "  Downloading pathlib2-2.3.7.post1-py2.py3-none-any.whl (18 kB)\n",
            "Requirement already satisfied: Pillow>=4.1.1 in /usr/local/lib/python3.10/dist-packages (from clearml) (9.4.0)\n",
            "Requirement already satisfied: psutil>=3.4.2 in /usr/local/lib/python3.10/dist-packages (from clearml) (5.9.5)\n",
            "Requirement already satisfied: pyparsing>=2.0.3 in /usr/local/lib/python3.10/dist-packages (from clearml) (3.1.1)\n",
            "Requirement already satisfied: python-dateutil>=2.6.1 in /usr/local/lib/python3.10/dist-packages (from clearml) (2.8.2)\n",
            "Requirement already satisfied: PyYAML>=3.12 in /usr/local/lib/python3.10/dist-packages (from clearml) (6.0.1)\n",
            "Requirement already satisfied: requests>=2.20.0 in /usr/local/lib/python3.10/dist-packages (from clearml) (2.31.0)\n",
            "Requirement already satisfied: six>=1.13.0 in /usr/local/lib/python3.10/dist-packages (from clearml) (1.16.0)\n",
            "Requirement already satisfied: urllib3>=1.21.1 in /usr/local/lib/python3.10/dist-packages (from clearml) (2.0.7)\n",
            "Collecting pyjwt<2.9.0,>=2.4.0 (from clearml)\n",
            "  Downloading PyJWT-2.8.0-py3-none-any.whl (22 kB)\n",
            "Requirement already satisfied: referencing<0.40 in /usr/local/lib/python3.10/dist-packages (from clearml) (0.33.0)\n",
            "Collecting orderedmultidict>=1.0.1 (from furl>=2.0.0->clearml)\n",
            "  Downloading orderedmultidict-1.0.1-py2.py3-none-any.whl (11 kB)\n",
            "Requirement already satisfied: jsonschema-specifications>=2023.03.6 in /usr/local/lib/python3.10/dist-packages (from jsonschema>=2.6.0->clearml) (2023.12.1)\n",
            "Requirement already satisfied: rpds-py>=0.7.1 in /usr/local/lib/python3.10/dist-packages (from jsonschema>=2.6.0->clearml) (0.17.1)\n",
            "Requirement already satisfied: charset-normalizer<4,>=2 in /usr/local/lib/python3.10/dist-packages (from requests>=2.20.0->clearml) (3.3.2)\n",
            "Requirement already satisfied: idna<4,>=2.5 in /usr/local/lib/python3.10/dist-packages (from requests>=2.20.0->clearml) (3.6)\n",
            "Requirement already satisfied: certifi>=2017.4.17 in /usr/local/lib/python3.10/dist-packages (from requests>=2.20.0->clearml) (2023.11.17)\n",
            "Installing collected packages: pyjwt, pathlib2, orderedmultidict, furl, clearml\n",
            "  Attempting uninstall: pyjwt\n",
            "    Found existing installation: PyJWT 2.3.0\n",
            "    Uninstalling PyJWT-2.3.0:\n",
            "      Successfully uninstalled PyJWT-2.3.0\n",
            "Successfully installed clearml-1.14.1 furl-2.1.3 orderedmultidict-1.0.1 pathlib2-2.3.7.post1 pyjwt-2.8.0\n"
          ]
        }
      ]
    },
    {
      "cell_type": "code",
      "execution_count": 2,
      "metadata": {
        "id": "NDr0KaXZy17P"
      },
      "outputs": [],
      "source": [
        "#FINETUNING AND CONFIGURATION TO MAKE EXPERIMENT  EASY TO MANAGE: https://www.kaggle.com/code/hinepo/yolov8-finetuning-for-ppe-detection\n",
        "\n",
        "class CFG:\n",
        "    DEBUG = False\n",
        "    FRACTION = 0.05 if DEBUG else 1.0\n",
        "    SEED = 88\n",
        "    # training\n",
        "    EPOCHS = 3 if DEBUG else 300 # 100\n",
        "    BATCH_SIZE = 16\n",
        "\n",
        "    BASE_MODEL = 'yolov8l' # yolov8n, yolov8s, yolov8m, yolov8l, yolov8x\n",
        "    BASE_MODEL_WEIGHTS = f'{BASE_MODEL}.pt'\n",
        "\n",
        "    #train directory and ClearML tracking, manually edit  epochs if resume training.\n",
        "    EXP_NAME = f'Experiment-11_PPE_Detector_{BASE_MODEL}_{EPOCHS}_epochs'\n",
        "\n",
        "    CONTINUE_LAST_TASK = False  #Or task ID (if you want continue a previous experiment)\n",
        "\n",
        "    OPTIMIZER = 'auto' # SGD, Adam, Adamax, AdamW, NAdam, RAdam, RMSProp, auto\n",
        "    LR = 1e-3\n",
        "    LR_FACTOR = 0.01\n",
        "    WEIGHT_DECAY = 5e-4\n",
        "    DROPOUT = 0.0\n",
        "    PATIENCE = 20\n",
        "    PROFILE = False\n",
        "    LABEL_SMOOTHING = 0.0\n",
        "\n",
        "\n",
        "    # paths\n",
        "    ROOT_DIR = '/content/gdrive/My Drive/PPE Detection/' #WRITE YOU ROOT DIRECTORY HERE\n",
        "\n",
        "\n"
      ]
    },
    {
      "cell_type": "code",
      "execution_count": 4,
      "metadata": {
        "colab": {
          "base_uri": "https://localhost:8080/",
          "height": 210
        },
        "id": "WudcFMhvRGtl",
        "outputId": "4baa9b5a-164a-4caa-eaa6-53ddfe1a3ee7"
      },
      "outputs": [
        {
          "output_type": "error",
          "ename": "NameError",
          "evalue": "name 'CFG' is not defined",
          "traceback": [
            "\u001b[0;31m---------------------------------------------------------------------------\u001b[0m",
            "\u001b[0;31mNameError\u001b[0m                                 Traceback (most recent call last)",
            "\u001b[0;32m<ipython-input-4-5abb842616fd>\u001b[0m in \u001b[0;36m<cell line: 11>\u001b[0;34m()\u001b[0m\n\u001b[1;32m      9\u001b[0m     \u001b[0msecret\u001b[0m \u001b[0;34m=\u001b[0m  \u001b[0;34m'secret'\u001b[0m \u001b[0;31m#Your ClearML secret key\u001b[0m\u001b[0;34m\u001b[0m\u001b[0;34m\u001b[0m\u001b[0m\n\u001b[1;32m     10\u001b[0m )\n\u001b[0;32m---> 11\u001b[0;31m \u001b[0mtask\u001b[0m \u001b[0;34m=\u001b[0m \u001b[0mTask\u001b[0m\u001b[0;34m.\u001b[0m\u001b[0minit\u001b[0m\u001b[0;34m(\u001b[0m\u001b[0mproject_name\u001b[0m \u001b[0;34m=\u001b[0m \u001b[0;34m'PPE Detection'\u001b[0m\u001b[0;34m,\u001b[0m \u001b[0mtask_name\u001b[0m \u001b[0;34m=\u001b[0m \u001b[0mCFG\u001b[0m\u001b[0;34m.\u001b[0m\u001b[0mEXP_NAME\u001b[0m\u001b[0;34m,\u001b[0m \u001b[0mcontinue_last_task\u001b[0m \u001b[0;34m=\u001b[0m \u001b[0mCFG\u001b[0m\u001b[0;34m.\u001b[0m\u001b[0mCONTINUE_LAST_TASK\u001b[0m\u001b[0;34m)\u001b[0m\u001b[0;34m\u001b[0m\u001b[0;34m\u001b[0m\u001b[0m\n\u001b[0m",
            "\u001b[0;31mNameError\u001b[0m: name 'CFG' is not defined"
          ]
        }
      ],
      "source": [
        "#Configure and start ClearML for experiment tracking\n",
        "\n",
        "from clearml import Task, Logger\n",
        "Task.set_credentials(\n",
        "    api_host = \"https://api.clear.ml\",\n",
        "    web_host = \"https://app.clear.ml\",\n",
        "    files_host = \"https://files.clear.ml\",\n",
        "    key = 'key', # Your ClearML key\n",
        "    secret =  'secret' #Your ClearML secret key\n",
        ")\n",
        "task = Task.init(project_name = 'PPE Detection', task_name = CFG.EXP_NAME, continue_last_task = CFG.CONTINUE_LAST_TASK)"
      ]
    },
    {
      "cell_type": "code",
      "execution_count": 4,
      "metadata": {
        "colab": {
          "base_uri": "https://localhost:8080/",
          "height": 1000
        },
        "id": "pVJoI9GqR8Bi",
        "outputId": "d4f7ab9b-bf8f-461b-de98-71f0f9b7f5db"
      },
      "outputs": [
        {
          "output_type": "stream",
          "name": "stdout",
          "text": [
            "Downloading https://github.com/ultralytics/assets/releases/download/v8.1.0/yolov8l.pt to 'yolov8l.pt'...\n"
          ]
        },
        {
          "output_type": "stream",
          "name": "stderr",
          "text": [
            "100%|██████████| 83.7M/83.7M [00:00<00:00, 229MB/s]\n"
          ]
        },
        {
          "output_type": "stream",
          "name": "stdout",
          "text": [
            "2024-02-03 13:38:39,938 - clearml.model - INFO - Selected model id: 2629e686540a443f985f1a914f0199dd\n",
            "Ultralytics YOLOv8.1.9 🚀 Python-3.10.12 torch-2.1.0+cu121 CUDA:0 (Tesla T4, 15102MiB)\n",
            "\u001b[34m\u001b[1mengine/trainer: \u001b[0mtask=detect, mode=train, model=yolov8l.pt, data=/content/gdrive/My Drive/PPE Detection/data.yaml, epochs=300, time=None, patience=20, batch=16, imgsz=640, save=True, save_period=-1, cache=False, device=0, workers=8, project=None, name=Experiment-11_PPE_Detector_yolov8l_300_epochs, exist_ok=True, pretrained=True, optimizer=auto, verbose=False, seed=88, deterministic=True, single_cls=False, rect=False, cos_lr=False, close_mosaic=10, resume=False, amp=True, fraction=1.0, profile=False, freeze=None, multi_scale=False, overlap_mask=True, mask_ratio=4, dropout=0.0, val=True, split=val, save_json=False, save_hybrid=False, conf=None, iou=0.7, max_det=300, half=False, dnn=False, plots=True, source=None, vid_stride=1, stream_buffer=False, visualize=False, augment=False, agnostic_nms=False, classes=None, retina_masks=False, embed=None, show=False, save_frames=False, save_txt=False, save_conf=False, save_crop=False, show_labels=True, show_conf=True, show_boxes=True, line_width=None, format=torchscript, keras=False, optimize=False, int8=False, dynamic=False, simplify=False, opset=None, workspace=4, nms=False, lr0=0.001, lrf=0.01, momentum=0.937, weight_decay=0.0005, warmup_epochs=3.0, warmup_momentum=0.8, warmup_bias_lr=0.1, box=7.5, cls=0.5, dfl=1.5, pose=12.0, kobj=1.0, label_smoothing=0.0, nbs=64, hsv_h=0.015, hsv_s=0.7, hsv_v=0.4, degrees=0.0, translate=0.1, scale=0.5, shear=0.0, perspective=0.0, flipud=0.0, fliplr=0.5, mosaic=1.0, mixup=0.0, copy_paste=0.0, auto_augment=randaugment, erasing=0.4, crop_fraction=1.0, cfg=None, tracker=botsort.yaml, save_dir=runs/detect/Experiment-11_PPE_Detector_yolov8l_300_epochs\n",
            "Downloading https://ultralytics.com/assets/Arial.ttf to '/root/.config/Ultralytics/Arial.ttf'...\n"
          ]
        },
        {
          "output_type": "stream",
          "name": "stderr",
          "text": [
            "100%|██████████| 755k/755k [00:00<00:00, 17.7MB/s]"
          ]
        },
        {
          "output_type": "stream",
          "name": "stdout",
          "text": [
            "Overriding model.yaml nc=80 with nc=10\n",
            "\n",
            "                   from  n    params  module                                       arguments                     \n",
            "  0                  -1  1      1856  ultralytics.nn.modules.conv.Conv             [3, 64, 3, 2]                 \n",
            "  1                  -1  1     73984  ultralytics.nn.modules.conv.Conv             [64, 128, 3, 2]               \n",
            "  2                  -1  3    279808  ultralytics.nn.modules.block.C2f             [128, 128, 3, True]           \n",
            "  3                  -1  1    295424  ultralytics.nn.modules.conv.Conv             [128, 256, 3, 2]              \n",
            "  4                  -1  6   2101248  ultralytics.nn.modules.block.C2f             [256, 256, 6, True]           \n",
            "  5                  -1  1   1180672  ultralytics.nn.modules.conv.Conv             [256, 512, 3, 2]              \n"
          ]
        },
        {
          "output_type": "stream",
          "name": "stderr",
          "text": [
            "\n"
          ]
        },
        {
          "output_type": "stream",
          "name": "stdout",
          "text": [
            "  6                  -1  6   8396800  ultralytics.nn.modules.block.C2f             [512, 512, 6, True]           \n",
            "  7                  -1  1   2360320  ultralytics.nn.modules.conv.Conv             [512, 512, 3, 2]              \n",
            "  8                  -1  3   4461568  ultralytics.nn.modules.block.C2f             [512, 512, 3, True]           \n",
            "  9                  -1  1    656896  ultralytics.nn.modules.block.SPPF            [512, 512, 5]                 \n",
            " 10                  -1  1         0  torch.nn.modules.upsampling.Upsample         [None, 2, 'nearest']          \n",
            " 11             [-1, 6]  1         0  ultralytics.nn.modules.conv.Concat           [1]                           \n",
            " 12                  -1  3   4723712  ultralytics.nn.modules.block.C2f             [1024, 512, 3]                \n",
            " 13                  -1  1         0  torch.nn.modules.upsampling.Upsample         [None, 2, 'nearest']          \n",
            " 14             [-1, 4]  1         0  ultralytics.nn.modules.conv.Concat           [1]                           \n",
            " 15                  -1  3   1247744  ultralytics.nn.modules.block.C2f             [768, 256, 3]                 \n",
            " 16                  -1  1    590336  ultralytics.nn.modules.conv.Conv             [256, 256, 3, 2]              \n",
            " 17            [-1, 12]  1         0  ultralytics.nn.modules.conv.Concat           [1]                           \n",
            " 18                  -1  3   4592640  ultralytics.nn.modules.block.C2f             [768, 512, 3]                 \n",
            " 19                  -1  1   2360320  ultralytics.nn.modules.conv.Conv             [512, 512, 3, 2]              \n",
            " 20             [-1, 9]  1         0  ultralytics.nn.modules.conv.Concat           [1]                           \n",
            " 21                  -1  3   4723712  ultralytics.nn.modules.block.C2f             [1024, 512, 3]                \n",
            " 22        [15, 18, 21]  1   5590510  ultralytics.nn.modules.head.Detect           [10, [256, 512, 512]]         \n",
            "Model summary: 365 layers, 43637550 parameters, 43637534 gradients, 165.4 GFLOPs\n",
            "\n",
            "Transferred 589/595 items from pretrained weights\n",
            "\u001b[34m\u001b[1mTensorBoard: \u001b[0mStart with 'tensorboard --logdir runs/detect/Experiment-11_PPE_Detector_yolov8l_300_epochs', view at http://localhost:6006/\n",
            "Freezing layer 'model.22.dfl.conv.weight'\n",
            "\u001b[34m\u001b[1mAMP: \u001b[0mrunning Automatic Mixed Precision (AMP) checks with YOLOv8n...\n",
            "Downloading https://github.com/ultralytics/assets/releases/download/v8.1.0/yolov8n.pt to 'yolov8n.pt'...\n"
          ]
        },
        {
          "output_type": "stream",
          "name": "stderr",
          "text": [
            "100%|██████████| 6.23M/6.23M [00:00<00:00, 85.0MB/s]\n"
          ]
        },
        {
          "output_type": "stream",
          "name": "stdout",
          "text": [
            "\u001b[34m\u001b[1mAMP: \u001b[0mchecks passed ✅\n"
          ]
        },
        {
          "output_type": "stream",
          "name": "stderr",
          "text": [
            "\u001b[34m\u001b[1mtrain: \u001b[0mScanning /content/gdrive/My Drive/PPE Detection/data/Construction Site Safety.v29i.yolov8/train/labels... 1563 images, 5 backgrounds, 0 corrupt: 100%|██████████| 1563/1563 [05:46<00:00,  4.52it/s]"
          ]
        },
        {
          "output_type": "stream",
          "name": "stdout",
          "text": [
            "\u001b[34m\u001b[1mtrain: \u001b[0mWARNING ⚠️ /content/gdrive/My Drive/PPE Detection/data/Construction Site Safety.v29i.yolov8/train/images/construction-844-_jpg.rf.1985f626f3dbf5577df7470499f60922.jpg: 1 duplicate labels removed\n",
            "\u001b[34m\u001b[1mtrain: \u001b[0mWARNING ⚠️ /content/gdrive/My Drive/PPE Detection/data/Construction Site Safety.v29i.yolov8/train/images/n190039_jpg.rf.2828f00d964c43db9d2b7c7f95152415.jpg: 1 duplicate labels removed\n",
            "\u001b[34m\u001b[1mtrain: \u001b[0mWARNING ⚠️ /content/gdrive/My Drive/PPE Detection/data/Construction Site Safety.v29i.yolov8/train/images/youtube-571_jpg.rf.05b2a9ffc13b71ed88701ac00e713eba.jpg: 1 duplicate labels removed\n"
          ]
        },
        {
          "output_type": "stream",
          "name": "stderr",
          "text": [
            "\n"
          ]
        },
        {
          "output_type": "stream",
          "name": "stdout",
          "text": [
            "\u001b[34m\u001b[1mtrain: \u001b[0mNew cache created: /content/gdrive/My Drive/PPE Detection/data/Construction Site Safety.v29i.yolov8/train/labels.cache\n",
            "\u001b[34m\u001b[1malbumentations: \u001b[0mBlur(p=0.01, blur_limit=(3, 7)), MedianBlur(p=0.01, blur_limit=(3, 7)), ToGray(p=0.01), CLAHE(p=0.01, clip_limit=(1, 4.0), tile_grid_size=(8, 8))\n"
          ]
        },
        {
          "output_type": "stream",
          "name": "stderr",
          "text": [
            "\u001b[34m\u001b[1mval: \u001b[0mScanning /content/gdrive/My Drive/PPE Detection/data/Construction Site Safety.v29i.yolov8/valid/labels... 114 images, 10 backgrounds, 0 corrupt: 100%|██████████| 114/114 [00:24<00:00,  4.63it/s]"
          ]
        },
        {
          "output_type": "stream",
          "name": "stdout",
          "text": [
            "\u001b[34m\u001b[1mval: \u001b[0mNew cache created: /content/gdrive/My Drive/PPE Detection/data/Construction Site Safety.v29i.yolov8/valid/labels.cache\n"
          ]
        },
        {
          "output_type": "stream",
          "name": "stderr",
          "text": [
            "\n"
          ]
        },
        {
          "output_type": "stream",
          "name": "stdout",
          "text": [
            "Plotting labels to runs/detect/Experiment-11_PPE_Detector_yolov8l_300_epochs/labels.jpg... \n",
            "\u001b[34m\u001b[1moptimizer:\u001b[0m 'optimizer=auto' found, ignoring 'lr0=0.001' and 'momentum=0.937' and determining best 'optimizer', 'lr0' and 'momentum' automatically... \n",
            "\u001b[34m\u001b[1moptimizer:\u001b[0m AdamW(lr=0.000714, momentum=0.9) with parameter groups 97 weight(decay=0.0), 104 weight(decay=0.0005), 103 bias(decay=0.0)\n",
            "\u001b[34m\u001b[1mTensorBoard: \u001b[0mmodel graph visualization added ✅\n",
            "Image sizes 640 train, 640 val\n",
            "Using 2 dataloader workers\n",
            "Logging results to \u001b[1mruns/detect/Experiment-11_PPE_Detector_yolov8l_300_epochs\u001b[0m\n",
            "Starting training for 300 epochs...\n",
            "\n",
            "      Epoch    GPU_mem   box_loss   cls_loss   dfl_loss  Instances       Size\n"
          ]
        },
        {
          "output_type": "stream",
          "name": "stderr",
          "text": [
            "      1/300      10.9G      1.289      1.949        1.5        304        640: 100%|██████████| 98/98 [01:24<00:00,  1.16it/s]\n",
            "                 Class     Images  Instances      Box(P          R      mAP50  mAP50-95): 100%|██████████| 4/4 [00:03<00:00,  1.13it/s]"
          ]
        },
        {
          "output_type": "stream",
          "name": "stdout",
          "text": [
            "                   all        114        697       0.57      0.389        0.4      0.155\n"
          ]
        },
        {
          "output_type": "stream",
          "name": "stderr",
          "text": [
            "\n"
          ]
        },
        {
          "output_type": "stream",
          "name": "stdout",
          "text": [
            "\n",
            "      Epoch    GPU_mem   box_loss   cls_loss   dfl_loss  Instances       Size\n"
          ]
        },
        {
          "output_type": "stream",
          "name": "stderr",
          "text": [
            "      2/300      11.4G      1.298      1.648      1.496        425        640: 100%|██████████| 98/98 [01:21<00:00,  1.20it/s]\n",
            "                 Class     Images  Instances      Box(P          R      mAP50  mAP50-95): 100%|██████████| 4/4 [00:03<00:00,  1.13it/s]"
          ]
        },
        {
          "output_type": "stream",
          "name": "stdout",
          "text": [
            "                   all        114        697      0.545       0.34      0.352      0.136\n"
          ]
        },
        {
          "output_type": "stream",
          "name": "stderr",
          "text": [
            "\n"
          ]
        },
        {
          "output_type": "stream",
          "name": "stdout",
          "text": [
            "\n",
            "      Epoch    GPU_mem   box_loss   cls_loss   dfl_loss  Instances       Size\n"
          ]
        },
        {
          "output_type": "stream",
          "name": "stderr",
          "text": [
            "      3/300      11.2G       1.31      1.672      1.508        341        640: 100%|██████████| 98/98 [01:23<00:00,  1.18it/s]\n",
            "                 Class     Images  Instances      Box(P          R      mAP50  mAP50-95): 100%|██████████| 4/4 [00:02<00:00,  1.49it/s]"
          ]
        },
        {
          "output_type": "stream",
          "name": "stdout",
          "text": [
            "                   all        114        697      0.422      0.405      0.368      0.174\n"
          ]
        },
        {
          "output_type": "stream",
          "name": "stderr",
          "text": [
            "\n"
          ]
        },
        {
          "output_type": "stream",
          "name": "stdout",
          "text": [
            "\n",
            "      Epoch    GPU_mem   box_loss   cls_loss   dfl_loss  Instances       Size\n"
          ]
        },
        {
          "output_type": "stream",
          "name": "stderr",
          "text": [
            "      4/300      10.9G      1.318       1.65      1.497        188        640: 100%|██████████| 98/98 [01:23<00:00,  1.17it/s]\n",
            "                 Class     Images  Instances      Box(P          R      mAP50  mAP50-95): 100%|██████████| 4/4 [00:02<00:00,  1.45it/s]"
          ]
        },
        {
          "output_type": "stream",
          "name": "stdout",
          "text": [
            "                   all        114        697      0.492      0.418        0.4      0.164\n"
          ]
        },
        {
          "output_type": "stream",
          "name": "stderr",
          "text": [
            "\n"
          ]
        },
        {
          "output_type": "stream",
          "name": "stdout",
          "text": [
            "\n",
            "      Epoch    GPU_mem   box_loss   cls_loss   dfl_loss  Instances       Size\n"
          ]
        },
        {
          "output_type": "stream",
          "name": "stderr",
          "text": [
            "      5/300      11.2G      1.251      1.531      1.459        186        640: 100%|██████████| 98/98 [01:23<00:00,  1.17it/s]\n",
            "                 Class     Images  Instances      Box(P          R      mAP50  mAP50-95): 100%|██████████| 4/4 [00:02<00:00,  1.54it/s]"
          ]
        },
        {
          "output_type": "stream",
          "name": "stdout",
          "text": [
            "                   all        114        697      0.621       0.46      0.481      0.205\n"
          ]
        },
        {
          "output_type": "stream",
          "name": "stderr",
          "text": [
            "\n"
          ]
        },
        {
          "output_type": "stream",
          "name": "stdout",
          "text": [
            "\n",
            "      Epoch    GPU_mem   box_loss   cls_loss   dfl_loss  Instances       Size\n"
          ]
        },
        {
          "output_type": "stream",
          "name": "stderr",
          "text": [
            "      6/300      11.2G      1.239      1.506      1.448        322        640: 100%|██████████| 98/98 [01:23<00:00,  1.17it/s]\n",
            "                 Class     Images  Instances      Box(P          R      mAP50  mAP50-95): 100%|██████████| 4/4 [00:03<00:00,  1.20it/s]"
          ]
        },
        {
          "output_type": "stream",
          "name": "stdout",
          "text": [
            "                   all        114        697      0.663      0.443      0.504      0.213\n"
          ]
        },
        {
          "output_type": "stream",
          "name": "stderr",
          "text": [
            "\n"
          ]
        },
        {
          "output_type": "stream",
          "name": "stdout",
          "text": [
            "\n",
            "      Epoch    GPU_mem   box_loss   cls_loss   dfl_loss  Instances       Size\n"
          ]
        },
        {
          "output_type": "stream",
          "name": "stderr",
          "text": [
            "      7/300      11.2G      1.207      1.412      1.425        217        640: 100%|██████████| 98/98 [01:23<00:00,  1.18it/s]\n",
            "                 Class     Images  Instances      Box(P          R      mAP50  mAP50-95): 100%|██████████| 4/4 [00:03<00:00,  1.25it/s]"
          ]
        },
        {
          "output_type": "stream",
          "name": "stdout",
          "text": [
            "                   all        114        697      0.683        0.5      0.547      0.263\n"
          ]
        },
        {
          "output_type": "stream",
          "name": "stderr",
          "text": [
            "\n"
          ]
        },
        {
          "output_type": "stream",
          "name": "stdout",
          "text": [
            "\n",
            "      Epoch    GPU_mem   box_loss   cls_loss   dfl_loss  Instances       Size\n"
          ]
        },
        {
          "output_type": "stream",
          "name": "stderr",
          "text": [
            "      8/300      10.9G      1.184      1.389      1.406        256        640: 100%|██████████| 98/98 [01:23<00:00,  1.17it/s]\n",
            "                 Class     Images  Instances      Box(P          R      mAP50  mAP50-95): 100%|██████████| 4/4 [00:02<00:00,  1.58it/s]"
          ]
        },
        {
          "output_type": "stream",
          "name": "stdout",
          "text": [
            "                   all        114        697      0.704      0.516       0.57      0.265\n"
          ]
        },
        {
          "output_type": "stream",
          "name": "stderr",
          "text": [
            "\n"
          ]
        },
        {
          "output_type": "stream",
          "name": "stdout",
          "text": [
            "\n",
            "      Epoch    GPU_mem   box_loss   cls_loss   dfl_loss  Instances       Size\n"
          ]
        },
        {
          "output_type": "stream",
          "name": "stderr",
          "text": [
            "      9/300      11.2G      1.163      1.339      1.391        157        640: 100%|██████████| 98/98 [01:23<00:00,  1.17it/s]\n",
            "                 Class     Images  Instances      Box(P          R      mAP50  mAP50-95): 100%|██████████| 4/4 [00:03<00:00,  1.26it/s]"
          ]
        },
        {
          "output_type": "stream",
          "name": "stdout",
          "text": [
            "                   all        114        697      0.711      0.561      0.591       0.27\n"
          ]
        },
        {
          "output_type": "stream",
          "name": "stderr",
          "text": [
            "\n"
          ]
        },
        {
          "output_type": "stream",
          "name": "stdout",
          "text": [
            "\n",
            "      Epoch    GPU_mem   box_loss   cls_loss   dfl_loss  Instances       Size\n"
          ]
        },
        {
          "output_type": "stream",
          "name": "stderr",
          "text": [
            "     10/300      11.2G      1.139      1.263      1.376        203        640: 100%|██████████| 98/98 [01:23<00:00,  1.17it/s]\n",
            "                 Class     Images  Instances      Box(P          R      mAP50  mAP50-95): 100%|██████████| 4/4 [00:02<00:00,  1.53it/s]"
          ]
        },
        {
          "output_type": "stream",
          "name": "stdout",
          "text": [
            "                   all        114        697      0.722      0.565      0.625      0.281\n"
          ]
        },
        {
          "output_type": "stream",
          "name": "stderr",
          "text": [
            "\n"
          ]
        },
        {
          "output_type": "stream",
          "name": "stdout",
          "text": [
            "\n",
            "      Epoch    GPU_mem   box_loss   cls_loss   dfl_loss  Instances       Size\n"
          ]
        },
        {
          "output_type": "stream",
          "name": "stderr",
          "text": [
            "     11/300        11G      1.116      1.199      1.347        410        640: 100%|██████████| 98/98 [01:23<00:00,  1.17it/s]\n",
            "                 Class     Images  Instances      Box(P          R      mAP50  mAP50-95): 100%|██████████| 4/4 [00:03<00:00,  1.30it/s]"
          ]
        },
        {
          "output_type": "stream",
          "name": "stdout",
          "text": [
            "                   all        114        697      0.782       0.57      0.642      0.288\n"
          ]
        },
        {
          "output_type": "stream",
          "name": "stderr",
          "text": [
            "\n"
          ]
        },
        {
          "output_type": "stream",
          "name": "stdout",
          "text": [
            "\n",
            "      Epoch    GPU_mem   box_loss   cls_loss   dfl_loss  Instances       Size\n"
          ]
        },
        {
          "output_type": "stream",
          "name": "stderr",
          "text": [
            "     12/300      11.2G      1.107      1.184      1.348        324        640: 100%|██████████| 98/98 [01:23<00:00,  1.18it/s]\n",
            "                 Class     Images  Instances      Box(P          R      mAP50  mAP50-95): 100%|██████████| 4/4 [00:02<00:00,  1.38it/s]"
          ]
        },
        {
          "output_type": "stream",
          "name": "stdout",
          "text": [
            "                   all        114        697       0.74      0.613      0.652      0.325\n"
          ]
        },
        {
          "output_type": "stream",
          "name": "stderr",
          "text": [
            "\n"
          ]
        },
        {
          "output_type": "stream",
          "name": "stdout",
          "text": [
            "\n",
            "      Epoch    GPU_mem   box_loss   cls_loss   dfl_loss  Instances       Size\n"
          ]
        },
        {
          "output_type": "stream",
          "name": "stderr",
          "text": [
            "     13/300      11.2G      1.085      1.161      1.336        348        640: 100%|██████████| 98/98 [01:23<00:00,  1.18it/s]\n",
            "                 Class     Images  Instances      Box(P          R      mAP50  mAP50-95): 100%|██████████| 4/4 [00:02<00:00,  1.58it/s]"
          ]
        },
        {
          "output_type": "stream",
          "name": "stdout",
          "text": [
            "                   all        114        697      0.754      0.604       0.65      0.295\n"
          ]
        },
        {
          "output_type": "stream",
          "name": "stderr",
          "text": [
            "\n"
          ]
        },
        {
          "output_type": "stream",
          "name": "stdout",
          "text": [
            "\n",
            "      Epoch    GPU_mem   box_loss   cls_loss   dfl_loss  Instances       Size\n"
          ]
        },
        {
          "output_type": "stream",
          "name": "stderr",
          "text": [
            "     14/300      10.9G      1.065      1.109       1.32        223        640: 100%|██████████| 98/98 [01:23<00:00,  1.17it/s]\n",
            "                 Class     Images  Instances      Box(P          R      mAP50  mAP50-95): 100%|██████████| 4/4 [00:02<00:00,  1.53it/s]"
          ]
        },
        {
          "output_type": "stream",
          "name": "stdout",
          "text": [
            "                   all        114        697      0.774      0.602      0.645      0.322\n"
          ]
        },
        {
          "output_type": "stream",
          "name": "stderr",
          "text": [
            "\n"
          ]
        },
        {
          "output_type": "stream",
          "name": "stdout",
          "text": [
            "\n",
            "      Epoch    GPU_mem   box_loss   cls_loss   dfl_loss  Instances       Size\n"
          ]
        },
        {
          "output_type": "stream",
          "name": "stderr",
          "text": [
            "     15/300      11.2G      1.067      1.105      1.317        284        640: 100%|██████████| 98/98 [01:23<00:00,  1.18it/s]\n",
            "                 Class     Images  Instances      Box(P          R      mAP50  mAP50-95): 100%|██████████| 4/4 [00:02<00:00,  1.58it/s]"
          ]
        },
        {
          "output_type": "stream",
          "name": "stdout",
          "text": [
            "                   all        114        697      0.775      0.585      0.657       0.34\n"
          ]
        },
        {
          "output_type": "stream",
          "name": "stderr",
          "text": [
            "\n"
          ]
        },
        {
          "output_type": "stream",
          "name": "stdout",
          "text": [
            "\n",
            "      Epoch    GPU_mem   box_loss   cls_loss   dfl_loss  Instances       Size\n"
          ]
        },
        {
          "output_type": "stream",
          "name": "stderr",
          "text": [
            "     16/300      11.3G      1.058      1.076      1.304        371        640: 100%|██████████| 98/98 [01:23<00:00,  1.17it/s]\n",
            "                 Class     Images  Instances      Box(P          R      mAP50  mAP50-95): 100%|██████████| 4/4 [00:02<00:00,  1.57it/s]"
          ]
        },
        {
          "output_type": "stream",
          "name": "stdout",
          "text": [
            "                   all        114        697      0.787      0.623      0.689      0.343\n"
          ]
        },
        {
          "output_type": "stream",
          "name": "stderr",
          "text": [
            "\n"
          ]
        },
        {
          "output_type": "stream",
          "name": "stdout",
          "text": [
            "\n",
            "      Epoch    GPU_mem   box_loss   cls_loss   dfl_loss  Instances       Size\n"
          ]
        },
        {
          "output_type": "stream",
          "name": "stderr",
          "text": [
            "     17/300      11.2G      1.055      1.057      1.309        139        640: 100%|██████████| 98/98 [01:23<00:00,  1.17it/s]\n",
            "                 Class     Images  Instances      Box(P          R      mAP50  mAP50-95): 100%|██████████| 4/4 [00:03<00:00,  1.23it/s]"
          ]
        },
        {
          "output_type": "stream",
          "name": "stdout",
          "text": [
            "                   all        114        697      0.765      0.619      0.656      0.315\n"
          ]
        },
        {
          "output_type": "stream",
          "name": "stderr",
          "text": [
            "\n"
          ]
        },
        {
          "output_type": "stream",
          "name": "stdout",
          "text": [
            "\n",
            "      Epoch    GPU_mem   box_loss   cls_loss   dfl_loss  Instances       Size\n"
          ]
        },
        {
          "output_type": "stream",
          "name": "stderr",
          "text": [
            "     18/300      11.3G      1.026      1.014      1.285        156        640: 100%|██████████| 98/98 [01:23<00:00,  1.17it/s]\n",
            "                 Class     Images  Instances      Box(P          R      mAP50  mAP50-95): 100%|██████████| 4/4 [00:02<00:00,  1.36it/s]"
          ]
        },
        {
          "output_type": "stream",
          "name": "stdout",
          "text": [
            "                   all        114        697      0.785      0.643        0.7      0.352\n"
          ]
        },
        {
          "output_type": "stream",
          "name": "stderr",
          "text": [
            "\n"
          ]
        },
        {
          "output_type": "stream",
          "name": "stdout",
          "text": [
            "\n",
            "      Epoch    GPU_mem   box_loss   cls_loss   dfl_loss  Instances       Size\n"
          ]
        },
        {
          "output_type": "stream",
          "name": "stderr",
          "text": [
            "     19/300      11.2G      1.011     0.9946       1.28        265        640: 100%|██████████| 98/98 [01:23<00:00,  1.17it/s]\n",
            "                 Class     Images  Instances      Box(P          R      mAP50  mAP50-95): 100%|██████████| 4/4 [00:03<00:00,  1.32it/s]"
          ]
        },
        {
          "output_type": "stream",
          "name": "stdout",
          "text": [
            "                   all        114        697      0.807      0.597      0.668      0.333\n"
          ]
        },
        {
          "output_type": "stream",
          "name": "stderr",
          "text": [
            "\n"
          ]
        },
        {
          "output_type": "stream",
          "name": "stdout",
          "text": [
            "\n",
            "      Epoch    GPU_mem   box_loss   cls_loss   dfl_loss  Instances       Size\n"
          ]
        },
        {
          "output_type": "stream",
          "name": "stderr",
          "text": [
            "     20/300      11.3G      1.003     0.9745      1.275        281        640: 100%|██████████| 98/98 [01:23<00:00,  1.18it/s]\n",
            "                 Class     Images  Instances      Box(P          R      mAP50  mAP50-95): 100%|██████████| 4/4 [00:02<00:00,  1.56it/s]"
          ]
        },
        {
          "output_type": "stream",
          "name": "stdout",
          "text": [
            "                   all        114        697       0.76      0.678      0.703      0.347\n"
          ]
        },
        {
          "output_type": "stream",
          "name": "stderr",
          "text": [
            "\n"
          ]
        },
        {
          "output_type": "stream",
          "name": "stdout",
          "text": [
            "\n",
            "      Epoch    GPU_mem   box_loss   cls_loss   dfl_loss  Instances       Size\n"
          ]
        },
        {
          "output_type": "stream",
          "name": "stderr",
          "text": [
            "     21/300      11.2G     0.9798     0.9317      1.252        223        640: 100%|██████████| 98/98 [01:23<00:00,  1.18it/s]\n",
            "                 Class     Images  Instances      Box(P          R      mAP50  mAP50-95): 100%|██████████| 4/4 [00:02<00:00,  1.36it/s]"
          ]
        },
        {
          "output_type": "stream",
          "name": "stdout",
          "text": [
            "                   all        114        697      0.835      0.627        0.7      0.353\n"
          ]
        },
        {
          "output_type": "stream",
          "name": "stderr",
          "text": [
            "\n"
          ]
        },
        {
          "output_type": "stream",
          "name": "stdout",
          "text": [
            "\n",
            "      Epoch    GPU_mem   box_loss   cls_loss   dfl_loss  Instances       Size\n"
          ]
        },
        {
          "output_type": "stream",
          "name": "stderr",
          "text": [
            "     22/300      11.3G     0.9721     0.9191      1.247        303        640: 100%|██████████| 98/98 [01:23<00:00,  1.18it/s]\n",
            "                 Class     Images  Instances      Box(P          R      mAP50  mAP50-95): 100%|██████████| 4/4 [00:02<00:00,  1.56it/s]"
          ]
        },
        {
          "output_type": "stream",
          "name": "stdout",
          "text": [
            "                   all        114        697       0.79      0.638      0.702      0.357\n"
          ]
        },
        {
          "output_type": "stream",
          "name": "stderr",
          "text": [
            "\n"
          ]
        },
        {
          "output_type": "stream",
          "name": "stdout",
          "text": [
            "\n",
            "      Epoch    GPU_mem   box_loss   cls_loss   dfl_loss  Instances       Size\n"
          ]
        },
        {
          "output_type": "stream",
          "name": "stderr",
          "text": [
            "     23/300      11.3G     0.9621     0.8974      1.239        243        640: 100%|██████████| 98/98 [01:23<00:00,  1.18it/s]\n",
            "                 Class     Images  Instances      Box(P          R      mAP50  mAP50-95): 100%|██████████| 4/4 [00:02<00:00,  1.51it/s]"
          ]
        },
        {
          "output_type": "stream",
          "name": "stdout",
          "text": [
            "                   all        114        697       0.83      0.622      0.706      0.359\n"
          ]
        },
        {
          "output_type": "stream",
          "name": "stderr",
          "text": [
            "\n"
          ]
        },
        {
          "output_type": "stream",
          "name": "stdout",
          "text": [
            "\n",
            "      Epoch    GPU_mem   box_loss   cls_loss   dfl_loss  Instances       Size\n"
          ]
        },
        {
          "output_type": "stream",
          "name": "stderr",
          "text": [
            "     24/300      11.3G     0.9487     0.8795      1.233        317        640: 100%|██████████| 98/98 [01:23<00:00,  1.18it/s]\n",
            "                 Class     Images  Instances      Box(P          R      mAP50  mAP50-95): 100%|██████████| 4/4 [00:03<00:00,  1.24it/s]"
          ]
        },
        {
          "output_type": "stream",
          "name": "stdout",
          "text": [
            "                   all        114        697      0.834       0.65      0.726      0.366\n"
          ]
        },
        {
          "output_type": "stream",
          "name": "stderr",
          "text": [
            "\n"
          ]
        },
        {
          "output_type": "stream",
          "name": "stdout",
          "text": [
            "\n",
            "      Epoch    GPU_mem   box_loss   cls_loss   dfl_loss  Instances       Size\n"
          ]
        },
        {
          "output_type": "stream",
          "name": "stderr",
          "text": [
            "     25/300      11.2G     0.9459     0.8615      1.228        300        640: 100%|██████████| 98/98 [01:23<00:00,  1.17it/s]\n",
            "                 Class     Images  Instances      Box(P          R      mAP50  mAP50-95): 100%|██████████| 4/4 [00:02<00:00,  1.54it/s]"
          ]
        },
        {
          "output_type": "stream",
          "name": "stdout",
          "text": [
            "                   all        114        697      0.826      0.684      0.724      0.382\n"
          ]
        },
        {
          "output_type": "stream",
          "name": "stderr",
          "text": [
            "\n"
          ]
        },
        {
          "output_type": "stream",
          "name": "stdout",
          "text": [
            "\n",
            "      Epoch    GPU_mem   box_loss   cls_loss   dfl_loss  Instances       Size\n"
          ]
        },
        {
          "output_type": "stream",
          "name": "stderr",
          "text": [
            "     26/300      11.2G     0.9496     0.8836      1.233        157        640: 100%|██████████| 98/98 [01:23<00:00,  1.17it/s]\n",
            "                 Class     Images  Instances      Box(P          R      mAP50  mAP50-95): 100%|██████████| 4/4 [00:02<00:00,  1.58it/s]"
          ]
        },
        {
          "output_type": "stream",
          "name": "stdout",
          "text": [
            "                   all        114        697      0.865      0.673       0.72      0.382\n"
          ]
        },
        {
          "output_type": "stream",
          "name": "stderr",
          "text": [
            "\n"
          ]
        },
        {
          "output_type": "stream",
          "name": "stdout",
          "text": [
            "\n",
            "      Epoch    GPU_mem   box_loss   cls_loss   dfl_loss  Instances       Size\n"
          ]
        },
        {
          "output_type": "stream",
          "name": "stderr",
          "text": [
            "     27/300      11.1G     0.9336     0.8522      1.218        286        640: 100%|██████████| 98/98 [01:23<00:00,  1.18it/s]\n",
            "                 Class     Images  Instances      Box(P          R      mAP50  mAP50-95): 100%|██████████| 4/4 [00:02<00:00,  1.39it/s]"
          ]
        },
        {
          "output_type": "stream",
          "name": "stdout",
          "text": [
            "                   all        114        697      0.863      0.656      0.731      0.371\n"
          ]
        },
        {
          "output_type": "stream",
          "name": "stderr",
          "text": [
            "\n"
          ]
        },
        {
          "output_type": "stream",
          "name": "stdout",
          "text": [
            "\n",
            "      Epoch    GPU_mem   box_loss   cls_loss   dfl_loss  Instances       Size\n"
          ]
        },
        {
          "output_type": "stream",
          "name": "stderr",
          "text": [
            "     28/300      11.2G     0.9266     0.8397      1.216        188        640: 100%|██████████| 98/98 [01:23<00:00,  1.18it/s]\n",
            "                 Class     Images  Instances      Box(P          R      mAP50  mAP50-95): 100%|██████████| 4/4 [00:02<00:00,  1.58it/s]"
          ]
        },
        {
          "output_type": "stream",
          "name": "stdout",
          "text": [
            "                   all        114        697      0.826      0.661      0.731      0.391\n"
          ]
        },
        {
          "output_type": "stream",
          "name": "stderr",
          "text": [
            "\n"
          ]
        },
        {
          "output_type": "stream",
          "name": "stdout",
          "text": [
            "\n",
            "      Epoch    GPU_mem   box_loss   cls_loss   dfl_loss  Instances       Size\n"
          ]
        },
        {
          "output_type": "stream",
          "name": "stderr",
          "text": [
            "     29/300      11.3G     0.9203     0.8245      1.207        314        640: 100%|██████████| 98/98 [01:23<00:00,  1.18it/s]\n",
            "                 Class     Images  Instances      Box(P          R      mAP50  mAP50-95): 100%|██████████| 4/4 [00:02<00:00,  1.57it/s]"
          ]
        },
        {
          "output_type": "stream",
          "name": "stdout",
          "text": [
            "                   all        114        697      0.811       0.63      0.694      0.375\n"
          ]
        },
        {
          "output_type": "stream",
          "name": "stderr",
          "text": [
            "\n"
          ]
        },
        {
          "output_type": "stream",
          "name": "stdout",
          "text": [
            "\n",
            "      Epoch    GPU_mem   box_loss   cls_loss   dfl_loss  Instances       Size\n"
          ]
        },
        {
          "output_type": "stream",
          "name": "stderr",
          "text": [
            "     30/300      11.2G      0.903     0.8105      1.196        278        640: 100%|██████████| 98/98 [01:23<00:00,  1.18it/s]\n",
            "                 Class     Images  Instances      Box(P          R      mAP50  mAP50-95): 100%|██████████| 4/4 [00:02<00:00,  1.41it/s]"
          ]
        },
        {
          "output_type": "stream",
          "name": "stdout",
          "text": [
            "                   all        114        697      0.806      0.681       0.73      0.397\n"
          ]
        },
        {
          "output_type": "stream",
          "name": "stderr",
          "text": [
            "\n"
          ]
        },
        {
          "output_type": "stream",
          "name": "stdout",
          "text": [
            "\n",
            "      Epoch    GPU_mem   box_loss   cls_loss   dfl_loss  Instances       Size\n"
          ]
        },
        {
          "output_type": "stream",
          "name": "stderr",
          "text": [
            "     31/300      11.2G     0.9052     0.8061      1.201        177        640: 100%|██████████| 98/98 [01:23<00:00,  1.17it/s]\n",
            "                 Class     Images  Instances      Box(P          R      mAP50  mAP50-95): 100%|██████████| 4/4 [00:02<00:00,  1.38it/s]"
          ]
        },
        {
          "output_type": "stream",
          "name": "stdout",
          "text": [
            "                   all        114        697      0.823      0.673      0.745      0.411\n"
          ]
        },
        {
          "output_type": "stream",
          "name": "stderr",
          "text": [
            "\n"
          ]
        },
        {
          "output_type": "stream",
          "name": "stdout",
          "text": [
            "\n",
            "      Epoch    GPU_mem   box_loss   cls_loss   dfl_loss  Instances       Size\n"
          ]
        },
        {
          "output_type": "stream",
          "name": "stderr",
          "text": [
            "     32/300      11.3G     0.8927     0.7765      1.185        197        640: 100%|██████████| 98/98 [01:23<00:00,  1.18it/s]\n",
            "                 Class     Images  Instances      Box(P          R      mAP50  mAP50-95): 100%|██████████| 4/4 [00:02<00:00,  1.60it/s]"
          ]
        },
        {
          "output_type": "stream",
          "name": "stdout",
          "text": [
            "                   all        114        697      0.864      0.668      0.731      0.357\n"
          ]
        },
        {
          "output_type": "stream",
          "name": "stderr",
          "text": [
            "\n"
          ]
        },
        {
          "output_type": "stream",
          "name": "stdout",
          "text": [
            "\n",
            "      Epoch    GPU_mem   box_loss   cls_loss   dfl_loss  Instances       Size\n"
          ]
        },
        {
          "output_type": "stream",
          "name": "stderr",
          "text": [
            "     33/300      11.2G     0.8607     0.7592      1.179        194        640: 100%|██████████| 98/98 [01:23<00:00,  1.18it/s]\n",
            "                 Class     Images  Instances      Box(P          R      mAP50  mAP50-95): 100%|██████████| 4/4 [00:03<00:00,  1.16it/s]"
          ]
        },
        {
          "output_type": "stream",
          "name": "stdout",
          "text": [
            "                   all        114        697       0.87      0.672      0.746       0.42\n"
          ]
        },
        {
          "output_type": "stream",
          "name": "stderr",
          "text": [
            "\n"
          ]
        },
        {
          "output_type": "stream",
          "name": "stdout",
          "text": [
            "\n",
            "      Epoch    GPU_mem   box_loss   cls_loss   dfl_loss  Instances       Size\n"
          ]
        },
        {
          "output_type": "stream",
          "name": "stderr",
          "text": [
            "     34/300      11.2G     0.8577      0.748      1.172        174        640: 100%|██████████| 98/98 [01:23<00:00,  1.18it/s]\n",
            "                 Class     Images  Instances      Box(P          R      mAP50  mAP50-95): 100%|██████████| 4/4 [00:02<00:00,  1.56it/s]"
          ]
        },
        {
          "output_type": "stream",
          "name": "stdout",
          "text": [
            "                   all        114        697      0.854       0.67      0.735      0.421\n"
          ]
        },
        {
          "output_type": "stream",
          "name": "stderr",
          "text": [
            "\n"
          ]
        },
        {
          "output_type": "stream",
          "name": "stdout",
          "text": [
            "\n",
            "      Epoch    GPU_mem   box_loss   cls_loss   dfl_loss  Instances       Size\n"
          ]
        },
        {
          "output_type": "stream",
          "name": "stderr",
          "text": [
            "     35/300        11G     0.8668     0.7577      1.173        197        640: 100%|██████████| 98/98 [01:23<00:00,  1.17it/s]\n",
            "                 Class     Images  Instances      Box(P          R      mAP50  mAP50-95): 100%|██████████| 4/4 [00:02<00:00,  1.52it/s]"
          ]
        },
        {
          "output_type": "stream",
          "name": "stdout",
          "text": [
            "                   all        114        697      0.888      0.687       0.76      0.408\n"
          ]
        },
        {
          "output_type": "stream",
          "name": "stderr",
          "text": [
            "\n"
          ]
        },
        {
          "output_type": "stream",
          "name": "stdout",
          "text": [
            "\n",
            "      Epoch    GPU_mem   box_loss   cls_loss   dfl_loss  Instances       Size\n"
          ]
        },
        {
          "output_type": "stream",
          "name": "stderr",
          "text": [
            "     36/300      11.1G     0.8629     0.7505       1.17        200        640: 100%|██████████| 98/98 [01:23<00:00,  1.18it/s]\n",
            "                 Class     Images  Instances      Box(P          R      mAP50  mAP50-95): 100%|██████████| 4/4 [00:02<00:00,  1.55it/s]"
          ]
        },
        {
          "output_type": "stream",
          "name": "stdout",
          "text": [
            "                   all        114        697      0.865      0.655      0.742      0.418\n"
          ]
        },
        {
          "output_type": "stream",
          "name": "stderr",
          "text": [
            "\n"
          ]
        },
        {
          "output_type": "stream",
          "name": "stdout",
          "text": [
            "\n",
            "      Epoch    GPU_mem   box_loss   cls_loss   dfl_loss  Instances       Size\n"
          ]
        },
        {
          "output_type": "stream",
          "name": "stderr",
          "text": [
            "     37/300      10.9G     0.8514     0.7267      1.158        246        640: 100%|██████████| 98/98 [01:23<00:00,  1.17it/s]\n",
            "                 Class     Images  Instances      Box(P          R      mAP50  mAP50-95): 100%|██████████| 4/4 [00:03<00:00,  1.30it/s]"
          ]
        },
        {
          "output_type": "stream",
          "name": "stdout",
          "text": [
            "                   all        114        697      0.873      0.676       0.75      0.417\n"
          ]
        },
        {
          "output_type": "stream",
          "name": "stderr",
          "text": [
            "\n"
          ]
        },
        {
          "output_type": "stream",
          "name": "stdout",
          "text": [
            "\n",
            "      Epoch    GPU_mem   box_loss   cls_loss   dfl_loss  Instances       Size\n"
          ]
        },
        {
          "output_type": "stream",
          "name": "stderr",
          "text": [
            "     38/300      11.1G     0.8532     0.7392      1.168        274        640: 100%|██████████| 98/98 [01:23<00:00,  1.17it/s]\n",
            "                 Class     Images  Instances      Box(P          R      mAP50  mAP50-95): 100%|██████████| 4/4 [00:02<00:00,  1.54it/s]"
          ]
        },
        {
          "output_type": "stream",
          "name": "stdout",
          "text": [
            "                   all        114        697      0.908      0.658      0.743      0.416\n"
          ]
        },
        {
          "output_type": "stream",
          "name": "stderr",
          "text": [
            "\n"
          ]
        },
        {
          "output_type": "stream",
          "name": "stdout",
          "text": [
            "\n",
            "      Epoch    GPU_mem   box_loss   cls_loss   dfl_loss  Instances       Size\n"
          ]
        },
        {
          "output_type": "stream",
          "name": "stderr",
          "text": [
            "     39/300      11.2G     0.8498     0.7346      1.164        265        640: 100%|██████████| 98/98 [01:23<00:00,  1.18it/s]\n",
            "                 Class     Images  Instances      Box(P          R      mAP50  mAP50-95): 100%|██████████| 4/4 [00:03<00:00,  1.21it/s]"
          ]
        },
        {
          "output_type": "stream",
          "name": "stdout",
          "text": [
            "                   all        114        697      0.874      0.669      0.753      0.419\n"
          ]
        },
        {
          "output_type": "stream",
          "name": "stderr",
          "text": [
            "\n"
          ]
        },
        {
          "output_type": "stream",
          "name": "stdout",
          "text": [
            "\n",
            "      Epoch    GPU_mem   box_loss   cls_loss   dfl_loss  Instances       Size\n"
          ]
        },
        {
          "output_type": "stream",
          "name": "stderr",
          "text": [
            "     40/300      11.3G     0.8295     0.7193       1.15        322        640: 100%|██████████| 98/98 [01:22<00:00,  1.18it/s]\n",
            "                 Class     Images  Instances      Box(P          R      mAP50  mAP50-95): 100%|██████████| 4/4 [00:02<00:00,  1.57it/s]"
          ]
        },
        {
          "output_type": "stream",
          "name": "stdout",
          "text": [
            "                   all        114        697        0.9      0.685      0.775      0.454\n"
          ]
        },
        {
          "output_type": "stream",
          "name": "stderr",
          "text": [
            "\n"
          ]
        },
        {
          "output_type": "stream",
          "name": "stdout",
          "text": [
            "\n",
            "      Epoch    GPU_mem   box_loss   cls_loss   dfl_loss  Instances       Size\n"
          ]
        },
        {
          "output_type": "stream",
          "name": "stderr",
          "text": [
            "     41/300      11.3G     0.8367     0.6953      1.147        249        640: 100%|██████████| 98/98 [01:23<00:00,  1.17it/s]\n",
            "                 Class     Images  Instances      Box(P          R      mAP50  mAP50-95): 100%|██████████| 4/4 [00:02<00:00,  1.42it/s]"
          ]
        },
        {
          "output_type": "stream",
          "name": "stdout",
          "text": [
            "                   all        114        697      0.859      0.675      0.764      0.456\n"
          ]
        },
        {
          "output_type": "stream",
          "name": "stderr",
          "text": [
            "\n"
          ]
        },
        {
          "output_type": "stream",
          "name": "stdout",
          "text": [
            "\n",
            "      Epoch    GPU_mem   box_loss   cls_loss   dfl_loss  Instances       Size\n"
          ]
        },
        {
          "output_type": "stream",
          "name": "stderr",
          "text": [
            "     42/300      11.3G      0.836      0.701       1.15        250        640: 100%|██████████| 98/98 [01:23<00:00,  1.17it/s]\n",
            "                 Class     Images  Instances      Box(P          R      mAP50  mAP50-95): 100%|██████████| 4/4 [00:02<00:00,  1.46it/s]"
          ]
        },
        {
          "output_type": "stream",
          "name": "stdout",
          "text": [
            "                   all        114        697      0.879      0.683      0.759      0.449\n"
          ]
        },
        {
          "output_type": "stream",
          "name": "stderr",
          "text": [
            "\n"
          ]
        },
        {
          "output_type": "stream",
          "name": "stdout",
          "text": [
            "\n",
            "      Epoch    GPU_mem   box_loss   cls_loss   dfl_loss  Instances       Size\n"
          ]
        },
        {
          "output_type": "stream",
          "name": "stderr",
          "text": [
            "     43/300      11.2G     0.8101     0.6662      1.137        199        640: 100%|██████████| 98/98 [01:23<00:00,  1.18it/s]\n",
            "                 Class     Images  Instances      Box(P          R      mAP50  mAP50-95): 100%|██████████| 4/4 [00:02<00:00,  1.59it/s]"
          ]
        },
        {
          "output_type": "stream",
          "name": "stdout",
          "text": [
            "                   all        114        697      0.879      0.692      0.764      0.447\n"
          ]
        },
        {
          "output_type": "stream",
          "name": "stderr",
          "text": [
            "\n"
          ]
        },
        {
          "output_type": "stream",
          "name": "stdout",
          "text": [
            "\n",
            "      Epoch    GPU_mem   box_loss   cls_loss   dfl_loss  Instances       Size\n"
          ]
        },
        {
          "output_type": "stream",
          "name": "stderr",
          "text": [
            "     44/300      11.3G     0.8214     0.6877      1.139        234        640: 100%|██████████| 98/98 [01:23<00:00,  1.18it/s]\n",
            "                 Class     Images  Instances      Box(P          R      mAP50  mAP50-95): 100%|██████████| 4/4 [00:02<00:00,  1.51it/s]"
          ]
        },
        {
          "output_type": "stream",
          "name": "stdout",
          "text": [
            "                   all        114        697      0.873      0.687      0.764      0.434\n"
          ]
        },
        {
          "output_type": "stream",
          "name": "stderr",
          "text": [
            "\n"
          ]
        },
        {
          "output_type": "stream",
          "name": "stdout",
          "text": [
            "\n",
            "      Epoch    GPU_mem   box_loss   cls_loss   dfl_loss  Instances       Size\n"
          ]
        },
        {
          "output_type": "stream",
          "name": "stderr",
          "text": [
            "     45/300      11.2G     0.7963     0.6604      1.128        122        640: 100%|██████████| 98/98 [01:23<00:00,  1.18it/s]\n",
            "                 Class     Images  Instances      Box(P          R      mAP50  mAP50-95): 100%|██████████| 4/4 [00:02<00:00,  1.55it/s]"
          ]
        },
        {
          "output_type": "stream",
          "name": "stdout",
          "text": [
            "                   all        114        697      0.912      0.691      0.775      0.475\n"
          ]
        },
        {
          "output_type": "stream",
          "name": "stderr",
          "text": [
            "\n"
          ]
        },
        {
          "output_type": "stream",
          "name": "stdout",
          "text": [
            "\n",
            "      Epoch    GPU_mem   box_loss   cls_loss   dfl_loss  Instances       Size\n"
          ]
        },
        {
          "output_type": "stream",
          "name": "stderr",
          "text": [
            "     46/300      11.2G     0.7979     0.6638      1.128        308        640: 100%|██████████| 98/98 [01:23<00:00,  1.17it/s]\n",
            "                 Class     Images  Instances      Box(P          R      mAP50  mAP50-95): 100%|██████████| 4/4 [00:03<00:00,  1.24it/s]"
          ]
        },
        {
          "output_type": "stream",
          "name": "stdout",
          "text": [
            "                   all        114        697      0.903      0.685      0.761      0.441\n"
          ]
        },
        {
          "output_type": "stream",
          "name": "stderr",
          "text": [
            "\n"
          ]
        },
        {
          "output_type": "stream",
          "name": "stdout",
          "text": [
            "\n",
            "      Epoch    GPU_mem   box_loss   cls_loss   dfl_loss  Instances       Size\n"
          ]
        },
        {
          "output_type": "stream",
          "name": "stderr",
          "text": [
            "     47/300      11.1G     0.7833     0.6345      1.109        268        640: 100%|██████████| 98/98 [01:23<00:00,  1.18it/s]\n",
            "                 Class     Images  Instances      Box(P          R      mAP50  mAP50-95): 100%|██████████| 4/4 [00:02<00:00,  1.54it/s]"
          ]
        },
        {
          "output_type": "stream",
          "name": "stdout",
          "text": [
            "                   all        114        697      0.862      0.696      0.774      0.434\n"
          ]
        },
        {
          "output_type": "stream",
          "name": "stderr",
          "text": [
            "\n"
          ]
        },
        {
          "output_type": "stream",
          "name": "stdout",
          "text": [
            "\n",
            "      Epoch    GPU_mem   box_loss   cls_loss   dfl_loss  Instances       Size\n"
          ]
        },
        {
          "output_type": "stream",
          "name": "stderr",
          "text": [
            "     48/300      11.3G     0.7793     0.6451      1.114        320        640: 100%|██████████| 98/98 [01:23<00:00,  1.18it/s]\n",
            "                 Class     Images  Instances      Box(P          R      mAP50  mAP50-95): 100%|██████████| 4/4 [00:02<00:00,  1.41it/s]"
          ]
        },
        {
          "output_type": "stream",
          "name": "stdout",
          "text": [
            "                   all        114        697      0.874      0.708       0.78      0.437\n"
          ]
        },
        {
          "output_type": "stream",
          "name": "stderr",
          "text": [
            "\n"
          ]
        },
        {
          "output_type": "stream",
          "name": "stdout",
          "text": [
            "\n",
            "      Epoch    GPU_mem   box_loss   cls_loss   dfl_loss  Instances       Size\n"
          ]
        },
        {
          "output_type": "stream",
          "name": "stderr",
          "text": [
            "     49/300      11.2G     0.7819     0.6442      1.117        253        640: 100%|██████████| 98/98 [01:23<00:00,  1.18it/s]\n",
            "                 Class     Images  Instances      Box(P          R      mAP50  mAP50-95): 100%|██████████| 4/4 [00:02<00:00,  1.52it/s]"
          ]
        },
        {
          "output_type": "stream",
          "name": "stdout",
          "text": [
            "                   all        114        697      0.925      0.677      0.779      0.452\n"
          ]
        },
        {
          "output_type": "stream",
          "name": "stderr",
          "text": [
            "\n"
          ]
        },
        {
          "output_type": "stream",
          "name": "stdout",
          "text": [
            "\n",
            "      Epoch    GPU_mem   box_loss   cls_loss   dfl_loss  Instances       Size\n"
          ]
        },
        {
          "output_type": "stream",
          "name": "stderr",
          "text": [
            "     50/300      11.1G     0.7682     0.6214      1.105        231        640: 100%|██████████| 98/98 [01:23<00:00,  1.18it/s]\n",
            "                 Class     Images  Instances      Box(P          R      mAP50  mAP50-95): 100%|██████████| 4/4 [00:03<00:00,  1.14it/s]"
          ]
        },
        {
          "output_type": "stream",
          "name": "stdout",
          "text": [
            "                   all        114        697      0.865      0.702      0.777      0.467\n"
          ]
        },
        {
          "output_type": "stream",
          "name": "stderr",
          "text": [
            "\n"
          ]
        },
        {
          "output_type": "stream",
          "name": "stdout",
          "text": [
            "\n",
            "      Epoch    GPU_mem   box_loss   cls_loss   dfl_loss  Instances       Size\n"
          ]
        },
        {
          "output_type": "stream",
          "name": "stderr",
          "text": [
            "     51/300        11G     0.7746     0.6336      1.112        227        640: 100%|██████████| 98/98 [01:23<00:00,  1.18it/s]\n",
            "                 Class     Images  Instances      Box(P          R      mAP50  mAP50-95): 100%|██████████| 4/4 [00:02<00:00,  1.58it/s]"
          ]
        },
        {
          "output_type": "stream",
          "name": "stdout",
          "text": [
            "                   all        114        697      0.897      0.702      0.771      0.436\n"
          ]
        },
        {
          "output_type": "stream",
          "name": "stderr",
          "text": [
            "\n"
          ]
        },
        {
          "output_type": "stream",
          "name": "stdout",
          "text": [
            "\n",
            "      Epoch    GPU_mem   box_loss   cls_loss   dfl_loss  Instances       Size\n"
          ]
        },
        {
          "output_type": "stream",
          "name": "stderr",
          "text": [
            "     52/300      11.3G     0.7763     0.6275      1.103        272        640: 100%|██████████| 98/98 [01:23<00:00,  1.18it/s]\n",
            "                 Class     Images  Instances      Box(P          R      mAP50  mAP50-95): 100%|██████████| 4/4 [00:02<00:00,  1.54it/s]"
          ]
        },
        {
          "output_type": "stream",
          "name": "stdout",
          "text": [
            "                   all        114        697      0.874      0.686      0.763      0.472\n"
          ]
        },
        {
          "output_type": "stream",
          "name": "stderr",
          "text": [
            "\n"
          ]
        },
        {
          "output_type": "stream",
          "name": "stdout",
          "text": [
            "\n",
            "      Epoch    GPU_mem   box_loss   cls_loss   dfl_loss  Instances       Size\n"
          ]
        },
        {
          "output_type": "stream",
          "name": "stderr",
          "text": [
            "     53/300      11.2G     0.7632     0.6025      1.096        215        640: 100%|██████████| 98/98 [01:23<00:00,  1.17it/s]\n",
            "                 Class     Images  Instances      Box(P          R      mAP50  mAP50-95): 100%|██████████| 4/4 [00:02<00:00,  1.55it/s]"
          ]
        },
        {
          "output_type": "stream",
          "name": "stdout",
          "text": [
            "                   all        114        697      0.892      0.731      0.798       0.49\n"
          ]
        },
        {
          "output_type": "stream",
          "name": "stderr",
          "text": [
            "\n"
          ]
        },
        {
          "output_type": "stream",
          "name": "stdout",
          "text": [
            "\n",
            "      Epoch    GPU_mem   box_loss   cls_loss   dfl_loss  Instances       Size\n"
          ]
        },
        {
          "output_type": "stream",
          "name": "stderr",
          "text": [
            "     54/300      11.3G     0.7491     0.6059      1.091        256        640: 100%|██████████| 98/98 [01:23<00:00,  1.17it/s]\n",
            "                 Class     Images  Instances      Box(P          R      mAP50  mAP50-95): 100%|██████████| 4/4 [00:02<00:00,  1.50it/s]"
          ]
        },
        {
          "output_type": "stream",
          "name": "stdout",
          "text": [
            "                   all        114        697        0.9      0.717      0.788      0.471\n"
          ]
        },
        {
          "output_type": "stream",
          "name": "stderr",
          "text": [
            "\n"
          ]
        },
        {
          "output_type": "stream",
          "name": "stdout",
          "text": [
            "\n",
            "      Epoch    GPU_mem   box_loss   cls_loss   dfl_loss  Instances       Size\n"
          ]
        },
        {
          "output_type": "stream",
          "name": "stderr",
          "text": [
            "     55/300      11.2G     0.7401     0.5967      1.098        187        640: 100%|██████████| 98/98 [01:23<00:00,  1.18it/s]\n",
            "                 Class     Images  Instances      Box(P          R      mAP50  mAP50-95): 100%|██████████| 4/4 [00:02<00:00,  1.55it/s]"
          ]
        },
        {
          "output_type": "stream",
          "name": "stdout",
          "text": [
            "                   all        114        697      0.885      0.726      0.784      0.481\n"
          ]
        },
        {
          "output_type": "stream",
          "name": "stderr",
          "text": [
            "\n"
          ]
        },
        {
          "output_type": "stream",
          "name": "stdout",
          "text": [
            "\n",
            "      Epoch    GPU_mem   box_loss   cls_loss   dfl_loss  Instances       Size\n"
          ]
        },
        {
          "output_type": "stream",
          "name": "stderr",
          "text": [
            "     56/300      11.3G     0.7566     0.6054      1.098        159        640: 100%|██████████| 98/98 [01:23<00:00,  1.18it/s]\n",
            "                 Class     Images  Instances      Box(P          R      mAP50  mAP50-95): 100%|██████████| 4/4 [00:02<00:00,  1.59it/s]"
          ]
        },
        {
          "output_type": "stream",
          "name": "stdout",
          "text": [
            "                   all        114        697      0.892      0.721       0.78      0.467\n"
          ]
        },
        {
          "output_type": "stream",
          "name": "stderr",
          "text": [
            "\n"
          ]
        },
        {
          "output_type": "stream",
          "name": "stdout",
          "text": [
            "\n",
            "      Epoch    GPU_mem   box_loss   cls_loss   dfl_loss  Instances       Size\n"
          ]
        },
        {
          "output_type": "stream",
          "name": "stderr",
          "text": [
            "     57/300      11.2G     0.7364     0.5852      1.086        239        640: 100%|██████████| 98/98 [01:23<00:00,  1.18it/s]\n",
            "                 Class     Images  Instances      Box(P          R      mAP50  mAP50-95): 100%|██████████| 4/4 [00:03<00:00,  1.28it/s]"
          ]
        },
        {
          "output_type": "stream",
          "name": "stdout",
          "text": [
            "                   all        114        697      0.869      0.719      0.785       0.46\n"
          ]
        },
        {
          "output_type": "stream",
          "name": "stderr",
          "text": [
            "\n"
          ]
        },
        {
          "output_type": "stream",
          "name": "stdout",
          "text": [
            "\n",
            "      Epoch    GPU_mem   box_loss   cls_loss   dfl_loss  Instances       Size\n"
          ]
        },
        {
          "output_type": "stream",
          "name": "stderr",
          "text": [
            "     58/300      11.3G       0.72     0.5747      1.085        304        640: 100%|██████████| 98/98 [01:23<00:00,  1.18it/s]\n",
            "                 Class     Images  Instances      Box(P          R      mAP50  mAP50-95): 100%|██████████| 4/4 [00:02<00:00,  1.56it/s]"
          ]
        },
        {
          "output_type": "stream",
          "name": "stdout",
          "text": [
            "                   all        114        697      0.904      0.715      0.787      0.465\n"
          ]
        },
        {
          "output_type": "stream",
          "name": "stderr",
          "text": [
            "\n"
          ]
        },
        {
          "output_type": "stream",
          "name": "stdout",
          "text": [
            "\n",
            "      Epoch    GPU_mem   box_loss   cls_loss   dfl_loss  Instances       Size\n"
          ]
        },
        {
          "output_type": "stream",
          "name": "stderr",
          "text": [
            "     59/300      10.9G       0.73     0.5765      1.079        214        640: 100%|██████████| 98/98 [01:23<00:00,  1.18it/s]\n",
            "                 Class     Images  Instances      Box(P          R      mAP50  mAP50-95): 100%|██████████| 4/4 [00:02<00:00,  1.35it/s]"
          ]
        },
        {
          "output_type": "stream",
          "name": "stdout",
          "text": [
            "                   all        114        697      0.894      0.729       0.79      0.472\n"
          ]
        },
        {
          "output_type": "stream",
          "name": "stderr",
          "text": [
            "\n"
          ]
        },
        {
          "output_type": "stream",
          "name": "stdout",
          "text": [
            "\n",
            "      Epoch    GPU_mem   box_loss   cls_loss   dfl_loss  Instances       Size\n"
          ]
        },
        {
          "output_type": "stream",
          "name": "stderr",
          "text": [
            "     60/300      11.3G     0.7299     0.5762      1.081        147        640: 100%|██████████| 98/98 [01:23<00:00,  1.17it/s]\n",
            "                 Class     Images  Instances      Box(P          R      mAP50  mAP50-95): 100%|██████████| 4/4 [00:02<00:00,  1.57it/s]"
          ]
        },
        {
          "output_type": "stream",
          "name": "stdout",
          "text": [
            "                   all        114        697      0.868      0.745      0.803       0.48\n"
          ]
        },
        {
          "output_type": "stream",
          "name": "stderr",
          "text": [
            "\n"
          ]
        },
        {
          "output_type": "stream",
          "name": "stdout",
          "text": [
            "\n",
            "      Epoch    GPU_mem   box_loss   cls_loss   dfl_loss  Instances       Size\n"
          ]
        },
        {
          "output_type": "stream",
          "name": "stderr",
          "text": [
            "     61/300      11.3G     0.7054     0.5607      1.073        280        640: 100%|██████████| 98/98 [01:23<00:00,  1.18it/s]\n",
            "                 Class     Images  Instances      Box(P          R      mAP50  mAP50-95): 100%|██████████| 4/4 [00:02<00:00,  1.41it/s]"
          ]
        },
        {
          "output_type": "stream",
          "name": "stdout",
          "text": [
            "                   all        114        697      0.874      0.721      0.778      0.482\n"
          ]
        },
        {
          "output_type": "stream",
          "name": "stderr",
          "text": [
            "\n"
          ]
        },
        {
          "output_type": "stream",
          "name": "stdout",
          "text": [
            "\n",
            "      Epoch    GPU_mem   box_loss   cls_loss   dfl_loss  Instances       Size\n"
          ]
        },
        {
          "output_type": "stream",
          "name": "stderr",
          "text": [
            "     62/300      11.2G     0.7276     0.5855      1.081        275        640: 100%|██████████| 98/98 [01:23<00:00,  1.18it/s]\n",
            "                 Class     Images  Instances      Box(P          R      mAP50  mAP50-95): 100%|██████████| 4/4 [00:02<00:00,  1.58it/s]"
          ]
        },
        {
          "output_type": "stream",
          "name": "stdout",
          "text": [
            "                   all        114        697      0.896      0.736      0.797      0.475\n"
          ]
        },
        {
          "output_type": "stream",
          "name": "stderr",
          "text": [
            "\n"
          ]
        },
        {
          "output_type": "stream",
          "name": "stdout",
          "text": [
            "\n",
            "      Epoch    GPU_mem   box_loss   cls_loss   dfl_loss  Instances       Size\n"
          ]
        },
        {
          "output_type": "stream",
          "name": "stderr",
          "text": [
            "     63/300      10.9G     0.7156     0.5662      1.072        212        640: 100%|██████████| 98/98 [01:23<00:00,  1.18it/s]\n",
            "                 Class     Images  Instances      Box(P          R      mAP50  mAP50-95): 100%|██████████| 4/4 [00:02<00:00,  1.47it/s]"
          ]
        },
        {
          "output_type": "stream",
          "name": "stdout",
          "text": [
            "                   all        114        697      0.902      0.721      0.796        0.5\n"
          ]
        },
        {
          "output_type": "stream",
          "name": "stderr",
          "text": [
            "\n"
          ]
        },
        {
          "output_type": "stream",
          "name": "stdout",
          "text": [
            "\n",
            "      Epoch    GPU_mem   box_loss   cls_loss   dfl_loss  Instances       Size\n"
          ]
        },
        {
          "output_type": "stream",
          "name": "stderr",
          "text": [
            "     64/300      11.2G     0.7116     0.5635      1.069        207        640: 100%|██████████| 98/98 [01:23<00:00,  1.18it/s]\n",
            "                 Class     Images  Instances      Box(P          R      mAP50  mAP50-95): 100%|██████████| 4/4 [00:03<00:00,  1.25it/s]"
          ]
        },
        {
          "output_type": "stream",
          "name": "stdout",
          "text": [
            "                   all        114        697      0.883      0.723      0.801      0.501\n"
          ]
        },
        {
          "output_type": "stream",
          "name": "stderr",
          "text": [
            "\n"
          ]
        },
        {
          "output_type": "stream",
          "name": "stdout",
          "text": [
            "\n",
            "      Epoch    GPU_mem   box_loss   cls_loss   dfl_loss  Instances       Size\n"
          ]
        },
        {
          "output_type": "stream",
          "name": "stderr",
          "text": [
            "     65/300      11.2G     0.6923     0.5486      1.065        250        640: 100%|██████████| 98/98 [01:23<00:00,  1.18it/s]\n",
            "                 Class     Images  Instances      Box(P          R      mAP50  mAP50-95): 100%|██████████| 4/4 [00:02<00:00,  1.58it/s]"
          ]
        },
        {
          "output_type": "stream",
          "name": "stdout",
          "text": [
            "                   all        114        697       0.89      0.741       0.81      0.471\n"
          ]
        },
        {
          "output_type": "stream",
          "name": "stderr",
          "text": [
            "\n"
          ]
        },
        {
          "output_type": "stream",
          "name": "stdout",
          "text": [
            "\n",
            "      Epoch    GPU_mem   box_loss   cls_loss   dfl_loss  Instances       Size\n"
          ]
        },
        {
          "output_type": "stream",
          "name": "stderr",
          "text": [
            "     66/300      11.3G     0.7065     0.5573      1.069        243        640: 100%|██████████| 98/98 [01:23<00:00,  1.17it/s]\n",
            "                 Class     Images  Instances      Box(P          R      mAP50  mAP50-95): 100%|██████████| 4/4 [00:02<00:00,  1.39it/s]"
          ]
        },
        {
          "output_type": "stream",
          "name": "stdout",
          "text": [
            "                   all        114        697      0.899      0.725      0.798       0.49\n"
          ]
        },
        {
          "output_type": "stream",
          "name": "stderr",
          "text": [
            "\n"
          ]
        },
        {
          "output_type": "stream",
          "name": "stdout",
          "text": [
            "\n",
            "      Epoch    GPU_mem   box_loss   cls_loss   dfl_loss  Instances       Size\n"
          ]
        },
        {
          "output_type": "stream",
          "name": "stderr",
          "text": [
            "     67/300      11.2G     0.7042     0.5534      1.067        262        640: 100%|██████████| 98/98 [01:23<00:00,  1.17it/s]\n",
            "                 Class     Images  Instances      Box(P          R      mAP50  mAP50-95): 100%|██████████| 4/4 [00:02<00:00,  1.57it/s]"
          ]
        },
        {
          "output_type": "stream",
          "name": "stdout",
          "text": [
            "                   all        114        697      0.925      0.714      0.798      0.512\n"
          ]
        },
        {
          "output_type": "stream",
          "name": "stderr",
          "text": [
            "\n"
          ]
        },
        {
          "output_type": "stream",
          "name": "stdout",
          "text": [
            "\n",
            "      Epoch    GPU_mem   box_loss   cls_loss   dfl_loss  Instances       Size\n"
          ]
        },
        {
          "output_type": "stream",
          "name": "stderr",
          "text": [
            "     68/300      11.3G       0.69     0.5397      1.058        309        640: 100%|██████████| 98/98 [01:23<00:00,  1.18it/s]\n",
            "                 Class     Images  Instances      Box(P          R      mAP50  mAP50-95): 100%|██████████| 4/4 [00:02<00:00,  1.55it/s]"
          ]
        },
        {
          "output_type": "stream",
          "name": "stdout",
          "text": [
            "                   all        114        697      0.912      0.716      0.784      0.484\n"
          ]
        },
        {
          "output_type": "stream",
          "name": "stderr",
          "text": [
            "\n"
          ]
        },
        {
          "output_type": "stream",
          "name": "stdout",
          "text": [
            "\n",
            "      Epoch    GPU_mem   box_loss   cls_loss   dfl_loss  Instances       Size\n"
          ]
        },
        {
          "output_type": "stream",
          "name": "stderr",
          "text": [
            "     69/300      11.3G      0.692     0.5549      1.069        243        640: 100%|██████████| 98/98 [01:23<00:00,  1.18it/s]\n",
            "                 Class     Images  Instances      Box(P          R      mAP50  mAP50-95): 100%|██████████| 4/4 [00:02<00:00,  1.57it/s]"
          ]
        },
        {
          "output_type": "stream",
          "name": "stdout",
          "text": [
            "                   all        114        697      0.914      0.731      0.801      0.512\n"
          ]
        },
        {
          "output_type": "stream",
          "name": "stderr",
          "text": [
            "\n"
          ]
        },
        {
          "output_type": "stream",
          "name": "stdout",
          "text": [
            "\n",
            "      Epoch    GPU_mem   box_loss   cls_loss   dfl_loss  Instances       Size\n"
          ]
        },
        {
          "output_type": "stream",
          "name": "stderr",
          "text": [
            "     70/300      11.3G     0.6946     0.5508      1.061        228        640: 100%|██████████| 98/98 [01:23<00:00,  1.17it/s]\n",
            "                 Class     Images  Instances      Box(P          R      mAP50  mAP50-95): 100%|██████████| 4/4 [00:03<00:00,  1.27it/s]"
          ]
        },
        {
          "output_type": "stream",
          "name": "stdout",
          "text": [
            "                   all        114        697      0.902      0.722      0.799      0.515\n"
          ]
        },
        {
          "output_type": "stream",
          "name": "stderr",
          "text": [
            "\n"
          ]
        },
        {
          "output_type": "stream",
          "name": "stdout",
          "text": [
            "\n",
            "      Epoch    GPU_mem   box_loss   cls_loss   dfl_loss  Instances       Size\n"
          ]
        },
        {
          "output_type": "stream",
          "name": "stderr",
          "text": [
            "     71/300      11.2G     0.6861     0.5368      1.055        210        640: 100%|██████████| 98/98 [01:23<00:00,  1.17it/s]\n",
            "                 Class     Images  Instances      Box(P          R      mAP50  mAP50-95): 100%|██████████| 4/4 [00:02<00:00,  1.57it/s]"
          ]
        },
        {
          "output_type": "stream",
          "name": "stdout",
          "text": [
            "                   all        114        697      0.915      0.722      0.802      0.504\n"
          ]
        },
        {
          "output_type": "stream",
          "name": "stderr",
          "text": [
            "\n"
          ]
        },
        {
          "output_type": "stream",
          "name": "stdout",
          "text": [
            "\n",
            "      Epoch    GPU_mem   box_loss   cls_loss   dfl_loss  Instances       Size\n"
          ]
        },
        {
          "output_type": "stream",
          "name": "stderr",
          "text": [
            "     72/300      11.2G     0.6829     0.5388       1.05        228        640: 100%|██████████| 98/98 [01:23<00:00,  1.18it/s]\n",
            "                 Class     Images  Instances      Box(P          R      mAP50  mAP50-95): 100%|██████████| 4/4 [00:03<00:00,  1.23it/s]"
          ]
        },
        {
          "output_type": "stream",
          "name": "stdout",
          "text": [
            "                   all        114        697      0.952      0.731       0.82      0.509\n"
          ]
        },
        {
          "output_type": "stream",
          "name": "stderr",
          "text": [
            "\n"
          ]
        },
        {
          "output_type": "stream",
          "name": "stdout",
          "text": [
            "\n",
            "      Epoch    GPU_mem   box_loss   cls_loss   dfl_loss  Instances       Size\n"
          ]
        },
        {
          "output_type": "stream",
          "name": "stderr",
          "text": [
            "     73/300      11.2G     0.6815     0.5397      1.055        316        640: 100%|██████████| 98/98 [01:22<00:00,  1.18it/s]\n",
            "                 Class     Images  Instances      Box(P          R      mAP50  mAP50-95): 100%|██████████| 4/4 [00:02<00:00,  1.58it/s]"
          ]
        },
        {
          "output_type": "stream",
          "name": "stdout",
          "text": [
            "                   all        114        697      0.914       0.75      0.812      0.488\n"
          ]
        },
        {
          "output_type": "stream",
          "name": "stderr",
          "text": [
            "\n"
          ]
        },
        {
          "output_type": "stream",
          "name": "stdout",
          "text": [
            "\n",
            "      Epoch    GPU_mem   box_loss   cls_loss   dfl_loss  Instances       Size\n"
          ]
        },
        {
          "output_type": "stream",
          "name": "stderr",
          "text": [
            "     74/300      11.3G     0.6781     0.5207      1.051        289        640: 100%|██████████| 98/98 [01:23<00:00,  1.17it/s]\n",
            "                 Class     Images  Instances      Box(P          R      mAP50  mAP50-95): 100%|██████████| 4/4 [00:03<00:00,  1.31it/s]"
          ]
        },
        {
          "output_type": "stream",
          "name": "stdout",
          "text": [
            "                   all        114        697      0.891      0.758      0.813      0.505\n"
          ]
        },
        {
          "output_type": "stream",
          "name": "stderr",
          "text": [
            "\n"
          ]
        },
        {
          "output_type": "stream",
          "name": "stdout",
          "text": [
            "\n",
            "      Epoch    GPU_mem   box_loss   cls_loss   dfl_loss  Instances       Size\n"
          ]
        },
        {
          "output_type": "stream",
          "name": "stderr",
          "text": [
            "     75/300      11.2G     0.6813     0.5229      1.047        313        640: 100%|██████████| 98/98 [01:23<00:00,  1.18it/s]\n",
            "                 Class     Images  Instances      Box(P          R      mAP50  mAP50-95): 100%|██████████| 4/4 [00:02<00:00,  1.59it/s]"
          ]
        },
        {
          "output_type": "stream",
          "name": "stdout",
          "text": [
            "                   all        114        697       0.91      0.722      0.803      0.515\n"
          ]
        },
        {
          "output_type": "stream",
          "name": "stderr",
          "text": [
            "\n"
          ]
        },
        {
          "output_type": "stream",
          "name": "stdout",
          "text": [
            "\n",
            "      Epoch    GPU_mem   box_loss   cls_loss   dfl_loss  Instances       Size\n"
          ]
        },
        {
          "output_type": "stream",
          "name": "stderr",
          "text": [
            "     76/300      11.3G     0.6684     0.5196      1.045        282        640: 100%|██████████| 98/98 [01:23<00:00,  1.17it/s]\n",
            "                 Class     Images  Instances      Box(P          R      mAP50  mAP50-95): 100%|██████████| 4/4 [00:03<00:00,  1.25it/s]"
          ]
        },
        {
          "output_type": "stream",
          "name": "stdout",
          "text": [
            "                   all        114        697      0.901      0.743      0.801      0.485\n"
          ]
        },
        {
          "output_type": "stream",
          "name": "stderr",
          "text": [
            "\n"
          ]
        },
        {
          "output_type": "stream",
          "name": "stdout",
          "text": [
            "\n",
            "      Epoch    GPU_mem   box_loss   cls_loss   dfl_loss  Instances       Size\n"
          ]
        },
        {
          "output_type": "stream",
          "name": "stderr",
          "text": [
            "     77/300      11.2G     0.6727     0.5223       1.05        228        640: 100%|██████████| 98/98 [01:22<00:00,  1.18it/s]\n",
            "                 Class     Images  Instances      Box(P          R      mAP50  mAP50-95): 100%|██████████| 4/4 [00:02<00:00,  1.57it/s]"
          ]
        },
        {
          "output_type": "stream",
          "name": "stdout",
          "text": [
            "                   all        114        697      0.911      0.751      0.823      0.512\n"
          ]
        },
        {
          "output_type": "stream",
          "name": "stderr",
          "text": [
            "\n"
          ]
        },
        {
          "output_type": "stream",
          "name": "stdout",
          "text": [
            "\n",
            "      Epoch    GPU_mem   box_loss   cls_loss   dfl_loss  Instances       Size\n"
          ]
        },
        {
          "output_type": "stream",
          "name": "stderr",
          "text": [
            "     78/300      11.2G     0.6776     0.5217      1.044        234        640: 100%|██████████| 98/98 [01:23<00:00,  1.18it/s]\n",
            "                 Class     Images  Instances      Box(P          R      mAP50  mAP50-95): 100%|██████████| 4/4 [00:03<00:00,  1.24it/s]"
          ]
        },
        {
          "output_type": "stream",
          "name": "stdout",
          "text": [
            "                   all        114        697        0.9      0.767      0.821      0.523\n"
          ]
        },
        {
          "output_type": "stream",
          "name": "stderr",
          "text": [
            "\n"
          ]
        },
        {
          "output_type": "stream",
          "name": "stdout",
          "text": [
            "\n",
            "      Epoch    GPU_mem   box_loss   cls_loss   dfl_loss  Instances       Size\n"
          ]
        },
        {
          "output_type": "stream",
          "name": "stderr",
          "text": [
            "     79/300      11.2G     0.6573     0.5094      1.034        301        640: 100%|██████████| 98/98 [01:23<00:00,  1.18it/s]\n",
            "                 Class     Images  Instances      Box(P          R      mAP50  mAP50-95): 100%|██████████| 4/4 [00:02<00:00,  1.59it/s]"
          ]
        },
        {
          "output_type": "stream",
          "name": "stdout",
          "text": [
            "                   all        114        697      0.884      0.765      0.811      0.509\n"
          ]
        },
        {
          "output_type": "stream",
          "name": "stderr",
          "text": [
            "\n"
          ]
        },
        {
          "output_type": "stream",
          "name": "stdout",
          "text": [
            "\n",
            "      Epoch    GPU_mem   box_loss   cls_loss   dfl_loss  Instances       Size\n"
          ]
        },
        {
          "output_type": "stream",
          "name": "stderr",
          "text": [
            "     80/300      11.2G     0.6519     0.5046      1.039        242        640: 100%|██████████| 98/98 [01:23<00:00,  1.18it/s]\n",
            "                 Class     Images  Instances      Box(P          R      mAP50  mAP50-95): 100%|██████████| 4/4 [00:03<00:00,  1.24it/s]"
          ]
        },
        {
          "output_type": "stream",
          "name": "stdout",
          "text": [
            "                   all        114        697      0.898      0.757      0.821       0.51\n"
          ]
        },
        {
          "output_type": "stream",
          "name": "stderr",
          "text": [
            "\n"
          ]
        },
        {
          "output_type": "stream",
          "name": "stdout",
          "text": [
            "\n",
            "      Epoch    GPU_mem   box_loss   cls_loss   dfl_loss  Instances       Size\n"
          ]
        },
        {
          "output_type": "stream",
          "name": "stderr",
          "text": [
            "     81/300      11.2G     0.6471     0.4928      1.029        272        640: 100%|██████████| 98/98 [01:23<00:00,  1.18it/s]\n",
            "                 Class     Images  Instances      Box(P          R      mAP50  mAP50-95): 100%|██████████| 4/4 [00:02<00:00,  1.56it/s]"
          ]
        },
        {
          "output_type": "stream",
          "name": "stdout",
          "text": [
            "                   all        114        697      0.881      0.762      0.816      0.517\n"
          ]
        },
        {
          "output_type": "stream",
          "name": "stderr",
          "text": [
            "\n"
          ]
        },
        {
          "output_type": "stream",
          "name": "stdout",
          "text": [
            "\n",
            "      Epoch    GPU_mem   box_loss   cls_loss   dfl_loss  Instances       Size\n"
          ]
        },
        {
          "output_type": "stream",
          "name": "stderr",
          "text": [
            "     82/300      11.3G     0.6707     0.5077      1.037        218        640: 100%|██████████| 98/98 [01:23<00:00,  1.17it/s]\n",
            "                 Class     Images  Instances      Box(P          R      mAP50  mAP50-95): 100%|██████████| 4/4 [00:03<00:00,  1.24it/s]"
          ]
        },
        {
          "output_type": "stream",
          "name": "stdout",
          "text": [
            "                   all        114        697      0.893      0.743      0.803      0.511\n"
          ]
        },
        {
          "output_type": "stream",
          "name": "stderr",
          "text": [
            "\n"
          ]
        },
        {
          "output_type": "stream",
          "name": "stdout",
          "text": [
            "\n",
            "      Epoch    GPU_mem   box_loss   cls_loss   dfl_loss  Instances       Size\n"
          ]
        },
        {
          "output_type": "stream",
          "name": "stderr",
          "text": [
            "     83/300      11.3G     0.6512      0.496      1.031        222        640: 100%|██████████| 98/98 [01:22<00:00,  1.18it/s]\n",
            "                 Class     Images  Instances      Box(P          R      mAP50  mAP50-95): 100%|██████████| 4/4 [00:02<00:00,  1.54it/s]"
          ]
        },
        {
          "output_type": "stream",
          "name": "stdout",
          "text": [
            "                   all        114        697      0.918      0.766      0.822      0.522\n"
          ]
        },
        {
          "output_type": "stream",
          "name": "stderr",
          "text": [
            "\n"
          ]
        },
        {
          "output_type": "stream",
          "name": "stdout",
          "text": [
            "\n",
            "      Epoch    GPU_mem   box_loss   cls_loss   dfl_loss  Instances       Size\n"
          ]
        },
        {
          "output_type": "stream",
          "name": "stderr",
          "text": [
            "     84/300      11.3G     0.6325     0.4808      1.019        234        640: 100%|██████████| 98/98 [01:23<00:00,  1.18it/s]\n",
            "                 Class     Images  Instances      Box(P          R      mAP50  mAP50-95): 100%|██████████| 4/4 [00:03<00:00,  1.25it/s]"
          ]
        },
        {
          "output_type": "stream",
          "name": "stdout",
          "text": [
            "                   all        114        697      0.905      0.759      0.818      0.509\n"
          ]
        },
        {
          "output_type": "stream",
          "name": "stderr",
          "text": [
            "\n"
          ]
        },
        {
          "output_type": "stream",
          "name": "stdout",
          "text": [
            "\n",
            "      Epoch    GPU_mem   box_loss   cls_loss   dfl_loss  Instances       Size\n"
          ]
        },
        {
          "output_type": "stream",
          "name": "stderr",
          "text": [
            "     85/300      11.2G      0.646     0.4908      1.025        294        640: 100%|██████████| 98/98 [01:23<00:00,  1.17it/s]\n",
            "                 Class     Images  Instances      Box(P          R      mAP50  mAP50-95): 100%|██████████| 4/4 [00:02<00:00,  1.54it/s]"
          ]
        },
        {
          "output_type": "stream",
          "name": "stdout",
          "text": [
            "                   all        114        697      0.927       0.74      0.829      0.515\n"
          ]
        },
        {
          "output_type": "stream",
          "name": "stderr",
          "text": [
            "\n"
          ]
        },
        {
          "output_type": "stream",
          "name": "stdout",
          "text": [
            "\n",
            "      Epoch    GPU_mem   box_loss   cls_loss   dfl_loss  Instances       Size\n"
          ]
        },
        {
          "output_type": "stream",
          "name": "stderr",
          "text": [
            "     86/300      11.3G     0.6522     0.5068      1.033        233        640: 100%|██████████| 98/98 [01:23<00:00,  1.18it/s]\n",
            "                 Class     Images  Instances      Box(P          R      mAP50  mAP50-95): 100%|██████████| 4/4 [00:02<00:00,  1.35it/s]"
          ]
        },
        {
          "output_type": "stream",
          "name": "stdout",
          "text": [
            "                   all        114        697       0.92      0.742      0.815      0.498\n"
          ]
        },
        {
          "output_type": "stream",
          "name": "stderr",
          "text": [
            "\n"
          ]
        },
        {
          "output_type": "stream",
          "name": "stdout",
          "text": [
            "\n",
            "      Epoch    GPU_mem   box_loss   cls_loss   dfl_loss  Instances       Size\n"
          ]
        },
        {
          "output_type": "stream",
          "name": "stderr",
          "text": [
            "     87/300      10.9G     0.6329      0.486      1.024        227        640: 100%|██████████| 98/98 [01:23<00:00,  1.18it/s]\n",
            "                 Class     Images  Instances      Box(P          R      mAP50  mAP50-95): 100%|██████████| 4/4 [00:02<00:00,  1.57it/s]"
          ]
        },
        {
          "output_type": "stream",
          "name": "stdout",
          "text": [
            "                   all        114        697      0.933      0.733      0.815      0.517\n"
          ]
        },
        {
          "output_type": "stream",
          "name": "stderr",
          "text": [
            "\n"
          ]
        },
        {
          "output_type": "stream",
          "name": "stdout",
          "text": [
            "\n",
            "      Epoch    GPU_mem   box_loss   cls_loss   dfl_loss  Instances       Size\n"
          ]
        },
        {
          "output_type": "stream",
          "name": "stderr",
          "text": [
            "     88/300      11.3G     0.6503     0.4929      1.034        185        640: 100%|██████████| 98/98 [01:23<00:00,  1.18it/s]\n",
            "                 Class     Images  Instances      Box(P          R      mAP50  mAP50-95): 100%|██████████| 4/4 [00:02<00:00,  1.57it/s]"
          ]
        },
        {
          "output_type": "stream",
          "name": "stdout",
          "text": [
            "                   all        114        697      0.919       0.74       0.81      0.526\n"
          ]
        },
        {
          "output_type": "stream",
          "name": "stderr",
          "text": [
            "\n"
          ]
        },
        {
          "output_type": "stream",
          "name": "stdout",
          "text": [
            "\n",
            "      Epoch    GPU_mem   box_loss   cls_loss   dfl_loss  Instances       Size\n"
          ]
        },
        {
          "output_type": "stream",
          "name": "stderr",
          "text": [
            "     89/300      11.2G     0.6332     0.4843      1.022        179        640: 100%|██████████| 98/98 [01:24<00:00,  1.17it/s]\n",
            "                 Class     Images  Instances      Box(P          R      mAP50  mAP50-95): 100%|██████████| 4/4 [00:02<00:00,  1.46it/s]"
          ]
        },
        {
          "output_type": "stream",
          "name": "stdout",
          "text": [
            "                   all        114        697      0.895      0.755      0.813      0.523\n"
          ]
        },
        {
          "output_type": "stream",
          "name": "stderr",
          "text": [
            "\n"
          ]
        },
        {
          "output_type": "stream",
          "name": "stdout",
          "text": [
            "\n",
            "      Epoch    GPU_mem   box_loss   cls_loss   dfl_loss  Instances       Size\n"
          ]
        },
        {
          "output_type": "stream",
          "name": "stderr",
          "text": [
            "     90/300      11.2G     0.6391     0.4933      1.026        294        640: 100%|██████████| 98/98 [01:23<00:00,  1.18it/s]\n",
            "                 Class     Images  Instances      Box(P          R      mAP50  mAP50-95): 100%|██████████| 4/4 [00:02<00:00,  1.57it/s]"
          ]
        },
        {
          "output_type": "stream",
          "name": "stdout",
          "text": [
            "                   all        114        697      0.935      0.736      0.818      0.516\n"
          ]
        },
        {
          "output_type": "stream",
          "name": "stderr",
          "text": [
            "\n"
          ]
        },
        {
          "output_type": "stream",
          "name": "stdout",
          "text": [
            "\n",
            "      Epoch    GPU_mem   box_loss   cls_loss   dfl_loss  Instances       Size\n"
          ]
        },
        {
          "output_type": "stream",
          "name": "stderr",
          "text": [
            "     91/300      11.2G     0.6198     0.4765      1.021        238        640: 100%|██████████| 98/98 [01:23<00:00,  1.18it/s]\n",
            "                 Class     Images  Instances      Box(P          R      mAP50  mAP50-95): 100%|██████████| 4/4 [00:03<00:00,  1.25it/s]"
          ]
        },
        {
          "output_type": "stream",
          "name": "stdout",
          "text": [
            "                   all        114        697      0.905      0.733      0.814      0.541\n"
          ]
        },
        {
          "output_type": "stream",
          "name": "stderr",
          "text": [
            "\n"
          ]
        },
        {
          "output_type": "stream",
          "name": "stdout",
          "text": [
            "\n",
            "      Epoch    GPU_mem   box_loss   cls_loss   dfl_loss  Instances       Size\n"
          ]
        },
        {
          "output_type": "stream",
          "name": "stderr",
          "text": [
            "     92/300      11.3G     0.6225     0.4726      1.022        208        640: 100%|██████████| 98/98 [01:23<00:00,  1.18it/s]\n",
            "                 Class     Images  Instances      Box(P          R      mAP50  mAP50-95): 100%|██████████| 4/4 [00:02<00:00,  1.61it/s]"
          ]
        },
        {
          "output_type": "stream",
          "name": "stdout",
          "text": [
            "                   all        114        697      0.927      0.728       0.81      0.534\n"
          ]
        },
        {
          "output_type": "stream",
          "name": "stderr",
          "text": [
            "\n"
          ]
        },
        {
          "output_type": "stream",
          "name": "stdout",
          "text": [
            "\n",
            "      Epoch    GPU_mem   box_loss   cls_loss   dfl_loss  Instances       Size\n"
          ]
        },
        {
          "output_type": "stream",
          "name": "stderr",
          "text": [
            "     93/300        11G     0.6192     0.4707      1.015        176        640: 100%|██████████| 98/98 [01:23<00:00,  1.17it/s]\n",
            "                 Class     Images  Instances      Box(P          R      mAP50  mAP50-95): 100%|██████████| 4/4 [00:02<00:00,  1.60it/s]"
          ]
        },
        {
          "output_type": "stream",
          "name": "stdout",
          "text": [
            "                   all        114        697      0.936      0.727      0.821      0.539\n"
          ]
        },
        {
          "output_type": "stream",
          "name": "stderr",
          "text": [
            "\n"
          ]
        },
        {
          "output_type": "stream",
          "name": "stdout",
          "text": [
            "\n",
            "      Epoch    GPU_mem   box_loss   cls_loss   dfl_loss  Instances       Size\n"
          ]
        },
        {
          "output_type": "stream",
          "name": "stderr",
          "text": [
            "     94/300      11.2G     0.6115     0.4632      1.012        225        640: 100%|██████████| 98/98 [01:22<00:00,  1.18it/s]\n",
            "                 Class     Images  Instances      Box(P          R      mAP50  mAP50-95): 100%|██████████| 4/4 [00:03<00:00,  1.19it/s]"
          ]
        },
        {
          "output_type": "stream",
          "name": "stdout",
          "text": [
            "                   all        114        697      0.935      0.749      0.834      0.539\n"
          ]
        },
        {
          "output_type": "stream",
          "name": "stderr",
          "text": [
            "\n"
          ]
        },
        {
          "output_type": "stream",
          "name": "stdout",
          "text": [
            "\n",
            "      Epoch    GPU_mem   box_loss   cls_loss   dfl_loss  Instances       Size\n"
          ]
        },
        {
          "output_type": "stream",
          "name": "stderr",
          "text": [
            "     95/300      10.9G     0.6074     0.4651      1.011        243        640: 100%|██████████| 98/98 [01:23<00:00,  1.17it/s]\n",
            "                 Class     Images  Instances      Box(P          R      mAP50  mAP50-95): 100%|██████████| 4/4 [00:02<00:00,  1.58it/s]"
          ]
        },
        {
          "output_type": "stream",
          "name": "stdout",
          "text": [
            "                   all        114        697        0.9      0.763      0.823      0.517\n"
          ]
        },
        {
          "output_type": "stream",
          "name": "stderr",
          "text": [
            "\n"
          ]
        },
        {
          "output_type": "stream",
          "name": "stdout",
          "text": [
            "\n",
            "      Epoch    GPU_mem   box_loss   cls_loss   dfl_loss  Instances       Size\n"
          ]
        },
        {
          "output_type": "stream",
          "name": "stderr",
          "text": [
            "     96/300      11.3G     0.6136     0.4654      1.013        357        640: 100%|██████████| 98/98 [01:24<00:00,  1.17it/s]\n",
            "                 Class     Images  Instances      Box(P          R      mAP50  mAP50-95): 100%|██████████| 4/4 [00:03<00:00,  1.24it/s]"
          ]
        },
        {
          "output_type": "stream",
          "name": "stdout",
          "text": [
            "                   all        114        697       0.89      0.757      0.817      0.534\n"
          ]
        },
        {
          "output_type": "stream",
          "name": "stderr",
          "text": [
            "\n"
          ]
        },
        {
          "output_type": "stream",
          "name": "stdout",
          "text": [
            "\n",
            "      Epoch    GPU_mem   box_loss   cls_loss   dfl_loss  Instances       Size\n"
          ]
        },
        {
          "output_type": "stream",
          "name": "stderr",
          "text": [
            "     97/300      11.2G     0.6108     0.4624      1.009        243        640: 100%|██████████| 98/98 [01:23<00:00,  1.18it/s]\n",
            "                 Class     Images  Instances      Box(P          R      mAP50  mAP50-95): 100%|██████████| 4/4 [00:02<00:00,  1.57it/s]"
          ]
        },
        {
          "output_type": "stream",
          "name": "stdout",
          "text": [
            "                   all        114        697       0.88      0.756       0.82      0.546\n"
          ]
        },
        {
          "output_type": "stream",
          "name": "stderr",
          "text": [
            "\n"
          ]
        },
        {
          "output_type": "stream",
          "name": "stdout",
          "text": [
            "\n",
            "      Epoch    GPU_mem   box_loss   cls_loss   dfl_loss  Instances       Size\n"
          ]
        },
        {
          "output_type": "stream",
          "name": "stderr",
          "text": [
            "     98/300      11.3G     0.6014     0.4605      1.006        163        640: 100%|██████████| 98/98 [01:23<00:00,  1.18it/s]\n",
            "                 Class     Images  Instances      Box(P          R      mAP50  mAP50-95): 100%|██████████| 4/4 [00:03<00:00,  1.31it/s]"
          ]
        },
        {
          "output_type": "stream",
          "name": "stdout",
          "text": [
            "                   all        114        697      0.892      0.769      0.823      0.548\n"
          ]
        },
        {
          "output_type": "stream",
          "name": "stderr",
          "text": [
            "\n"
          ]
        },
        {
          "output_type": "stream",
          "name": "stdout",
          "text": [
            "\n",
            "      Epoch    GPU_mem   box_loss   cls_loss   dfl_loss  Instances       Size\n"
          ]
        },
        {
          "output_type": "stream",
          "name": "stderr",
          "text": [
            "     99/300      11.3G     0.6004     0.4478      1.005        226        640: 100%|██████████| 98/98 [01:24<00:00,  1.17it/s]\n",
            "                 Class     Images  Instances      Box(P          R      mAP50  mAP50-95): 100%|██████████| 4/4 [00:03<00:00,  1.30it/s]"
          ]
        },
        {
          "output_type": "stream",
          "name": "stdout",
          "text": [
            "                   all        114        697      0.927      0.744      0.823      0.542\n"
          ]
        },
        {
          "output_type": "stream",
          "name": "stderr",
          "text": [
            "\n"
          ]
        },
        {
          "output_type": "stream",
          "name": "stdout",
          "text": [
            "\n",
            "      Epoch    GPU_mem   box_loss   cls_loss   dfl_loss  Instances       Size\n"
          ]
        },
        {
          "output_type": "stream",
          "name": "stderr",
          "text": [
            "    100/300      11.3G     0.5977     0.4511      1.006        172        640: 100%|██████████| 98/98 [01:23<00:00,  1.18it/s]\n",
            "                 Class     Images  Instances      Box(P          R      mAP50  mAP50-95): 100%|██████████| 4/4 [00:02<00:00,  1.56it/s]"
          ]
        },
        {
          "output_type": "stream",
          "name": "stdout",
          "text": [
            "                   all        114        697      0.916      0.738      0.828      0.531\n"
          ]
        },
        {
          "output_type": "stream",
          "name": "stderr",
          "text": [
            "\n"
          ]
        },
        {
          "output_type": "stream",
          "name": "stdout",
          "text": [
            "\n",
            "      Epoch    GPU_mem   box_loss   cls_loss   dfl_loss  Instances       Size\n"
          ]
        },
        {
          "output_type": "stream",
          "name": "stderr",
          "text": [
            "    101/300      11.2G     0.6092     0.4594      1.001        193        640: 100%|██████████| 98/98 [01:23<00:00,  1.17it/s]\n",
            "                 Class     Images  Instances      Box(P          R      mAP50  mAP50-95): 100%|██████████| 4/4 [00:03<00:00,  1.29it/s]"
          ]
        },
        {
          "output_type": "stream",
          "name": "stdout",
          "text": [
            "                   all        114        697      0.887      0.777      0.831      0.544\n"
          ]
        },
        {
          "output_type": "stream",
          "name": "stderr",
          "text": [
            "\n"
          ]
        },
        {
          "output_type": "stream",
          "name": "stdout",
          "text": [
            "\n",
            "      Epoch    GPU_mem   box_loss   cls_loss   dfl_loss  Instances       Size\n"
          ]
        },
        {
          "output_type": "stream",
          "name": "stderr",
          "text": [
            "    102/300      11.2G     0.5965     0.4543     0.9998        433        640: 100%|██████████| 98/98 [01:23<00:00,  1.18it/s]\n",
            "                 Class     Images  Instances      Box(P          R      mAP50  mAP50-95): 100%|██████████| 4/4 [00:02<00:00,  1.52it/s]"
          ]
        },
        {
          "output_type": "stream",
          "name": "stdout",
          "text": [
            "                   all        114        697      0.943      0.733      0.823      0.528\n"
          ]
        },
        {
          "output_type": "stream",
          "name": "stderr",
          "text": [
            "\n"
          ]
        },
        {
          "output_type": "stream",
          "name": "stdout",
          "text": [
            "\n",
            "      Epoch    GPU_mem   box_loss   cls_loss   dfl_loss  Instances       Size\n"
          ]
        },
        {
          "output_type": "stream",
          "name": "stderr",
          "text": [
            "    103/300      10.8G     0.6048     0.4613      1.003        192        640: 100%|██████████| 98/98 [01:24<00:00,  1.17it/s]\n",
            "                 Class     Images  Instances      Box(P          R      mAP50  mAP50-95): 100%|██████████| 4/4 [00:02<00:00,  1.37it/s]"
          ]
        },
        {
          "output_type": "stream",
          "name": "stdout",
          "text": [
            "                   all        114        697      0.926      0.763      0.834      0.541\n"
          ]
        },
        {
          "output_type": "stream",
          "name": "stderr",
          "text": [
            "\n"
          ]
        },
        {
          "output_type": "stream",
          "name": "stdout",
          "text": [
            "\n",
            "      Epoch    GPU_mem   box_loss   cls_loss   dfl_loss  Instances       Size\n"
          ]
        },
        {
          "output_type": "stream",
          "name": "stderr",
          "text": [
            "    104/300      11.1G     0.5949     0.4462      1.003        192        640: 100%|██████████| 98/98 [01:23<00:00,  1.18it/s]\n",
            "                 Class     Images  Instances      Box(P          R      mAP50  mAP50-95): 100%|██████████| 4/4 [00:02<00:00,  1.54it/s]"
          ]
        },
        {
          "output_type": "stream",
          "name": "stdout",
          "text": [
            "                   all        114        697      0.924      0.763      0.827      0.546\n"
          ]
        },
        {
          "output_type": "stream",
          "name": "stderr",
          "text": [
            "\n"
          ]
        },
        {
          "output_type": "stream",
          "name": "stdout",
          "text": [
            "\n",
            "      Epoch    GPU_mem   box_loss   cls_loss   dfl_loss  Instances       Size\n"
          ]
        },
        {
          "output_type": "stream",
          "name": "stderr",
          "text": [
            "    105/300      11.2G     0.5846     0.4374     0.9949        229        640: 100%|██████████| 98/98 [01:23<00:00,  1.18it/s]\n",
            "                 Class     Images  Instances      Box(P          R      mAP50  mAP50-95): 100%|██████████| 4/4 [00:02<00:00,  1.55it/s]"
          ]
        },
        {
          "output_type": "stream",
          "name": "stdout",
          "text": [
            "                   all        114        697      0.943       0.75       0.84      0.549\n"
          ]
        },
        {
          "output_type": "stream",
          "name": "stderr",
          "text": [
            "\n"
          ]
        },
        {
          "output_type": "stream",
          "name": "stdout",
          "text": [
            "\n",
            "      Epoch    GPU_mem   box_loss   cls_loss   dfl_loss  Instances       Size\n"
          ]
        },
        {
          "output_type": "stream",
          "name": "stderr",
          "text": [
            "    106/300      11.2G     0.5848     0.4376     0.9905        234        640: 100%|██████████| 98/98 [01:23<00:00,  1.18it/s]\n",
            "                 Class     Images  Instances      Box(P          R      mAP50  mAP50-95): 100%|██████████| 4/4 [00:02<00:00,  1.57it/s]"
          ]
        },
        {
          "output_type": "stream",
          "name": "stdout",
          "text": [
            "                   all        114        697      0.929      0.763      0.832      0.561\n"
          ]
        },
        {
          "output_type": "stream",
          "name": "stderr",
          "text": [
            "\n"
          ]
        },
        {
          "output_type": "stream",
          "name": "stdout",
          "text": [
            "\n",
            "      Epoch    GPU_mem   box_loss   cls_loss   dfl_loss  Instances       Size\n"
          ]
        },
        {
          "output_type": "stream",
          "name": "stderr",
          "text": [
            "    107/300      11.2G     0.5975      0.447     0.9992        264        640: 100%|██████████| 98/98 [01:23<00:00,  1.18it/s]\n",
            "                 Class     Images  Instances      Box(P          R      mAP50  mAP50-95): 100%|██████████| 4/4 [00:03<00:00,  1.21it/s]"
          ]
        },
        {
          "output_type": "stream",
          "name": "stdout",
          "text": [
            "                   all        114        697       0.93      0.757      0.831      0.541\n"
          ]
        },
        {
          "output_type": "stream",
          "name": "stderr",
          "text": [
            "\n"
          ]
        },
        {
          "output_type": "stream",
          "name": "stdout",
          "text": [
            "\n",
            "      Epoch    GPU_mem   box_loss   cls_loss   dfl_loss  Instances       Size\n"
          ]
        },
        {
          "output_type": "stream",
          "name": "stderr",
          "text": [
            "    108/300      11.3G     0.5928     0.4434     0.9914        224        640: 100%|██████████| 98/98 [01:23<00:00,  1.17it/s]\n",
            "                 Class     Images  Instances      Box(P          R      mAP50  mAP50-95): 100%|██████████| 4/4 [00:02<00:00,  1.54it/s]"
          ]
        },
        {
          "output_type": "stream",
          "name": "stdout",
          "text": [
            "                   all        114        697       0.94      0.766      0.834      0.548\n"
          ]
        },
        {
          "output_type": "stream",
          "name": "stderr",
          "text": [
            "\n"
          ]
        },
        {
          "output_type": "stream",
          "name": "stdout",
          "text": [
            "\n",
            "      Epoch    GPU_mem   box_loss   cls_loss   dfl_loss  Instances       Size\n"
          ]
        },
        {
          "output_type": "stream",
          "name": "stderr",
          "text": [
            "    109/300      10.9G     0.5775     0.4319     0.9908        300        640: 100%|██████████| 98/98 [01:23<00:00,  1.18it/s]\n",
            "                 Class     Images  Instances      Box(P          R      mAP50  mAP50-95): 100%|██████████| 4/4 [00:02<00:00,  1.44it/s]"
          ]
        },
        {
          "output_type": "stream",
          "name": "stdout",
          "text": [
            "                   all        114        697      0.902      0.765      0.826      0.541\n"
          ]
        },
        {
          "output_type": "stream",
          "name": "stderr",
          "text": [
            "\n"
          ]
        },
        {
          "output_type": "stream",
          "name": "stdout",
          "text": [
            "\n",
            "      Epoch    GPU_mem   box_loss   cls_loss   dfl_loss  Instances       Size\n"
          ]
        },
        {
          "output_type": "stream",
          "name": "stderr",
          "text": [
            "    110/300      11.1G     0.5888     0.4376     0.9946        226        640: 100%|██████████| 98/98 [01:23<00:00,  1.18it/s]\n",
            "                 Class     Images  Instances      Box(P          R      mAP50  mAP50-95): 100%|██████████| 4/4 [00:02<00:00,  1.59it/s]"
          ]
        },
        {
          "output_type": "stream",
          "name": "stdout",
          "text": [
            "                   all        114        697      0.907      0.769      0.836      0.554\n"
          ]
        },
        {
          "output_type": "stream",
          "name": "stderr",
          "text": [
            "\n"
          ]
        },
        {
          "output_type": "stream",
          "name": "stdout",
          "text": [
            "\n",
            "      Epoch    GPU_mem   box_loss   cls_loss   dfl_loss  Instances       Size\n"
          ]
        },
        {
          "output_type": "stream",
          "name": "stderr",
          "text": [
            "    111/300      11.2G     0.5675      0.426      0.984        182        640: 100%|██████████| 98/98 [01:24<00:00,  1.17it/s]\n",
            "                 Class     Images  Instances      Box(P          R      mAP50  mAP50-95): 100%|██████████| 4/4 [00:02<00:00,  1.61it/s]"
          ]
        },
        {
          "output_type": "stream",
          "name": "stdout",
          "text": [
            "                   all        114        697      0.897      0.753      0.818      0.518\n"
          ]
        },
        {
          "output_type": "stream",
          "name": "stderr",
          "text": [
            "\n"
          ]
        },
        {
          "output_type": "stream",
          "name": "stdout",
          "text": [
            "\n",
            "      Epoch    GPU_mem   box_loss   cls_loss   dfl_loss  Instances       Size\n"
          ]
        },
        {
          "output_type": "stream",
          "name": "stderr",
          "text": [
            "    112/300      11.2G      0.568     0.4248     0.9807        151        640: 100%|██████████| 98/98 [01:23<00:00,  1.17it/s]\n",
            "                 Class     Images  Instances      Box(P          R      mAP50  mAP50-95): 100%|██████████| 4/4 [00:02<00:00,  1.43it/s]"
          ]
        },
        {
          "output_type": "stream",
          "name": "stdout",
          "text": [
            "                   all        114        697      0.932       0.76      0.831      0.544\n"
          ]
        },
        {
          "output_type": "stream",
          "name": "stderr",
          "text": [
            "\n"
          ]
        },
        {
          "output_type": "stream",
          "name": "stdout",
          "text": [
            "\n",
            "      Epoch    GPU_mem   box_loss   cls_loss   dfl_loss  Instances       Size\n"
          ]
        },
        {
          "output_type": "stream",
          "name": "stderr",
          "text": [
            "    113/300      11.2G     0.5667     0.4237     0.9855        238        640: 100%|██████████| 98/98 [01:23<00:00,  1.17it/s]\n",
            "                 Class     Images  Instances      Box(P          R      mAP50  mAP50-95): 100%|██████████| 4/4 [00:02<00:00,  1.57it/s]"
          ]
        },
        {
          "output_type": "stream",
          "name": "stdout",
          "text": [
            "                   all        114        697      0.902      0.781      0.837       0.57\n"
          ]
        },
        {
          "output_type": "stream",
          "name": "stderr",
          "text": [
            "\n"
          ]
        },
        {
          "output_type": "stream",
          "name": "stdout",
          "text": [
            "\n",
            "      Epoch    GPU_mem   box_loss   cls_loss   dfl_loss  Instances       Size\n"
          ]
        },
        {
          "output_type": "stream",
          "name": "stderr",
          "text": [
            "    114/300      11.3G     0.5659     0.4168     0.9852        350        640: 100%|██████████| 98/98 [01:23<00:00,  1.17it/s]\n",
            "                 Class     Images  Instances      Box(P          R      mAP50  mAP50-95): 100%|██████████| 4/4 [00:02<00:00,  1.57it/s]"
          ]
        },
        {
          "output_type": "stream",
          "name": "stdout",
          "text": [
            "                   all        114        697       0.91      0.778      0.832       0.55\n"
          ]
        },
        {
          "output_type": "stream",
          "name": "stderr",
          "text": [
            "\n"
          ]
        },
        {
          "output_type": "stream",
          "name": "stdout",
          "text": [
            "\n",
            "      Epoch    GPU_mem   box_loss   cls_loss   dfl_loss  Instances       Size\n"
          ]
        },
        {
          "output_type": "stream",
          "name": "stderr",
          "text": [
            "    115/300      11.2G     0.5724     0.4287       0.99        203        640: 100%|██████████| 98/98 [01:23<00:00,  1.18it/s]\n",
            "                 Class     Images  Instances      Box(P          R      mAP50  mAP50-95): 100%|██████████| 4/4 [00:02<00:00,  1.58it/s]"
          ]
        },
        {
          "output_type": "stream",
          "name": "stdout",
          "text": [
            "                   all        114        697      0.949      0.758      0.841      0.546\n"
          ]
        },
        {
          "output_type": "stream",
          "name": "stderr",
          "text": [
            "\n"
          ]
        },
        {
          "output_type": "stream",
          "name": "stdout",
          "text": [
            "\n",
            "      Epoch    GPU_mem   box_loss   cls_loss   dfl_loss  Instances       Size\n"
          ]
        },
        {
          "output_type": "stream",
          "name": "stderr",
          "text": [
            "    116/300      10.9G      0.566     0.4254     0.9833        261        640: 100%|██████████| 98/98 [01:23<00:00,  1.18it/s]\n",
            "                 Class     Images  Instances      Box(P          R      mAP50  mAP50-95): 100%|██████████| 4/4 [00:02<00:00,  1.36it/s]"
          ]
        },
        {
          "output_type": "stream",
          "name": "stdout",
          "text": [
            "                   all        114        697      0.932      0.778      0.838       0.53\n"
          ]
        },
        {
          "output_type": "stream",
          "name": "stderr",
          "text": [
            "\n"
          ]
        },
        {
          "output_type": "stream",
          "name": "stdout",
          "text": [
            "\n",
            "      Epoch    GPU_mem   box_loss   cls_loss   dfl_loss  Instances       Size\n"
          ]
        },
        {
          "output_type": "stream",
          "name": "stderr",
          "text": [
            "    117/300      11.2G     0.5661     0.4189      0.978        259        640: 100%|██████████| 98/98 [01:23<00:00,  1.17it/s]\n",
            "                 Class     Images  Instances      Box(P          R      mAP50  mAP50-95): 100%|██████████| 4/4 [00:02<00:00,  1.56it/s]"
          ]
        },
        {
          "output_type": "stream",
          "name": "stdout",
          "text": [
            "                   all        114        697      0.954       0.76      0.837      0.559\n"
          ]
        },
        {
          "output_type": "stream",
          "name": "stderr",
          "text": [
            "\n"
          ]
        },
        {
          "output_type": "stream",
          "name": "stdout",
          "text": [
            "\n",
            "      Epoch    GPU_mem   box_loss   cls_loss   dfl_loss  Instances       Size\n"
          ]
        },
        {
          "output_type": "stream",
          "name": "stderr",
          "text": [
            "    118/300      11.3G     0.5656     0.4198     0.9823        249        640: 100%|██████████| 98/98 [01:24<00:00,  1.16it/s]\n",
            "                 Class     Images  Instances      Box(P          R      mAP50  mAP50-95): 100%|██████████| 4/4 [00:02<00:00,  1.37it/s]"
          ]
        },
        {
          "output_type": "stream",
          "name": "stdout",
          "text": [
            "                   all        114        697      0.937      0.754      0.839      0.551\n"
          ]
        },
        {
          "output_type": "stream",
          "name": "stderr",
          "text": [
            "\n"
          ]
        },
        {
          "output_type": "stream",
          "name": "stdout",
          "text": [
            "\n",
            "      Epoch    GPU_mem   box_loss   cls_loss   dfl_loss  Instances       Size\n"
          ]
        },
        {
          "output_type": "stream",
          "name": "stderr",
          "text": [
            "    119/300      11.2G     0.5601     0.4171      0.976        214        640: 100%|██████████| 98/98 [01:23<00:00,  1.18it/s]\n",
            "                 Class     Images  Instances      Box(P          R      mAP50  mAP50-95): 100%|██████████| 4/4 [00:02<00:00,  1.57it/s]"
          ]
        },
        {
          "output_type": "stream",
          "name": "stdout",
          "text": [
            "                   all        114        697      0.928      0.765      0.837      0.549\n"
          ]
        },
        {
          "output_type": "stream",
          "name": "stderr",
          "text": [
            "\n"
          ]
        },
        {
          "output_type": "stream",
          "name": "stdout",
          "text": [
            "\n",
            "      Epoch    GPU_mem   box_loss   cls_loss   dfl_loss  Instances       Size\n"
          ]
        },
        {
          "output_type": "stream",
          "name": "stderr",
          "text": [
            "    120/300      11.2G     0.5581     0.4131     0.9737        260        640: 100%|██████████| 98/98 [01:23<00:00,  1.18it/s]\n",
            "                 Class     Images  Instances      Box(P          R      mAP50  mAP50-95): 100%|██████████| 4/4 [00:02<00:00,  1.42it/s]"
          ]
        },
        {
          "output_type": "stream",
          "name": "stdout",
          "text": [
            "                   all        114        697      0.915      0.769      0.839      0.562\n"
          ]
        },
        {
          "output_type": "stream",
          "name": "stderr",
          "text": [
            "\n"
          ]
        },
        {
          "output_type": "stream",
          "name": "stdout",
          "text": [
            "\n",
            "      Epoch    GPU_mem   box_loss   cls_loss   dfl_loss  Instances       Size\n"
          ]
        },
        {
          "output_type": "stream",
          "name": "stderr",
          "text": [
            "    121/300      11.1G     0.5495     0.4119     0.9712        217        640: 100%|██████████| 98/98 [01:23<00:00,  1.18it/s]\n",
            "                 Class     Images  Instances      Box(P          R      mAP50  mAP50-95): 100%|██████████| 4/4 [00:02<00:00,  1.49it/s]"
          ]
        },
        {
          "output_type": "stream",
          "name": "stdout",
          "text": [
            "                   all        114        697      0.942      0.763      0.843      0.547\n"
          ]
        },
        {
          "output_type": "stream",
          "name": "stderr",
          "text": [
            "\n"
          ]
        },
        {
          "output_type": "stream",
          "name": "stdout",
          "text": [
            "\n",
            "      Epoch    GPU_mem   box_loss   cls_loss   dfl_loss  Instances       Size\n"
          ]
        },
        {
          "output_type": "stream",
          "name": "stderr",
          "text": [
            "    122/300      11.1G     0.5594     0.4112     0.9778        130        640: 100%|██████████| 98/98 [01:23<00:00,  1.18it/s]\n",
            "                 Class     Images  Instances      Box(P          R      mAP50  mAP50-95): 100%|██████████| 4/4 [00:02<00:00,  1.56it/s]"
          ]
        },
        {
          "output_type": "stream",
          "name": "stdout",
          "text": [
            "                   all        114        697      0.907      0.773      0.841      0.557\n"
          ]
        },
        {
          "output_type": "stream",
          "name": "stderr",
          "text": [
            "\n"
          ]
        },
        {
          "output_type": "stream",
          "name": "stdout",
          "text": [
            "\n",
            "      Epoch    GPU_mem   box_loss   cls_loss   dfl_loss  Instances       Size\n"
          ]
        },
        {
          "output_type": "stream",
          "name": "stderr",
          "text": [
            "    123/300      11.1G     0.5507     0.4095     0.9731        205        640: 100%|██████████| 98/98 [01:23<00:00,  1.17it/s]\n",
            "                 Class     Images  Instances      Box(P          R      mAP50  mAP50-95): 100%|██████████| 4/4 [00:02<00:00,  1.58it/s]"
          ]
        },
        {
          "output_type": "stream",
          "name": "stdout",
          "text": [
            "                   all        114        697      0.914      0.765      0.835      0.551\n"
          ]
        },
        {
          "output_type": "stream",
          "name": "stderr",
          "text": [
            "\n"
          ]
        },
        {
          "output_type": "stream",
          "name": "stdout",
          "text": [
            "\n",
            "      Epoch    GPU_mem   box_loss   cls_loss   dfl_loss  Instances       Size\n"
          ]
        },
        {
          "output_type": "stream",
          "name": "stderr",
          "text": [
            "    124/300      11.2G     0.5568      0.411     0.9786        236        640: 100%|██████████| 98/98 [01:22<00:00,  1.18it/s]\n",
            "                 Class     Images  Instances      Box(P          R      mAP50  mAP50-95): 100%|██████████| 4/4 [00:02<00:00,  1.38it/s]"
          ]
        },
        {
          "output_type": "stream",
          "name": "stdout",
          "text": [
            "                   all        114        697      0.903      0.777      0.831      0.554\n"
          ]
        },
        {
          "output_type": "stream",
          "name": "stderr",
          "text": [
            "\n"
          ]
        },
        {
          "output_type": "stream",
          "name": "stdout",
          "text": [
            "\n",
            "      Epoch    GPU_mem   box_loss   cls_loss   dfl_loss  Instances       Size\n"
          ]
        },
        {
          "output_type": "stream",
          "name": "stderr",
          "text": [
            "    125/300      11.2G     0.5581     0.4101     0.9764        253        640: 100%|██████████| 98/98 [01:24<00:00,  1.17it/s]\n",
            "                 Class     Images  Instances      Box(P          R      mAP50  mAP50-95): 100%|██████████| 4/4 [00:02<00:00,  1.59it/s]"
          ]
        },
        {
          "output_type": "stream",
          "name": "stdout",
          "text": [
            "                   all        114        697      0.926      0.747       0.83       0.54\n"
          ]
        },
        {
          "output_type": "stream",
          "name": "stderr",
          "text": [
            "\n"
          ]
        },
        {
          "output_type": "stream",
          "name": "stdout",
          "text": [
            "\n",
            "      Epoch    GPU_mem   box_loss   cls_loss   dfl_loss  Instances       Size\n"
          ]
        },
        {
          "output_type": "stream",
          "name": "stderr",
          "text": [
            "    126/300      11.3G     0.5553     0.4097     0.9766        299        640: 100%|██████████| 98/98 [01:23<00:00,  1.17it/s]\n",
            "                 Class     Images  Instances      Box(P          R      mAP50  mAP50-95): 100%|██████████| 4/4 [00:03<00:00,  1.20it/s]"
          ]
        },
        {
          "output_type": "stream",
          "name": "stdout",
          "text": [
            "                   all        114        697      0.915      0.773      0.843      0.559\n"
          ]
        },
        {
          "output_type": "stream",
          "name": "stderr",
          "text": [
            "\n"
          ]
        },
        {
          "output_type": "stream",
          "name": "stdout",
          "text": [
            "\n",
            "      Epoch    GPU_mem   box_loss   cls_loss   dfl_loss  Instances       Size\n"
          ]
        },
        {
          "output_type": "stream",
          "name": "stderr",
          "text": [
            "    127/300      10.8G     0.5446     0.4017     0.9694        315        640: 100%|██████████| 98/98 [01:23<00:00,  1.18it/s]\n",
            "                 Class     Images  Instances      Box(P          R      mAP50  mAP50-95): 100%|██████████| 4/4 [00:02<00:00,  1.55it/s]"
          ]
        },
        {
          "output_type": "stream",
          "name": "stdout",
          "text": [
            "                   all        114        697      0.898      0.766      0.833       0.55\n"
          ]
        },
        {
          "output_type": "stream",
          "name": "stderr",
          "text": [
            "\n"
          ]
        },
        {
          "output_type": "stream",
          "name": "stdout",
          "text": [
            "\n",
            "      Epoch    GPU_mem   box_loss   cls_loss   dfl_loss  Instances       Size\n"
          ]
        },
        {
          "output_type": "stream",
          "name": "stderr",
          "text": [
            "    128/300      11.3G     0.5429        0.4     0.9715        187        640: 100%|██████████| 98/98 [01:23<00:00,  1.18it/s]\n",
            "                 Class     Images  Instances      Box(P          R      mAP50  mAP50-95): 100%|██████████| 4/4 [00:02<00:00,  1.35it/s]"
          ]
        },
        {
          "output_type": "stream",
          "name": "stdout",
          "text": [
            "                   all        114        697      0.924      0.761      0.829      0.566\n"
          ]
        },
        {
          "output_type": "stream",
          "name": "stderr",
          "text": [
            "\n"
          ]
        },
        {
          "output_type": "stream",
          "name": "stdout",
          "text": [
            "\n",
            "      Epoch    GPU_mem   box_loss   cls_loss   dfl_loss  Instances       Size\n"
          ]
        },
        {
          "output_type": "stream",
          "name": "stderr",
          "text": [
            "    129/300      11.2G     0.5425     0.4046     0.9707        272        640: 100%|██████████| 98/98 [01:23<00:00,  1.18it/s]\n",
            "                 Class     Images  Instances      Box(P          R      mAP50  mAP50-95): 100%|██████████| 4/4 [00:02<00:00,  1.58it/s]"
          ]
        },
        {
          "output_type": "stream",
          "name": "stdout",
          "text": [
            "                   all        114        697      0.928      0.761      0.832      0.544\n"
          ]
        },
        {
          "output_type": "stream",
          "name": "stderr",
          "text": [
            "\n"
          ]
        },
        {
          "output_type": "stream",
          "name": "stdout",
          "text": [
            "\n",
            "      Epoch    GPU_mem   box_loss   cls_loss   dfl_loss  Instances       Size\n"
          ]
        },
        {
          "output_type": "stream",
          "name": "stderr",
          "text": [
            "    130/300      11.1G     0.5417     0.4015     0.9723        140        640: 100%|██████████| 98/98 [01:23<00:00,  1.17it/s]\n",
            "                 Class     Images  Instances      Box(P          R      mAP50  mAP50-95): 100%|██████████| 4/4 [00:02<00:00,  1.51it/s]"
          ]
        },
        {
          "output_type": "stream",
          "name": "stdout",
          "text": [
            "                   all        114        697      0.927      0.772      0.835      0.555\n"
          ]
        },
        {
          "output_type": "stream",
          "name": "stderr",
          "text": [
            "\n"
          ]
        },
        {
          "output_type": "stream",
          "name": "stdout",
          "text": [
            "\n",
            "      Epoch    GPU_mem   box_loss   cls_loss   dfl_loss  Instances       Size\n"
          ]
        },
        {
          "output_type": "stream",
          "name": "stderr",
          "text": [
            "    131/300      11.2G     0.5386     0.4024     0.9683        232        640: 100%|██████████| 98/98 [01:23<00:00,  1.17it/s]\n",
            "                 Class     Images  Instances      Box(P          R      mAP50  mAP50-95): 100%|██████████| 4/4 [00:02<00:00,  1.53it/s]"
          ]
        },
        {
          "output_type": "stream",
          "name": "stdout",
          "text": [
            "                   all        114        697      0.925      0.771      0.832      0.541\n"
          ]
        },
        {
          "output_type": "stream",
          "name": "stderr",
          "text": [
            "\n"
          ]
        },
        {
          "output_type": "stream",
          "name": "stdout",
          "text": [
            "\n",
            "      Epoch    GPU_mem   box_loss   cls_loss   dfl_loss  Instances       Size\n"
          ]
        },
        {
          "output_type": "stream",
          "name": "stderr",
          "text": [
            "    132/300      11.3G     0.5462     0.4015     0.9755        183        640: 100%|██████████| 98/98 [01:23<00:00,  1.17it/s]\n",
            "                 Class     Images  Instances      Box(P          R      mAP50  mAP50-95): 100%|██████████| 4/4 [00:02<00:00,  1.58it/s]"
          ]
        },
        {
          "output_type": "stream",
          "name": "stdout",
          "text": [
            "                   all        114        697       0.94      0.767      0.838      0.562\n"
          ]
        },
        {
          "output_type": "stream",
          "name": "stderr",
          "text": [
            "\n"
          ]
        },
        {
          "output_type": "stream",
          "name": "stdout",
          "text": [
            "\n",
            "      Epoch    GPU_mem   box_loss   cls_loss   dfl_loss  Instances       Size\n"
          ]
        },
        {
          "output_type": "stream",
          "name": "stderr",
          "text": [
            "    133/300      11.2G     0.5364     0.3945     0.9609        206        640: 100%|██████████| 98/98 [01:24<00:00,  1.17it/s]\n",
            "                 Class     Images  Instances      Box(P          R      mAP50  mAP50-95): 100%|██████████| 4/4 [00:02<00:00,  1.47it/s]"
          ]
        },
        {
          "output_type": "stream",
          "name": "stdout",
          "text": [
            "                   all        114        697      0.932      0.763      0.829      0.552\n",
            "Stopping training early as no improvement observed in last 20 epochs. Best results observed at epoch 113, best model saved as best.pt.\n",
            "To update EarlyStopping(patience=20) pass a new patience value, i.e. `patience=300` or use `patience=0` to disable EarlyStopping.\n"
          ]
        },
        {
          "output_type": "stream",
          "name": "stderr",
          "text": [
            "\n"
          ]
        },
        {
          "output_type": "stream",
          "name": "stdout",
          "text": [
            "\n",
            "133 epochs completed in 3.341 hours.\n",
            "Optimizer stripped from runs/detect/Experiment-11_PPE_Detector_yolov8l_300_epochs/weights/last.pt, 87.7MB\n",
            "Optimizer stripped from runs/detect/Experiment-11_PPE_Detector_yolov8l_300_epochs/weights/best.pt, 87.7MB\n",
            "\n",
            "Validating runs/detect/Experiment-11_PPE_Detector_yolov8l_300_epochs/weights/best.pt...\n",
            "Ultralytics YOLOv8.1.9 🚀 Python-3.10.12 torch-2.1.0+cu121 CUDA:0 (Tesla T4, 15102MiB)\n",
            "Model summary (fused): 268 layers, 43614318 parameters, 0 gradients, 164.9 GFLOPs\n"
          ]
        },
        {
          "output_type": "stream",
          "name": "stderr",
          "text": [
            "                 Class     Images  Instances      Box(P          R      mAP50  mAP50-95): 100%|██████████| 4/4 [00:05<00:00,  1.42s/it]\n"
          ]
        },
        {
          "output_type": "stream",
          "name": "stdout",
          "text": [
            "                   all        114        697        0.9       0.78      0.836      0.569\n",
            "Speed: 0.2ms preprocess, 18.4ms inference, 0.0ms loss, 7.0ms postprocess per image\n",
            "Results saved to \u001b[1mruns/detect/Experiment-11_PPE_Detector_yolov8l_300_epochs\u001b[0m\n",
            "2024-02-03 17:06:13,228 - clearml.Task - INFO - Completed model upload to https://files.clear.ml/PPE%20Detection/Experiment-11_PPE_Detector_yolov8l_300_epochs.ec6cf7b0f4974171b88e44f4a3e6707d/models/best.pt\n",
            "Collecting aspose-words\n",
            "  Downloading aspose_words-24.1.0-py3-none-manylinux1_x86_64.whl (79.2 MB)\n",
            "\u001b[2K     \u001b[90m━━━━━━━━━━━━━━━━━━━━━━━━━━━━━━━━━━━━━━━━\u001b[0m \u001b[32m79.2/79.2 MB\u001b[0m \u001b[31m9.9 MB/s\u001b[0m eta \u001b[36m0:00:00\u001b[0m\n",
            "\u001b[?25hInstalling collected packages: aspose-words\n",
            "Successfully installed aspose-words-24.1.0\n"
          ]
        },
        {
          "output_type": "display_data",
          "data": {
            "text/plain": [
              "<Figure size 640x480 with 1 Axes>"
            ],
            "image/png": "[encoded data removed]"
          },
          "metadata": {}
        },
        {
          "output_type": "display_data",
          "data": {
            "text/plain": [
              "<Figure size 640x480 with 1 Axes>"
            ],
            "image/png": "[encoded data removed]"
          },
          "metadata": {}
        },
        {
          "output_type": "display_data",
          "data": {
            "text/plain": [
              "<Figure size 640x480 with 1 Axes>"
            ],
            "image/png": "[encoded data removed]"
          },
          "metadata": {}
        },
        {
          "output_type": "display_data",
          "data": {
            "text/plain": [
              "<Figure size 640x480 with 1 Axes>"
            ],
            "image/png": "[encoded data removed]"
          },
          "metadata": {}
        },
        {
          "output_type": "display_data",
          "data": {
            "text/plain": [
              "<Figure size 640x480 with 1 Axes>"
            ],
            "image/png": "[encoded data removed]"
          },
          "metadata": {}
        },
        {
          "output_type": "display_data",
          "data": {
            "text/plain": [
              "<Figure size 640x480 with 1 Axes>"
            ],
            "image/png": "[encoded data removed]"
          },
          "metadata": {}
        },
        {
          "output_type": "display_data",
          "data": {
            "text/plain": [
              "<Figure size 640x480 with 1 Axes>"
            ],
            "image/png": "[encoded data removed]"
          },
          "metadata": {}
        }
      ],
      "source": [
        "# Train model\n",
        "\n",
        "#Load model\n",
        "model = YOLO(CFG.BASE_MODEL_WEIGHTS)\n",
        "\n",
        "#Use model\n",
        "model.train(\n",
        "    data=os.path.join(CFG.ROOT_DIR, \"data.yaml\"),\n",
        "    task = 'detect',\n",
        "    epochs = CFG.EPOCHS,\n",
        "    batch = CFG.BATCH_SIZE,\n",
        "    optimizer = CFG.OPTIMIZER,\n",
        "    lr0 = CFG.LR,\n",
        "    lrf = CFG.LR_FACTOR,\n",
        "    weight_decay = CFG.WEIGHT_DECAY,\n",
        "    dropout = CFG.DROPOUT,\n",
        "    fraction = CFG.FRACTION,\n",
        "    patience = CFG.PATIENCE,\n",
        "    profile = CFG.PROFILE,\n",
        "    label_smoothing = CFG.LABEL_SMOOTHING,\n",
        "\n",
        "    name = f'{CFG.EXP_NAME}',\n",
        "    seed = CFG.SEED,\n",
        "    val = True,\n",
        "    amp = True,\n",
        "    exist_ok = True,\n",
        "    resume = False,\n",
        "    device = 0,\n",
        "    verbose = False,\n",
        "    )\n",
        "\n",
        "#SAVE OUTPUT TO GOOGLE DRIVE\n",
        "import locale\n",
        "locale.getpreferredencoding = lambda: \"UTF-8\"\n",
        "!pip install aspose-words\n",
        "!scp -r /content/runs/ '/content/gdrive/My Drive/PPE Detection/' #adjust it manually if don't work\n"
      ]
    },
    {
      "cell_type": "code",
      "execution_count": 5,
      "metadata": {
        "id": "llklKqp38h1p"
      },
      "outputs": [],
      "source": [
        "#Get weights to make inference\n",
        "\n",
        "model = YOLO(\"/content/gdrive/MyDrive/PPE Detection/runs/detect/PPE_Detector_yolov8l_finetuning-133_epochs/weights/best.pt\")"
      ]
    },
    {
      "cell_type": "markdown",
      "metadata": {
        "id": "JFCyAue50tCf"
      },
      "source": []
    },
    {
      "cell_type": "code",
      "execution_count": null,
      "metadata": {
        "id": "NCwS9CpBrQIe"
      },
      "outputs": [],
      "source": [
        "# Validate the model\n",
        "metrics = model.val()  # no arguments needed, dataset and settings remembered\n",
        "metrics.box.map    # map50-95\n",
        "metrics.box.map50  # map50\n",
        "metrics.box.map75  # map75\n",
        "metrics.box.maps   # a list contains map50-95 of each category"
      ]
    },
    {
      "cell_type": "code",
      "execution_count": null,
      "metadata": {
        "id": "c-0hjZqfD579",
        "colab": {
          "base_uri": "https://localhost:8080/"
        },
        "outputId": "63b8d3da-2da1-4667-89de-187b63e8f624"
      },
      "outputs": [
        {
          "output_type": "stream",
          "name": "stdout",
          "text": [
            "Ultralytics YOLOv8.1.9 🚀 Python-3.10.12 torch-2.1.0+cu121 CPU (AMD EPYC 7B12)\n",
            "Model summary (fused): 268 layers, 43614318 parameters, 0 gradients, 164.9 GFLOPs\n",
            "\n",
            "video 1/1 (1/758) /content/gdrive/MyDrive/PPE Detection/data/videos/workers-video-1.mp4: 384x640 3 NO-Safety Vests, 4 Persons, 3 Safety Vests, 1462.9ms\n",
            "video 1/1 (2/758) /content/gdrive/MyDrive/PPE Detection/data/videos/workers-video-1.mp4: 384x640 2 NO-Safety Vests, 4 Persons, 3 Safety Vests, 1412.9ms\n",
            "video 1/1 (3/758) /content/gdrive/MyDrive/PPE Detection/data/videos/workers-video-1.mp4: 384x640 1 NO-Mask, 2 NO-Safety Vests, 3 Persons, 3 Safety Vests, 1423.2ms\n",
            "video 1/1 (4/758) /content/gdrive/MyDrive/PPE Detection/data/videos/workers-video-1.mp4: 384x640 2 NO-Safety Vests, 4 Persons, 3 Safety Vests, 1228.8ms\n",
            "video 1/1 (5/758) /content/gdrive/MyDrive/PPE Detection/data/videos/workers-video-1.mp4: 384x640 2 NO-Safety Vests, 5 Persons, 3 Safety Vests, 1269.4ms\n",
            "video 1/1 (6/758) /content/gdrive/MyDrive/PPE Detection/data/videos/workers-video-1.mp4: 384x640 2 NO-Safety Vests, 5 Persons, 3 Safety Vests, 1478.8ms\n",
            "video 1/1 (7/758) /content/gdrive/MyDrive/PPE Detection/data/videos/workers-video-1.mp4: 384x640 2 NO-Safety Vests, 6 Persons, 3 Safety Vests, 1231.2ms\n",
            "video 1/1 (8/758) /content/gdrive/MyDrive/PPE Detection/data/videos/workers-video-1.mp4: 384x640 2 NO-Safety Vests, 4 Persons, 5 Safety Vests, 1247.7ms\n",
            "video 1/1 (9/758) /content/gdrive/MyDrive/PPE Detection/data/videos/workers-video-1.mp4: 384x640 2 NO-Safety Vests, 5 Persons, 5 Safety Vests, 1236.9ms\n",
            "video 1/1 (10/758) /content/gdrive/MyDrive/PPE Detection/data/videos/workers-video-1.mp4: 384x640 2 NO-Safety Vests, 5 Persons, 4 Safety Vests, 1248.5ms\n",
            "video 1/1 (11/758) /content/gdrive/MyDrive/PPE Detection/data/videos/workers-video-1.mp4: 384x640 1 NO-Mask, 2 NO-Safety Vests, 4 Persons, 4 Safety Vests, 1228.7ms\n",
            "video 1/1 (12/758) /content/gdrive/MyDrive/PPE Detection/data/videos/workers-video-1.mp4: 384x640 1 NO-Safety Vest, 3 Persons, 5 Safety Vests, 1234.0ms\n",
            "video 1/1 (13/758) /content/gdrive/MyDrive/PPE Detection/data/videos/workers-video-1.mp4: 384x640 2 NO-Safety Vests, 3 Persons, 4 Safety Vests, 1212.7ms\n",
            "video 1/1 (14/758) /content/gdrive/MyDrive/PPE Detection/data/videos/workers-video-1.mp4: 384x640 2 NO-Masks, 1 NO-Safety Vest, 3 Persons, 4 Safety Vests, 1493.0ms\n",
            "video 1/1 (15/758) /content/gdrive/MyDrive/PPE Detection/data/videos/workers-video-1.mp4: 384x640 1 NO-Mask, 1 NO-Safety Vest, 3 Persons, 4 Safety Vests, 1265.0ms\n",
            "video 1/1 (16/758) /content/gdrive/MyDrive/PPE Detection/data/videos/workers-video-1.mp4: 384x640 1 Hardhat, 1 NO-Mask, 1 NO-Safety Vest, 4 Persons, 4 Safety Vests, 1224.6ms\n",
            "video 1/1 (17/758) /content/gdrive/MyDrive/PPE Detection/data/videos/workers-video-1.mp4: 384x640 1 NO-Mask, 1 NO-Safety Vest, 4 Persons, 3 Safety Vests, 1214.1ms\n",
            "video 1/1 (18/758) /content/gdrive/MyDrive/PPE Detection/data/videos/workers-video-1.mp4: 384x640 1 NO-Mask, 1 NO-Safety Vest, 4 Persons, 3 Safety Vests, 1216.2ms\n",
            "video 1/1 (19/758) /content/gdrive/MyDrive/PPE Detection/data/videos/workers-video-1.mp4: 384x640 1 NO-Mask, 1 NO-Safety Vest, 3 Persons, 3 Safety Vests, 1217.0ms\n",
            "video 1/1 (20/758) /content/gdrive/MyDrive/PPE Detection/data/videos/workers-video-1.mp4: 384x640 1 NO-Mask, 1 NO-Safety Vest, 3 Persons, 3 Safety Vests, 1225.5ms\n",
            "video 1/1 (21/758) /content/gdrive/MyDrive/PPE Detection/data/videos/workers-video-1.mp4: 384x640 1 Hardhat, 1 NO-Mask, 1 NO-Safety Vest, 3 Persons, 4 Safety Vests, 1207.0ms\n",
            "video 1/1 (22/758) /content/gdrive/MyDrive/PPE Detection/data/videos/workers-video-1.mp4: 384x640 2 Hardhats, 1 NO-Mask, 1 NO-Safety Vest, 3 Persons, 4 Safety Vests, 1307.2ms\n",
            "video 1/1 (23/758) /content/gdrive/MyDrive/PPE Detection/data/videos/workers-video-1.mp4: 384x640 2 Hardhats, 1 NO-Mask, 1 NO-Safety Vest, 3 Persons, 4 Safety Vests, 1437.1ms\n",
            "video 1/1 (24/758) /content/gdrive/MyDrive/PPE Detection/data/videos/workers-video-1.mp4: 384x640 2 Hardhats, 1 NO-Mask, 2 NO-Safety Vests, 3 Persons, 4 Safety Vests, 1218.1ms\n",
            "video 1/1 (25/758) /content/gdrive/MyDrive/PPE Detection/data/videos/workers-video-1.mp4: 384x640 2 Hardhats, 1 NO-Mask, 2 NO-Safety Vests, 3 Persons, 4 Safety Vests, 1227.2ms\n",
            "video 1/1 (26/758) /content/gdrive/MyDrive/PPE Detection/data/videos/workers-video-1.mp4: 384x640 1 Hardhat, 1 NO-Mask, 2 NO-Safety Vests, 3 Persons, 5 Safety Vests, 1246.0ms\n",
            "video 1/1 (27/758) /content/gdrive/MyDrive/PPE Detection/data/videos/workers-video-1.mp4: 384x640 1 Hardhat, 1 NO-Mask, 2 NO-Safety Vests, 3 Persons, 3 Safety Vests, 1211.0ms\n",
            "video 1/1 (28/758) /content/gdrive/MyDrive/PPE Detection/data/videos/workers-video-1.mp4: 384x640 1 Hardhat, 1 NO-Mask, 2 NO-Safety Vests, 3 Persons, 3 Safety Vests, 1224.4ms\n",
            "video 1/1 (29/758) /content/gdrive/MyDrive/PPE Detection/data/videos/workers-video-1.mp4: 384x640 1 Hardhat, 1 NO-Mask, 2 NO-Safety Vests, 3 Persons, 2 Safety Vests, 1245.8ms\n",
            "video 1/1 (30/758) /content/gdrive/MyDrive/PPE Detection/data/videos/workers-video-1.mp4: 384x640 1 Hardhat, 1 NO-Mask, 2 NO-Safety Vests, 3 Persons, 3 Safety Vests, 1220.7ms\n",
            "video 1/1 (31/758) /content/gdrive/MyDrive/PPE Detection/data/videos/workers-video-1.mp4: 384x640 1 Hardhat, 1 NO-Mask, 2 NO-Safety Vests, 3 Persons, 3 Safety Vests, 1516.6ms\n",
            "video 1/1 (32/758) /content/gdrive/MyDrive/PPE Detection/data/videos/workers-video-1.mp4: 384x640 1 Hardhat, 1 NO-Mask, 2 NO-Safety Vests, 3 Persons, 3 Safety Vests, 1400.0ms\n",
            "video 1/1 (33/758) /content/gdrive/MyDrive/PPE Detection/data/videos/workers-video-1.mp4: 384x640 1 Hardhat, 1 NO-Mask, 2 NO-Safety Vests, 3 Persons, 4 Safety Vests, 1211.7ms\n",
            "video 1/1 (34/758) /content/gdrive/MyDrive/PPE Detection/data/videos/workers-video-1.mp4: 384x640 1 Hardhat, 1 NO-Mask, 2 NO-Safety Vests, 3 Persons, 4 Safety Vests, 1208.1ms\n",
            "video 1/1 (35/758) /content/gdrive/MyDrive/PPE Detection/data/videos/workers-video-1.mp4: 384x640 1 Hardhat, 1 NO-Mask, 2 NO-Safety Vests, 3 Persons, 4 Safety Vests, 1225.6ms\n",
            "video 1/1 (36/758) /content/gdrive/MyDrive/PPE Detection/data/videos/workers-video-1.mp4: 384x640 1 Hardhat, 1 NO-Mask, 2 NO-Safety Vests, 3 Persons, 3 Safety Vests, 1234.2ms\n",
            "video 1/1 (37/758) /content/gdrive/MyDrive/PPE Detection/data/videos/workers-video-1.mp4: 384x640 1 NO-Mask, 2 NO-Safety Vests, 3 Persons, 3 Safety Vests, 1228.3ms\n",
            "video 1/1 (38/758) /content/gdrive/MyDrive/PPE Detection/data/videos/workers-video-1.mp4: 384x640 1 Hardhat, 1 NO-Mask, 2 NO-Safety Vests, 3 Persons, 3 Safety Vests, 1215.4ms\n",
            "video 1/1 (39/758) /content/gdrive/MyDrive/PPE Detection/data/videos/workers-video-1.mp4: 384x640 1 Hardhat, 1 NO-Hardhat, 1 NO-Mask, 2 NO-Safety Vests, 3 Persons, 3 Safety Vests, 1443.0ms\n",
            "video 1/1 (40/758) /content/gdrive/MyDrive/PPE Detection/data/videos/workers-video-1.mp4: 384x640 1 Hardhat, 1 NO-Mask, 1 NO-Safety Vest, 3 Persons, 3 Safety Vests, 1305.0ms\n",
            "video 1/1 (41/758) /content/gdrive/MyDrive/PPE Detection/data/videos/workers-video-1.mp4: 384x640 1 Hardhat, 1 NO-Mask, 1 NO-Safety Vest, 3 Persons, 3 Safety Vests, 1222.9ms\n",
            "video 1/1 (42/758) /content/gdrive/MyDrive/PPE Detection/data/videos/workers-video-1.mp4: 384x640 1 Hardhat, 1 NO-Mask, 1 NO-Safety Vest, 3 Persons, 3 Safety Vests, 1233.9ms\n",
            "video 1/1 (43/758) /content/gdrive/MyDrive/PPE Detection/data/videos/workers-video-1.mp4: 384x640 1 Hardhat, 1 NO-Mask, 1 NO-Safety Vest, 3 Persons, 3 Safety Vests, 1232.6ms\n",
            "video 1/1 (44/758) /content/gdrive/MyDrive/PPE Detection/data/videos/workers-video-1.mp4: 384x640 2 Hardhats, 1 NO-Mask, 1 NO-Safety Vest, 3 Persons, 3 Safety Vests, 1228.4ms\n",
            "video 1/1 (45/758) /content/gdrive/MyDrive/PPE Detection/data/videos/workers-video-1.mp4: 384x640 1 Hardhat, 1 NO-Mask, 1 NO-Safety Vest, 3 Persons, 3 Safety Vests, 1238.8ms\n",
            "video 1/1 (46/758) /content/gdrive/MyDrive/PPE Detection/data/videos/workers-video-1.mp4: 384x640 1 Hardhat, 1 NO-Mask, 1 NO-Safety Vest, 2 Persons, 3 Safety Vests, 1211.6ms\n",
            "video 1/1 (47/758) /content/gdrive/MyDrive/PPE Detection/data/videos/workers-video-1.mp4: 384x640 1 Hardhat, 1 NO-Mask, 1 NO-Safety Vest, 4 Persons, 3 Safety Vests, 1299.1ms\n",
            "video 1/1 (48/758) /content/gdrive/MyDrive/PPE Detection/data/videos/workers-video-1.mp4: 384x640 1 Hardhat, 1 NO-Mask, 1 NO-Safety Vest, 4 Persons, 3 Safety Vests, 1462.4ms\n",
            "video 1/1 (49/758) /content/gdrive/MyDrive/PPE Detection/data/videos/workers-video-1.mp4: 384x640 1 Hardhat, 1 NO-Mask, 1 NO-Safety Vest, 3 Persons, 3 Safety Vests, 1215.2ms\n",
            "video 1/1 (50/758) /content/gdrive/MyDrive/PPE Detection/data/videos/workers-video-1.mp4: 384x640 1 Hardhat, 1 NO-Mask, 1 NO-Safety Vest, 4 Persons, 3 Safety Vests, 1231.2ms\n",
            "video 1/1 (51/758) /content/gdrive/MyDrive/PPE Detection/data/videos/workers-video-1.mp4: 384x640 1 Hardhat, 1 NO-Mask, 1 NO-Safety Vest, 3 Persons, 3 Safety Vests, 1217.8ms\n",
            "video 1/1 (52/758) /content/gdrive/MyDrive/PPE Detection/data/videos/workers-video-1.mp4: 384x640 1 Hardhat, 1 NO-Mask, 1 NO-Safety Vest, 2 Persons, 3 Safety Vests, 1205.0ms\n",
            "video 1/1 (53/758) /content/gdrive/MyDrive/PPE Detection/data/videos/workers-video-1.mp4: 384x640 1 Hardhat, 1 NO-Mask, 1 NO-Safety Vest, 2 Persons, 3 Safety Vests, 1214.4ms\n",
            "video 1/1 (54/758) /content/gdrive/MyDrive/PPE Detection/data/videos/workers-video-1.mp4: 384x640 1 Hardhat, 2 NO-Masks, 1 NO-Safety Vest, 2 Persons, 3 Safety Vests, 1216.3ms\n",
            "video 1/1 (55/758) /content/gdrive/MyDrive/PPE Detection/data/videos/workers-video-1.mp4: 384x640 1 Hardhat, 2 NO-Masks, 1 NO-Safety Vest, 2 Persons, 3 Safety Vests, 1224.2ms\n",
            "video 1/1 (56/758) /content/gdrive/MyDrive/PPE Detection/data/videos/workers-video-1.mp4: 384x640 1 Hardhat, 2 NO-Masks, 1 NO-Safety Vest, 2 Persons, 4 Safety Vests, 1532.2ms\n",
            "video 1/1 (57/758) /content/gdrive/MyDrive/PPE Detection/data/videos/workers-video-1.mp4: 384x640 1 Hardhat, 2 NO-Masks, 1 NO-Safety Vest, 2 Persons, 3 Safety Vests, 1242.7ms\n",
            "video 1/1 (58/758) /content/gdrive/MyDrive/PPE Detection/data/videos/workers-video-1.mp4: 384x640 1 Hardhat, 2 NO-Masks, 1 NO-Safety Vest, 3 Persons, 4 Safety Vests, 1218.7ms\n",
            "video 1/1 (59/758) /content/gdrive/MyDrive/PPE Detection/data/videos/workers-video-1.mp4: 384x640 1 Hardhat, 2 NO-Masks, 1 NO-Safety Vest, 2 Persons, 4 Safety Vests, 1230.2ms\n",
            "video 1/1 (60/758) /content/gdrive/MyDrive/PPE Detection/data/videos/workers-video-1.mp4: 384x640 1 Hardhat, 2 NO-Masks, 1 NO-Safety Vest, 2 Persons, 3 Safety Vests, 1230.3ms\n",
            "video 1/1 (61/758) /content/gdrive/MyDrive/PPE Detection/data/videos/workers-video-1.mp4: 384x640 1 Hardhat, 2 NO-Masks, 1 NO-Safety Vest, 2 Persons, 2 Safety Vests, 1220.4ms\n",
            "video 1/1 (62/758) /content/gdrive/MyDrive/PPE Detection/data/videos/workers-video-1.mp4: 384x640 1 Hardhat, 1 NO-Mask, 1 NO-Safety Vest, 2 Persons, 3 Safety Vests, 1210.9ms\n",
            "video 1/1 (63/758) /content/gdrive/MyDrive/PPE Detection/data/videos/workers-video-1.mp4: 384x640 1 Hardhat, 1 NO-Mask, 1 NO-Safety Vest, 3 Persons, 2 Safety Vests, 1216.5ms\n",
            "video 1/1 (64/758) /content/gdrive/MyDrive/PPE Detection/data/videos/workers-video-1.mp4: 384x640 1 Hardhat, 2 NO-Masks, 1 NO-Safety Vest, 2 Persons, 3 Safety Vests, 1326.9ms\n",
            "video 1/1 (65/758) /content/gdrive/MyDrive/PPE Detection/data/videos/workers-video-1.mp4: 384x640 1 Hardhat, 2 NO-Masks, 1 NO-Safety Vest, 2 Persons, 3 Safety Vests, 1411.1ms\n",
            "video 1/1 (66/758) /content/gdrive/MyDrive/PPE Detection/data/videos/workers-video-1.mp4: 384x640 1 Hardhat, 3 NO-Masks, 1 NO-Safety Vest, 2 Persons, 3 Safety Vests, 1212.3ms\n",
            "video 1/1 (67/758) /content/gdrive/MyDrive/PPE Detection/data/videos/workers-video-1.mp4: 384x640 1 Hardhat, 3 NO-Masks, 1 NO-Safety Vest, 2 Persons, 3 Safety Vests, 1215.3ms\n",
            "video 1/1 (68/758) /content/gdrive/MyDrive/PPE Detection/data/videos/workers-video-1.mp4: 384x640 1 Hardhat, 2 NO-Masks, 1 NO-Safety Vest, 2 Persons, 3 Safety Vests, 1216.5ms\n",
            "video 1/1 (69/758) /content/gdrive/MyDrive/PPE Detection/data/videos/workers-video-1.mp4: 384x640 1 Hardhat, 1 NO-Mask, 1 NO-Safety Vest, 2 Persons, 3 Safety Vests, 1232.5ms\n",
            "video 1/1 (70/758) /content/gdrive/MyDrive/PPE Detection/data/videos/workers-video-1.mp4: 384x640 1 Hardhat, 2 NO-Masks, 1 NO-Safety Vest, 2 Persons, 3 Safety Vests, 1223.2ms\n",
            "video 1/1 (71/758) /content/gdrive/MyDrive/PPE Detection/data/videos/workers-video-1.mp4: 384x640 1 Hardhat, 1 NO-Mask, 1 NO-Safety Vest, 2 Persons, 3 Safety Vests, 1216.5ms\n",
            "video 1/1 (72/758) /content/gdrive/MyDrive/PPE Detection/data/videos/workers-video-1.mp4: 384x640 1 Hardhat, 1 NO-Mask, 1 NO-Safety Vest, 2 Persons, 3 Safety Vests, 1234.6ms\n",
            "video 1/1 (73/758) /content/gdrive/MyDrive/PPE Detection/data/videos/workers-video-1.mp4: 384x640 1 Hardhat, 1 NO-Mask, 1 NO-Safety Vest, 2 Persons, 3 Safety Vests, 1554.4ms\n",
            "video 1/1 (74/758) /content/gdrive/MyDrive/PPE Detection/data/videos/workers-video-1.mp4: 384x640 1 Hardhat, 1 NO-Mask, 1 NO-Safety Vest, 2 Persons, 3 Safety Vests, 1222.7ms\n",
            "video 1/1 (75/758) /content/gdrive/MyDrive/PPE Detection/data/videos/workers-video-1.mp4: 384x640 1 Hardhat, 1 NO-Mask, 1 NO-Safety Vest, 2 Persons, 3 Safety Vests, 1209.5ms\n",
            "video 1/1 (76/758) /content/gdrive/MyDrive/PPE Detection/data/videos/workers-video-1.mp4: 384x640 1 Hardhat, 1 NO-Mask, 1 NO-Safety Vest, 3 Persons, 3 Safety Vests, 1228.1ms\n",
            "video 1/1 (77/758) /content/gdrive/MyDrive/PPE Detection/data/videos/workers-video-1.mp4: 384x640 1 Hardhat, 1 NO-Mask, 1 NO-Safety Vest, 3 Persons, 3 Safety Vests, 1228.7ms\n",
            "video 1/1 (78/758) /content/gdrive/MyDrive/PPE Detection/data/videos/workers-video-1.mp4: 384x640 1 Hardhat, 1 NO-Mask, 1 NO-Safety Vest, 4 Persons, 3 Safety Vests, 1194.7ms\n",
            "video 1/1 (79/758) /content/gdrive/MyDrive/PPE Detection/data/videos/workers-video-1.mp4: 384x640 1 Hardhat, 1 NO-Mask, 1 NO-Safety Vest, 3 Persons, 4 Safety Vests, 1216.8ms\n",
            "video 1/1 (80/758) /content/gdrive/MyDrive/PPE Detection/data/videos/workers-video-1.mp4: 384x640 2 Hardhats, 1 NO-Mask, 1 NO-Safety Vest, 3 Persons, 4 Safety Vests, 1217.4ms\n",
            "video 1/1 (81/758) /content/gdrive/MyDrive/PPE Detection/data/videos/workers-video-1.mp4: 384x640 2 Hardhats, 1 NO-Mask, 1 NO-Safety Vest, 3 Persons, 4 Safety Vests, 1368.4ms\n",
            "video 1/1 (82/758) /content/gdrive/MyDrive/PPE Detection/data/videos/workers-video-1.mp4: 384x640 2 Hardhats, 1 NO-Mask, 1 NO-Safety Vest, 3 Persons, 4 Safety Vests, 1427.6ms\n",
            "video 1/1 (83/758) /content/gdrive/MyDrive/PPE Detection/data/videos/workers-video-1.mp4: 384x640 2 Hardhats, 1 NO-Mask, 1 NO-Safety Vest, 3 Persons, 4 Safety Vests, 1214.4ms\n",
            "video 1/1 (84/758) /content/gdrive/MyDrive/PPE Detection/data/videos/workers-video-1.mp4: 384x640 1 Hardhat, 1 NO-Mask, 1 NO-Safety Vest, 3 Persons, 4 Safety Vests, 1198.6ms\n",
            "video 1/1 (85/758) /content/gdrive/MyDrive/PPE Detection/data/videos/workers-video-1.mp4: 384x640 1 Hardhat, 1 NO-Mask, 1 NO-Safety Vest, 3 Persons, 4 Safety Vests, 1209.3ms\n",
            "video 1/1 (86/758) /content/gdrive/MyDrive/PPE Detection/data/videos/workers-video-1.mp4: 384x640 1 Hardhat, 1 NO-Mask, 1 NO-Safety Vest, 4 Persons, 3 Safety Vests, 1209.0ms\n",
            "video 1/1 (87/758) /content/gdrive/MyDrive/PPE Detection/data/videos/workers-video-1.mp4: 384x640 1 NO-Mask, 1 NO-Safety Vest, 3 Persons, 4 Safety Vests, 1207.1ms\n",
            "video 1/1 (88/758) /content/gdrive/MyDrive/PPE Detection/data/videos/workers-video-1.mp4: 384x640 2 Hardhats, 1 NO-Mask, 1 NO-Safety Vest, 4 Persons, 4 Safety Vests, 1229.6ms\n",
            "video 1/1 (89/758) /content/gdrive/MyDrive/PPE Detection/data/videos/workers-video-1.mp4: 384x640 2 Hardhats, 1 NO-Mask, 1 NO-Safety Vest, 5 Persons, 4 Safety Vests, 1211.9ms\n",
            "video 1/1 (90/758) /content/gdrive/MyDrive/PPE Detection/data/videos/workers-video-1.mp4: 384x640 5 Hardhats, 1 NO-Mask, 1 NO-Safety Vest, 4 Persons, 3 Safety Vests, 1564.1ms\n",
            "video 1/1 (91/758) /content/gdrive/MyDrive/PPE Detection/data/videos/workers-video-1.mp4: 384x640 4 Hardhats, 1 NO-Mask, 1 NO-Safety Vest, 4 Persons, 4 Safety Vests, 1212.1ms\n",
            "video 1/1 (92/758) /content/gdrive/MyDrive/PPE Detection/data/videos/workers-video-1.mp4: 384x640 3 Hardhats, 1 NO-Mask, 1 NO-Safety Vest, 2 Persons, 4 Safety Vests, 1228.9ms\n",
            "video 1/1 (93/758) /content/gdrive/MyDrive/PPE Detection/data/videos/workers-video-1.mp4: 384x640 3 Hardhats, 1 NO-Mask, 1 NO-Safety Vest, 3 Persons, 4 Safety Vests, 1217.4ms\n",
            "video 1/1 (94/758) /content/gdrive/MyDrive/PPE Detection/data/videos/workers-video-1.mp4: 384x640 3 Hardhats, 1 NO-Mask, 1 NO-Safety Vest, 3 Persons, 4 Safety Vests, 1196.7ms\n",
            "video 1/1 (95/758) /content/gdrive/MyDrive/PPE Detection/data/videos/workers-video-1.mp4: 384x640 3 Hardhats, 1 NO-Mask, 1 NO-Safety Vest, 3 Persons, 4 Safety Vests, 1205.9ms\n",
            "video 1/1 (96/758) /content/gdrive/MyDrive/PPE Detection/data/videos/workers-video-1.mp4: 384x640 3 Hardhats, 1 NO-Mask, 1 NO-Safety Vest, 3 Persons, 4 Safety Vests, 1210.5ms\n",
            "video 1/1 (97/758) /content/gdrive/MyDrive/PPE Detection/data/videos/workers-video-1.mp4: 384x640 2 Hardhats, 1 NO-Mask, 1 NO-Safety Vest, 3 Persons, 4 Safety Vests, 1201.4ms\n",
            "video 1/1 (98/758) /content/gdrive/MyDrive/PPE Detection/data/videos/workers-video-1.mp4: 384x640 2 Hardhats, 4 NO-Masks, 1 NO-Safety Vest, 3 Persons, 3 Safety Vests, 1353.9ms\n",
            "video 1/1 (99/758) /content/gdrive/MyDrive/PPE Detection/data/videos/workers-video-1.mp4: 384x640 1 Hardhat, 1 NO-Mask, 1 NO-Safety Vest, 3 Persons, 3 Safety Vests, 1373.5ms\n",
            "video 1/1 (100/758) /content/gdrive/MyDrive/PPE Detection/data/videos/workers-video-1.mp4: 384x640 1 NO-Mask, 1 NO-Safety Vest, 3 Persons, 3 Safety Vests, 1208.4ms\n",
            "video 1/1 (101/758) /content/gdrive/MyDrive/PPE Detection/data/videos/workers-video-1.mp4: 384x640 1 NO-Mask, 1 NO-Safety Vest, 3 Persons, 3 Safety Vests, 1209.8ms\n",
            "video 1/1 (102/758) /content/gdrive/MyDrive/PPE Detection/data/videos/workers-video-1.mp4: 384x640 2 Hardhats, 2 NO-Masks, 1 NO-Safety Vest, 3 Persons, 3 Safety Vests, 1197.9ms\n",
            "video 1/1 (103/758) /content/gdrive/MyDrive/PPE Detection/data/videos/workers-video-1.mp4: 384x640 3 Hardhats, 1 NO-Mask, 1 NO-Safety Vest, 3 Persons, 3 Safety Vests, 1214.4ms\n",
            "video 1/1 (104/758) /content/gdrive/MyDrive/PPE Detection/data/videos/workers-video-1.mp4: 384x640 2 Hardhats, 1 NO-Mask, 1 NO-Safety Vest, 3 Persons, 3 Safety Vests, 1224.1ms\n",
            "video 1/1 (105/758) /content/gdrive/MyDrive/PPE Detection/data/videos/workers-video-1.mp4: 384x640 2 Hardhats, 2 NO-Masks, 1 NO-Safety Vest, 3 Persons, 3 Safety Vests, 1229.0ms\n",
            "video 1/1 (106/758) /content/gdrive/MyDrive/PPE Detection/data/videos/workers-video-1.mp4: 384x640 2 Hardhats, 3 NO-Masks, 1 NO-Safety Vest, 3 Persons, 3 Safety Vests, 1214.2ms\n",
            "video 1/1 (107/758) /content/gdrive/MyDrive/PPE Detection/data/videos/workers-video-1.mp4: 384x640 1 Hardhat, 4 NO-Masks, 1 NO-Safety Vest, 3 Persons, 3 Safety Vests, 1542.5ms\n",
            "video 1/1 (108/758) /content/gdrive/MyDrive/PPE Detection/data/videos/workers-video-1.mp4: 384x640 2 Hardhats, 4 NO-Masks, 1 NO-Safety Vest, 2 Persons, 4 Safety Vests, 1224.1ms\n",
            "video 1/1 (109/758) /content/gdrive/MyDrive/PPE Detection/data/videos/workers-video-1.mp4: 384x640 2 Hardhats, 2 NO-Masks, 1 NO-Safety Vest, 2 Persons, 3 Safety Vests, 1221.3ms\n",
            "video 1/1 (110/758) /content/gdrive/MyDrive/PPE Detection/data/videos/workers-video-1.mp4: 384x640 2 Hardhats, 1 NO-Mask, 1 NO-Safety Vest, 4 Persons, 3 Safety Vests, 1212.6ms\n",
            "video 1/1 (111/758) /content/gdrive/MyDrive/PPE Detection/data/videos/workers-video-1.mp4: 384x640 2 Hardhats, 1 NO-Mask, 1 NO-Safety Vest, 4 Persons, 4 Safety Vests, 1202.1ms\n",
            "video 1/1 (112/758) /content/gdrive/MyDrive/PPE Detection/data/videos/workers-video-1.mp4: 384x640 2 Hardhats, 1 NO-Mask, 1 NO-Safety Vest, 4 Persons, 4 Safety Vests, 1228.2ms\n",
            "video 1/1 (113/758) /content/gdrive/MyDrive/PPE Detection/data/videos/workers-video-1.mp4: 384x640 1 Hardhat, 1 NO-Mask, 1 NO-Safety Vest, 4 Persons, 4 Safety Vests, 1221.3ms\n",
            "video 1/1 (114/758) /content/gdrive/MyDrive/PPE Detection/data/videos/workers-video-1.mp4: 384x640 2 Hardhats, 1 NO-Mask, 1 NO-Safety Vest, 4 Persons, 4 Safety Vests, 1223.9ms\n",
            "video 1/1 (115/758) /content/gdrive/MyDrive/PPE Detection/data/videos/workers-video-1.mp4: 384x640 2 Hardhats, 1 NO-Mask, 1 NO-Safety Vest, 3 Persons, 3 Safety Vests, 1406.9ms\n",
            "video 1/1 (116/758) /content/gdrive/MyDrive/PPE Detection/data/videos/workers-video-1.mp4: 384x640 2 Hardhats, 1 NO-Mask, 1 NO-Safety Vest, 2 Persons, 4 Safety Vests, 1384.3ms\n",
            "video 1/1 (117/758) /content/gdrive/MyDrive/PPE Detection/data/videos/workers-video-1.mp4: 384x640 2 Hardhats, 1 NO-Mask, 1 NO-Safety Vest, 4 Persons, 4 Safety Vests, 1213.3ms\n",
            "video 1/1 (118/758) /content/gdrive/MyDrive/PPE Detection/data/videos/workers-video-1.mp4: 384x640 2 Hardhats, 1 NO-Mask, 1 NO-Safety Vest, 4 Persons, 4 Safety Vests, 1204.8ms\n",
            "video 1/1 (119/758) /content/gdrive/MyDrive/PPE Detection/data/videos/workers-video-1.mp4: 384x640 2 Hardhats, 1 NO-Mask, 1 NO-Safety Vest, 3 Persons, 4 Safety Vests, 1241.5ms\n",
            "video 1/1 (120/758) /content/gdrive/MyDrive/PPE Detection/data/videos/workers-video-1.mp4: 384x640 2 Hardhats, 1 NO-Mask, 3 Persons, 4 Safety Vests, 1247.3ms\n",
            "video 1/1 (121/758) /content/gdrive/MyDrive/PPE Detection/data/videos/workers-video-1.mp4: 384x640 2 Hardhats, 1 NO-Mask, 1 NO-Safety Vest, 4 Persons, 4 Safety Vests, 1202.4ms\n",
            "video 1/1 (122/758) /content/gdrive/MyDrive/PPE Detection/data/videos/workers-video-1.mp4: 384x640 1 Hardhat, 1 NO-Mask, 1 NO-Safety Vest, 1 Person, 4 Safety Vests, 1238.1ms\n",
            "video 1/1 (123/758) /content/gdrive/MyDrive/PPE Detection/data/videos/workers-video-1.mp4: 384x640 2 Hardhats, 1 NO-Mask, 1 NO-Safety Vest, 1 Person, 4 Safety Vests, 1218.8ms\n",
            "video 1/1 (124/758) /content/gdrive/MyDrive/PPE Detection/data/videos/workers-video-1.mp4: 384x640 1 Hardhat, 1 NO-Mask, 1 NO-Safety Vest, 1 Person, 4 Safety Vests, 1556.4ms\n",
            "video 1/1 (125/758) /content/gdrive/MyDrive/PPE Detection/data/videos/workers-video-1.mp4: 384x640 1 Hardhat, 1 NO-Mask, 1 NO-Safety Vest, 1 Person, 4 Safety Vests, 1213.1ms\n",
            "video 1/1 (126/758) /content/gdrive/MyDrive/PPE Detection/data/videos/workers-video-1.mp4: 384x640 1 Hardhat, 1 NO-Mask, 2 Persons, 4 Safety Vests, 1219.7ms\n",
            "video 1/1 (127/758) /content/gdrive/MyDrive/PPE Detection/data/videos/workers-video-1.mp4: 384x640 1 Hardhat, 1 NO-Mask, 1 Person, 4 Safety Vests, 1233.5ms\n",
            "video 1/1 (128/758) /content/gdrive/MyDrive/PPE Detection/data/videos/workers-video-1.mp4: 384x640 1 Hardhat, 1 NO-Mask, 1 Person, 4 Safety Vests, 1212.1ms\n",
            "video 1/1 (129/758) /content/gdrive/MyDrive/PPE Detection/data/videos/workers-video-1.mp4: 384x640 1 Hardhat, 1 NO-Mask, 1 Person, 3 Safety Vests, 1259.6ms\n",
            "video 1/1 (130/758) /content/gdrive/MyDrive/PPE Detection/data/videos/workers-video-1.mp4: 384x640 1 Hardhat, 1 NO-Mask, 1 Person, 3 Safety Vests, 1221.2ms\n",
            "video 1/1 (131/758) /content/gdrive/MyDrive/PPE Detection/data/videos/workers-video-1.mp4: 384x640 1 Hardhat, 1 NO-Mask, 1 NO-Safety Vest, 1 Person, 3 Safety Vests, 1214.0ms\n",
            "video 1/1 (132/758) /content/gdrive/MyDrive/PPE Detection/data/videos/workers-video-1.mp4: 384x640 1 Hardhat, 1 NO-Mask, 1 Person, 3 Safety Vests, 1399.0ms\n",
            "video 1/1 (133/758) /content/gdrive/MyDrive/PPE Detection/data/videos/workers-video-1.mp4: 384x640 1 Hardhat, 1 NO-Mask, 1 Person, 3 Safety Vests, 1341.9ms\n",
            "video 1/1 (134/758) /content/gdrive/MyDrive/PPE Detection/data/videos/workers-video-1.mp4: 384x640 1 Hardhat, 1 NO-Mask, 1 Person, 3 Safety Vests, 1202.1ms\n",
            "video 1/1 (135/758) /content/gdrive/MyDrive/PPE Detection/data/videos/workers-video-1.mp4: 384x640 1 Hardhat, 1 NO-Mask, 1 NO-Safety Vest, 2 Persons, 3 Safety Vests, 1220.3ms\n",
            "video 1/1 (136/758) /content/gdrive/MyDrive/PPE Detection/data/videos/workers-video-1.mp4: 384x640 1 Hardhat, 1 NO-Mask, 1 Person, 3 Safety Vests, 1219.5ms\n",
            "video 1/1 (137/758) /content/gdrive/MyDrive/PPE Detection/data/videos/workers-video-1.mp4: 384x640 1 Hardhat, 1 NO-Mask, 1 NO-Safety Vest, 1 Person, 3 Safety Vests, 1206.3ms\n",
            "video 1/1 (138/758) /content/gdrive/MyDrive/PPE Detection/data/videos/workers-video-1.mp4: 384x640 1 Hardhat, 1 NO-Mask, 1 NO-Safety Vest, 1 Person, 3 Safety Vests, 1207.0ms\n",
            "video 1/1 (139/758) /content/gdrive/MyDrive/PPE Detection/data/videos/workers-video-1.mp4: 384x640 1 Hardhat, 1 NO-Mask, 1 Person, 3 Safety Vests, 1209.8ms\n",
            "video 1/1 (140/758) /content/gdrive/MyDrive/PPE Detection/data/videos/workers-video-1.mp4: 384x640 1 Hardhat, 1 NO-Mask, 1 Person, 3 Safety Vests, 1199.8ms\n",
            "video 1/1 (141/758) /content/gdrive/MyDrive/PPE Detection/data/videos/workers-video-1.mp4: 384x640 1 Hardhat, 1 NO-Mask, 2 Persons, 3 Safety Vests, 1565.8ms\n",
            "video 1/1 (142/758) /content/gdrive/MyDrive/PPE Detection/data/videos/workers-video-1.mp4: 384x640 1 NO-Mask, 1 NO-Safety Vest, 1 Person, 3 Safety Vests, 1233.5ms\n",
            "video 1/1 (143/758) /content/gdrive/MyDrive/PPE Detection/data/videos/workers-video-1.mp4: 384x640 1 Hardhat, 1 NO-Mask, 1 NO-Safety Vest, 1 Person, 3 Safety Vests, 1221.1ms\n",
            "video 1/1 (144/758) /content/gdrive/MyDrive/PPE Detection/data/videos/workers-video-1.mp4: 384x640 1 NO-Mask, 1 NO-Safety Vest, 1 Person, 3 Safety Vests, 1218.7ms\n",
            "video 1/1 (145/758) /content/gdrive/MyDrive/PPE Detection/data/videos/workers-video-1.mp4: 384x640 1 NO-Mask, 1 NO-Safety Vest, 1 Person, 4 Safety Vests, 1203.4ms\n",
            "video 1/1 (146/758) /content/gdrive/MyDrive/PPE Detection/data/videos/workers-video-1.mp4: 384x640 1 NO-Mask, 1 NO-Safety Vest, 2 Persons, 4 Safety Vests, 1214.7ms\n",
            "video 1/1 (147/758) /content/gdrive/MyDrive/PPE Detection/data/videos/workers-video-1.mp4: 384x640 1 NO-Mask, 1 NO-Safety Vest, 1 Person, 4 Safety Vests, 1210.3ms\n",
            "video 1/1 (148/758) /content/gdrive/MyDrive/PPE Detection/data/videos/workers-video-1.mp4: 384x640 1 NO-Mask, 1 NO-Safety Vest, 1 Person, 4 Safety Vests, 1220.8ms\n",
            "video 1/1 (149/758) /content/gdrive/MyDrive/PPE Detection/data/videos/workers-video-1.mp4: 384x640 1 NO-Mask, 1 NO-Safety Vest, 2 Persons, 4 Safety Vests, 1399.8ms\n",
            "video 1/1 (150/758) /content/gdrive/MyDrive/PPE Detection/data/videos/workers-video-1.mp4: 384x640 1 NO-Mask, 1 NO-Safety Vest, 1 Person, 4 Safety Vests, 1373.3ms\n",
            "video 1/1 (151/758) /content/gdrive/MyDrive/PPE Detection/data/videos/workers-video-1.mp4: 384x640 1 NO-Mask, 1 NO-Safety Vest, 1 Person, 4 Safety Vests, 1215.7ms\n",
            "video 1/1 (152/758) /content/gdrive/MyDrive/PPE Detection/data/videos/workers-video-1.mp4: 384x640 1 NO-Mask, 1 NO-Safety Vest, 2 Persons, 4 Safety Vests, 1247.9ms\n",
            "video 1/1 (153/758) /content/gdrive/MyDrive/PPE Detection/data/videos/workers-video-1.mp4: 384x640 1 NO-Mask, 1 NO-Safety Vest, 2 Persons, 4 Safety Vests, 1228.8ms\n",
            "video 1/1 (154/758) /content/gdrive/MyDrive/PPE Detection/data/videos/workers-video-1.mp4: 384x640 1 Hardhat, 1 NO-Mask, 1 NO-Safety Vest, 2 Persons, 4 Safety Vests, 1217.3ms\n",
            "video 1/1 (155/758) /content/gdrive/MyDrive/PPE Detection/data/videos/workers-video-1.mp4: 384x640 1 Hardhat, 1 NO-Mask, 1 NO-Safety Vest, 2 Persons, 4 Safety Vests, 1200.0ms\n",
            "video 1/1 (156/758) /content/gdrive/MyDrive/PPE Detection/data/videos/workers-video-1.mp4: 384x640 1 Hardhat, 1 NO-Mask, 1 NO-Safety Vest, 2 Persons, 4 Safety Vests, 1220.1ms\n",
            "video 1/1 (157/758) /content/gdrive/MyDrive/PPE Detection/data/videos/workers-video-1.mp4: 384x640 1 Hardhat, 1 NO-Mask, 1 NO-Safety Vest, 2 Persons, 4 Safety Vests, 1255.9ms\n",
            "video 1/1 (158/758) /content/gdrive/MyDrive/PPE Detection/data/videos/workers-video-1.mp4: 384x640 1 Hardhat, 1 NO-Mask, 1 NO-Safety Vest, 2 Persons, 4 Safety Vests, 1551.6ms\n",
            "video 1/1 (159/758) /content/gdrive/MyDrive/PPE Detection/data/videos/workers-video-1.mp4: 384x640 1 Hardhat, 1 NO-Mask, 1 NO-Safety Vest, 2 Persons, 4 Safety Vests, 1243.7ms\n",
            "video 1/1 (160/758) /content/gdrive/MyDrive/PPE Detection/data/videos/workers-video-1.mp4: 384x640 1 Hardhat, 1 NO-Mask, 1 NO-Safety Vest, 1 Person, 5 Safety Vests, 1253.2ms\n",
            "video 1/1 (161/758) /content/gdrive/MyDrive/PPE Detection/data/videos/workers-video-1.mp4: 384x640 1 Hardhat, 1 NO-Mask, 1 NO-Safety Vest, 1 Person, 4 Safety Vests, 1216.5ms\n",
            "video 1/1 (162/758) /content/gdrive/MyDrive/PPE Detection/data/videos/workers-video-1.mp4: 384x640 1 NO-Mask, 1 NO-Safety Vest, 1 Person, 4 Safety Vests, 1202.4ms\n",
            "video 1/1 (163/758) /content/gdrive/MyDrive/PPE Detection/data/videos/workers-video-1.mp4: 384x640 1 NO-Mask, 1 NO-Safety Vest, 2 Persons, 4 Safety Vests, 1207.3ms\n",
            "video 1/1 (164/758) /content/gdrive/MyDrive/PPE Detection/data/videos/workers-video-1.mp4: 384x640 1 Hardhat, 1 NO-Mask, 1 NO-Safety Vest, 2 Persons, 5 Safety Vests, 1216.8ms\n",
            "video 1/1 (165/758) /content/gdrive/MyDrive/PPE Detection/data/videos/workers-video-1.mp4: 384x640 1 Hardhat, 1 NO-Mask, 1 NO-Safety Vest, 2 Persons, 5 Safety Vests, 1223.7ms\n",
            "video 1/1 (166/758) /content/gdrive/MyDrive/PPE Detection/data/videos/workers-video-1.mp4: 384x640 1 NO-Mask, 1 NO-Safety Vest, 2 Persons, 4 Safety Vests, 1432.1ms\n",
            "video 1/1 (167/758) /content/gdrive/MyDrive/PPE Detection/data/videos/workers-video-1.mp4: 384x640 1 NO-Mask, 1 NO-Safety Vest, 2 Persons, 3 Safety Vests, 1319.9ms\n",
            "video 1/1 (168/758) /content/gdrive/MyDrive/PPE Detection/data/videos/workers-video-1.mp4: 384x640 1 NO-Mask, 1 NO-Safety Vest, 2 Persons, 4 Safety Vests, 1224.7ms\n",
            "video 1/1 (169/758) /content/gdrive/MyDrive/PPE Detection/data/videos/workers-video-1.mp4: 384x640 1 NO-Mask, 1 NO-Safety Vest, 2 Persons, 4 Safety Vests, 1211.2ms\n",
            "video 1/1 (170/758) /content/gdrive/MyDrive/PPE Detection/data/videos/workers-video-1.mp4: 384x640 1 NO-Mask, 1 NO-Safety Vest, 2 Persons, 4 Safety Vests, 1215.3ms\n",
            "video 1/1 (171/758) /content/gdrive/MyDrive/PPE Detection/data/videos/workers-video-1.mp4: 384x640 1 NO-Mask, 1 NO-Safety Vest, 2 Persons, 4 Safety Vests, 1227.3ms\n",
            "video 1/1 (172/758) /content/gdrive/MyDrive/PPE Detection/data/videos/workers-video-1.mp4: 384x640 1 NO-Mask, 1 NO-Safety Vest, 2 Persons, 4 Safety Vests, 1205.5ms\n",
            "video 1/1 (173/758) /content/gdrive/MyDrive/PPE Detection/data/videos/workers-video-1.mp4: 384x640 1 NO-Mask, 1 NO-Safety Vest, 2 Persons, 4 Safety Vests, 1205.4ms\n",
            "video 1/1 (174/758) /content/gdrive/MyDrive/PPE Detection/data/videos/workers-video-1.mp4: 384x640 1 Hardhat, 1 NO-Mask, 1 NO-Safety Vest, 2 Persons, 3 Safety Vests, 1246.9ms\n",
            "video 1/1 (175/758) /content/gdrive/MyDrive/PPE Detection/data/videos/workers-video-1.mp4: 384x640 1 Hardhat, 1 NO-Mask, 1 NO-Safety Vest, 2 Persons, 3 Safety Vests, 1501.5ms\n",
            "video 1/1 (176/758) /content/gdrive/MyDrive/PPE Detection/data/videos/workers-video-1.mp4: 384x640 1 Hardhat, 1 NO-Mask, 1 NO-Safety Vest, 2 Persons, 3 Safety Vests, 1223.2ms\n",
            "video 1/1 (177/758) /content/gdrive/MyDrive/PPE Detection/data/videos/workers-video-1.mp4: 384x640 1 Hardhat, 1 NO-Mask, 1 NO-Safety Vest, 3 Persons, 3 Safety Vests, 1217.2ms\n",
            "video 1/1 (178/758) /content/gdrive/MyDrive/PPE Detection/data/videos/workers-video-1.mp4: 384x640 1 Hardhat, 1 NO-Mask, 1 NO-Safety Vest, 3 Persons, 3 Safety Vests, 1207.8ms\n",
            "video 1/1 (179/758) /content/gdrive/MyDrive/PPE Detection/data/videos/workers-video-1.mp4: 384x640 1 Hardhat, 1 NO-Mask, 1 NO-Safety Vest, 3 Persons, 3 Safety Vests, 1219.6ms\n",
            "video 1/1 (180/758) /content/gdrive/MyDrive/PPE Detection/data/videos/workers-video-1.mp4: 384x640 1 Hardhat, 1 NO-Mask, 1 NO-Safety Vest, 3 Persons, 3 Safety Vests, 1204.9ms\n",
            "video 1/1 (181/758) /content/gdrive/MyDrive/PPE Detection/data/videos/workers-video-1.mp4: 384x640 1 Hardhat, 1 NO-Mask, 1 NO-Safety Vest, 2 Persons, 3 Safety Vests, 1204.7ms\n",
            "video 1/1 (182/758) /content/gdrive/MyDrive/PPE Detection/data/videos/workers-video-1.mp4: 384x640 1 Hardhat, 1 NO-Mask, 1 NO-Safety Vest, 2 Persons, 3 Safety Vests, 1222.0ms\n",
            "video 1/1 (183/758) /content/gdrive/MyDrive/PPE Detection/data/videos/workers-video-1.mp4: 384x640 1 Hardhat, 1 NO-Mask, 1 NO-Safety Vest, 2 Persons, 3 Safety Vests, 1447.8ms\n",
            "video 1/1 (184/758) /content/gdrive/MyDrive/PPE Detection/data/videos/workers-video-1.mp4: 384x640 1 Hardhat, 1 NO-Mask, 1 NO-Safety Vest, 1 Person, 3 Safety Vests, 1295.1ms\n",
            "video 1/1 (185/758) /content/gdrive/MyDrive/PPE Detection/data/videos/workers-video-1.mp4: 384x640 1 Hardhat, 1 NO-Mask, 1 NO-Safety Vest, 2 Persons, 3 Safety Vests, 1208.3ms\n",
            "video 1/1 (186/758) /content/gdrive/MyDrive/PPE Detection/data/videos/workers-video-1.mp4: 384x640 1 Hardhat, 1 NO-Mask, 1 NO-Safety Vest, 2 Persons, 3 Safety Vests, 1431.1ms\n",
            "video 1/1 (187/758) /content/gdrive/MyDrive/PPE Detection/data/videos/workers-video-1.mp4: 384x640 1 Hardhat, 1 NO-Mask, 1 NO-Safety Vest, 2 Persons, 2 Safety Vests, 1353.6ms\n",
            "video 1/1 (188/758) /content/gdrive/MyDrive/PPE Detection/data/videos/workers-video-1.mp4: 384x640 1 Hardhat, 1 NO-Mask, 1 NO-Safety Vest, 2 Persons, 2 Safety Vests, 1242.7ms\n",
            "video 1/1 (189/758) /content/gdrive/MyDrive/PPE Detection/data/videos/workers-video-1.mp4: 384x640 1 Hardhat, 1 NO-Mask, 1 NO-Safety Vest, 2 Persons, 2 Safety Vests, 1227.3ms\n",
            "video 1/1 (190/758) /content/gdrive/MyDrive/PPE Detection/data/videos/workers-video-1.mp4: 384x640 1 Hardhat, 1 NO-Mask, 1 NO-Safety Vest, 3 Persons, 2 Safety Vests, 1203.5ms\n",
            "video 1/1 (191/758) /content/gdrive/MyDrive/PPE Detection/data/videos/workers-video-1.mp4: 384x640 1 Hardhat, 1 NO-Mask, 1 NO-Safety Vest, 4 Persons, 3 Safety Vests, 1386.9ms\n",
            "video 1/1 (192/758) /content/gdrive/MyDrive/PPE Detection/data/videos/workers-video-1.mp4: 384x640 1 Hardhat, 1 NO-Mask, 1 NO-Safety Vest, 3 Persons, 2 Safety Vests, 1376.4ms\n",
            "video 1/1 (193/758) /content/gdrive/MyDrive/PPE Detection/data/videos/workers-video-1.mp4: 384x640 1 Hardhat, 1 NO-Mask, 1 NO-Safety Vest, 3 Persons, 2 Safety Vests, 1202.8ms\n",
            "video 1/1 (194/758) /content/gdrive/MyDrive/PPE Detection/data/videos/workers-video-1.mp4: 384x640 1 Hardhat, 1 NO-Mask, 1 NO-Safety Vest, 2 Persons, 3 Safety Vests, 1220.6ms\n",
            "video 1/1 (195/758) /content/gdrive/MyDrive/PPE Detection/data/videos/workers-video-1.mp4: 384x640 1 Hardhat, 1 NO-Mask, 1 NO-Safety Vest, 2 Persons, 3 Safety Vests, 1236.4ms\n",
            "video 1/1 (196/758) /content/gdrive/MyDrive/PPE Detection/data/videos/workers-video-1.mp4: 384x640 1 Hardhat, 1 NO-Mask, 1 NO-Safety Vest, 2 Persons, 2 Safety Vests, 1223.9ms\n",
            "video 1/1 (197/758) /content/gdrive/MyDrive/PPE Detection/data/videos/workers-video-1.mp4: 384x640 1 Hardhat, 1 NO-Mask, 1 NO-Safety Vest, 2 Persons, 2 Safety Vests, 1217.5ms\n",
            "video 1/1 (198/758) /content/gdrive/MyDrive/PPE Detection/data/videos/workers-video-1.mp4: 384x640 1 Hardhat, 1 NO-Mask, 1 NO-Safety Vest, 2 Persons, 2 Safety Vests, 1210.9ms\n",
            "video 1/1 (199/758) /content/gdrive/MyDrive/PPE Detection/data/videos/workers-video-1.mp4: 384x640 1 Hardhat, 1 NO-Mask, 1 NO-Safety Vest, 2 Persons, 2 Safety Vests, 1207.9ms\n",
            "video 1/1 (200/758) /content/gdrive/MyDrive/PPE Detection/data/videos/workers-video-1.mp4: 384x640 1 Hardhat, 1 NO-Mask, 1 NO-Safety Vest, 3 Persons, 2 Safety Vests, 1507.3ms\n",
            "video 1/1 (201/758) /content/gdrive/MyDrive/PPE Detection/data/videos/workers-video-1.mp4: 384x640 1 Hardhat, 1 NO-Mask, 1 NO-Safety Vest, 4 Persons, 2 Safety Vests, 1206.9ms\n",
            "video 1/1 (202/758) /content/gdrive/MyDrive/PPE Detection/data/videos/workers-video-1.mp4: 384x640 1 Hardhat, 1 NO-Mask, 1 NO-Safety Vest, 3 Persons, 2 Safety Vests, 1279.8ms\n",
            "video 1/1 (203/758) /content/gdrive/MyDrive/PPE Detection/data/videos/workers-video-1.mp4: 384x640 1 Hardhat, 1 NO-Mask, 1 NO-Safety Vest, 5 Persons, 3 Safety Vests, 1229.9ms\n",
            "video 1/1 (204/758) /content/gdrive/MyDrive/PPE Detection/data/videos/workers-video-1.mp4: 384x640 1 Hardhat, 1 NO-Mask, 1 NO-Safety Vest, 3 Persons, 3 Safety Vests, 1216.7ms\n",
            "video 1/1 (205/758) /content/gdrive/MyDrive/PPE Detection/data/videos/workers-video-1.mp4: 384x640 1 Hardhat, 1 NO-Mask, 1 NO-Safety Vest, 3 Persons, 3 Safety Vests, 1207.9ms\n",
            "video 1/1 (206/758) /content/gdrive/MyDrive/PPE Detection/data/videos/workers-video-1.mp4: 384x640 1 NO-Mask, 1 NO-Safety Vest, 3 Persons, 3 Safety Vests, 1190.3ms\n",
            "video 1/1 (207/758) /content/gdrive/MyDrive/PPE Detection/data/videos/workers-video-1.mp4: 384x640 1 NO-Mask, 1 NO-Safety Vest, 3 Persons, 3 Safety Vests, 1212.0ms\n",
            "video 1/1 (208/758) /content/gdrive/MyDrive/PPE Detection/data/videos/workers-video-1.mp4: 384x640 1 NO-Mask, 1 NO-Safety Vest, 3 Persons, 4 Safety Vests, 1408.3ms\n",
            "video 1/1 (209/758) /content/gdrive/MyDrive/PPE Detection/data/videos/workers-video-1.mp4: 384x640 1 NO-Mask, 1 NO-Safety Vest, 3 Persons, 3 Safety Vests, 1334.1ms\n",
            "video 1/1 (210/758) /content/gdrive/MyDrive/PPE Detection/data/videos/workers-video-1.mp4: 384x640 1 NO-Mask, 1 NO-Safety Vest, 4 Persons, 4 Safety Vests, 1205.9ms\n",
            "video 1/1 (211/758) /content/gdrive/MyDrive/PPE Detection/data/videos/workers-video-1.mp4: 384x640 1 NO-Mask, 1 NO-Safety Vest, 4 Persons, 4 Safety Vests, 1220.7ms\n",
            "video 1/1 (212/758) /content/gdrive/MyDrive/PPE Detection/data/videos/workers-video-1.mp4: 384x640 1 NO-Mask, 1 NO-Safety Vest, 5 Persons, 4 Safety Vests, 1207.6ms\n",
            "video 1/1 (213/758) /content/gdrive/MyDrive/PPE Detection/data/videos/workers-video-1.mp4: 384x640 1 NO-Mask, 1 NO-Safety Vest, 3 Persons, 4 Safety Vests, 1197.6ms\n",
            "video 1/1 (214/758) /content/gdrive/MyDrive/PPE Detection/data/videos/workers-video-1.mp4: 384x640 1 NO-Mask, 1 NO-Safety Vest, 3 Persons, 4 Safety Vests, 1238.5ms\n",
            "video 1/1 (215/758) /content/gdrive/MyDrive/PPE Detection/data/videos/workers-video-1.mp4: 384x640 1 NO-Mask, 1 NO-Safety Vest, 3 Persons, 3 Safety Vests, 1243.2ms\n",
            "video 1/1 (216/758) /content/gdrive/MyDrive/PPE Detection/data/videos/workers-video-1.mp4: 384x640 1 NO-Mask, 1 NO-Safety Vest, 3 Persons, 3 Safety Vests, 1238.4ms\n",
            "video 1/1 (217/758) /content/gdrive/MyDrive/PPE Detection/data/videos/workers-video-1.mp4: 384x640 1 NO-Mask, 1 NO-Safety Vest, 3 Persons, 3 Safety Vests, 1527.7ms\n",
            "video 1/1 (218/758) /content/gdrive/MyDrive/PPE Detection/data/videos/workers-video-1.mp4: 384x640 1 NO-Mask, 1 NO-Safety Vest, 2 Persons, 4 Safety Vests, 1207.8ms\n",
            "video 1/1 (219/758) /content/gdrive/MyDrive/PPE Detection/data/videos/workers-video-1.mp4: 384x640 1 NO-Mask, 1 NO-Safety Vest, 2 Persons, 4 Safety Vests, 1232.8ms\n",
            "video 1/1 (220/758) /content/gdrive/MyDrive/PPE Detection/data/videos/workers-video-1.mp4: 384x640 1 NO-Mask, 1 NO-Safety Vest, 2 Persons, 4 Safety Vests, 1204.2ms\n",
            "video 1/1 (221/758) /content/gdrive/MyDrive/PPE Detection/data/videos/workers-video-1.mp4: 384x640 1 Hardhat, 1 NO-Mask, 1 NO-Safety Vest, 3 Persons, 3 Safety Vests, 1206.7ms\n",
            "video 1/1 (222/758) /content/gdrive/MyDrive/PPE Detection/data/videos/workers-video-1.mp4: 384x640 1 Hardhat, 1 NO-Mask, 1 NO-Safety Vest, 3 Persons, 3 Safety Vests, 1233.8ms\n",
            "video 1/1 (223/758) /content/gdrive/MyDrive/PPE Detection/data/videos/workers-video-1.mp4: 384x640 1 Hardhat, 1 NO-Mask, 1 NO-Safety Vest, 3 Persons, 3 Safety Vests, 1207.9ms\n",
            "video 1/1 (224/758) /content/gdrive/MyDrive/PPE Detection/data/videos/workers-video-1.mp4: 384x640 1 Hardhat, 1 NO-Mask, 1 NO-Safety Vest, 3 Persons, 3 Safety Vests, 1214.9ms\n",
            "video 1/1 (225/758) /content/gdrive/MyDrive/PPE Detection/data/videos/workers-video-1.mp4: 384x640 1 Hardhat, 1 NO-Mask, 1 NO-Safety Vest, 2 Persons, 3 Safety Vests, 1411.5ms\n",
            "video 1/1 (226/758) /content/gdrive/MyDrive/PPE Detection/data/videos/workers-video-1.mp4: 384x640 1 Hardhat, 1 NO-Mask, 1 NO-Safety Vest, 4 Persons, 3 Safety Vests, 1325.3ms\n",
            "video 1/1 (227/758) /content/gdrive/MyDrive/PPE Detection/data/videos/workers-video-1.mp4: 384x640 1 Hardhat, 1 NO-Mask, 1 NO-Safety Vest, 2 Persons, 4 Safety Vests, 1195.3ms\n",
            "video 1/1 (228/758) /content/gdrive/MyDrive/PPE Detection/data/videos/workers-video-1.mp4: 384x640 1 Hardhat, 1 NO-Mask, 1 NO-Safety Vest, 3 Persons, 3 Safety Vests, 1227.8ms\n",
            "video 1/1 (229/758) /content/gdrive/MyDrive/PPE Detection/data/videos/workers-video-1.mp4: 384x640 1 Hardhat, 1 NO-Mask, 1 NO-Safety Vest, 2 Persons, 3 Safety Vests, 1228.4ms\n",
            "video 1/1 (230/758) /content/gdrive/MyDrive/PPE Detection/data/videos/workers-video-1.mp4: 384x640 1 Hardhat, 1 NO-Mask, 1 NO-Safety Vest, 2 Persons, 3 Safety Vests, 1200.5ms\n",
            "video 1/1 (231/758) /content/gdrive/MyDrive/PPE Detection/data/videos/workers-video-1.mp4: 384x640 1 NO-Mask, 1 NO-Safety Vest, 2 Persons, 3 Safety Vests, 1188.9ms\n",
            "video 1/1 (232/758) /content/gdrive/MyDrive/PPE Detection/data/videos/workers-video-1.mp4: 384x640 1 Hardhat, 1 NO-Mask, 1 NO-Safety Vest, 2 Persons, 3 Safety Vests, 1209.9ms\n",
            "video 1/1 (233/758) /content/gdrive/MyDrive/PPE Detection/data/videos/workers-video-1.mp4: 384x640 1 NO-Mask, 1 NO-Safety Vest, 2 Persons, 3 Safety Vests, 1248.0ms\n",
            "video 1/1 (234/758) /content/gdrive/MyDrive/PPE Detection/data/videos/workers-video-1.mp4: 384x640 1 NO-Mask, 1 NO-Safety Vest, 2 Persons, 3 Safety Vests, 1544.6ms\n",
            "video 1/1 (235/758) /content/gdrive/MyDrive/PPE Detection/data/videos/workers-video-1.mp4: 384x640 1 NO-Mask, 1 NO-Safety Vest, 2 Persons, 3 Safety Vests, 1199.4ms\n",
            "video 1/1 (236/758) /content/gdrive/MyDrive/PPE Detection/data/videos/workers-video-1.mp4: 384x640 1 NO-Mask, 1 NO-Safety Vest, 2 Persons, 3 Safety Vests, 1208.7ms\n",
            "video 1/1 (237/758) /content/gdrive/MyDrive/PPE Detection/data/videos/workers-video-1.mp4: 384x640 1 Hardhat, 1 NO-Mask, 1 NO-Safety Vest, 2 Persons, 3 Safety Vests, 1226.1ms\n",
            "video 1/1 (238/758) /content/gdrive/MyDrive/PPE Detection/data/videos/workers-video-1.mp4: 384x640 1 NO-Mask, 1 NO-Safety Vest, 2 Persons, 3 Safety Vests, 1213.7ms\n",
            "video 1/1 (239/758) /content/gdrive/MyDrive/PPE Detection/data/videos/workers-video-1.mp4: 384x640 1 NO-Mask, 1 NO-Safety Vest, 2 Persons, 3 Safety Vests, 1200.6ms\n",
            "video 1/1 (240/758) /content/gdrive/MyDrive/PPE Detection/data/videos/workers-video-1.mp4: 384x640 1 Hardhat, 1 NO-Mask, 1 NO-Safety Vest, 2 Persons, 3 Safety Vests, 1204.8ms\n",
            "video 1/1 (241/758) /content/gdrive/MyDrive/PPE Detection/data/videos/workers-video-1.mp4: 384x640 1 Hardhat, 1 NO-Mask, 1 NO-Safety Vest, 3 Persons, 3 Safety Vests, 1200.2ms\n",
            "video 1/1 (242/758) /content/gdrive/MyDrive/PPE Detection/data/videos/workers-video-1.mp4: 384x640 1 NO-Mask, 1 NO-Safety Vest, 4 Persons, 3 Safety Vests, 1379.2ms\n",
            "video 1/1 (243/758) /content/gdrive/MyDrive/PPE Detection/data/videos/workers-video-1.mp4: 384x640 1 NO-Mask, 1 NO-Safety Vest, 3 Persons, 3 Safety Vests, 1329.7ms\n",
            "video 1/1 (244/758) /content/gdrive/MyDrive/PPE Detection/data/videos/workers-video-1.mp4: 384x640 1 NO-Mask, 1 NO-Safety Vest, 4 Persons, 3 Safety Vests, 1203.7ms\n",
            "video 1/1 (245/758) /content/gdrive/MyDrive/PPE Detection/data/videos/workers-video-1.mp4: 384x640 1 Hardhat, 1 NO-Mask, 1 NO-Safety Vest, 4 Persons, 3 Safety Vests, 1217.5ms\n",
            "video 1/1 (246/758) /content/gdrive/MyDrive/PPE Detection/data/videos/workers-video-1.mp4: 384x640 1 Hardhat, 1 NO-Mask, 1 NO-Safety Vest, 4 Persons, 3 Safety Vests, 1198.4ms\n",
            "video 1/1 (247/758) /content/gdrive/MyDrive/PPE Detection/data/videos/workers-video-1.mp4: 384x640 1 Hardhat, 1 NO-Mask, 1 NO-Safety Vest, 3 Persons, 3 Safety Vests, 1201.0ms\n",
            "video 1/1 (248/758) /content/gdrive/MyDrive/PPE Detection/data/videos/workers-video-1.mp4: 384x640 1 Hardhat, 1 NO-Mask, 1 NO-Safety Vest, 3 Persons, 3 Safety Vests, 1210.2ms\n",
            "video 1/1 (249/758) /content/gdrive/MyDrive/PPE Detection/data/videos/workers-video-1.mp4: 384x640 1 Hardhat, 1 NO-Mask, 1 NO-Safety Vest, 3 Persons, 3 Safety Vests, 1246.6ms\n",
            "video 1/1 (250/758) /content/gdrive/MyDrive/PPE Detection/data/videos/workers-video-1.mp4: 384x640 1 Hardhat, 1 NO-Mask, 1 NO-Safety Vest, 3 Persons, 3 Safety Vests, 1205.1ms\n",
            "video 1/1 (251/758) /content/gdrive/MyDrive/PPE Detection/data/videos/workers-video-1.mp4: 384x640 1 Hardhat, 1 NO-Mask, 1 NO-Safety Vest, 2 Persons, 4 Safety Vests, 1547.1ms\n",
            "video 1/1 (252/758) /content/gdrive/MyDrive/PPE Detection/data/videos/workers-video-1.mp4: 384x640 1 Hardhat, 1 NO-Mask, 1 NO-Safety Vest, 3 Persons, 4 Safety Vests, 1212.8ms\n"
          ]
        }
      ],
      "source": [
        "#Make inference on a video\n",
        "\n",
        "!yolo detect predict model = \"/content/gdrive/MyDrive/PPE Detection/runs/detect/PPE_Detector_yolov8l_finetuning-133_epochs/weights/best.pt\"  source = \"/content/gdrive/MyDrive/PPE Detection/data/videos/workers-video-1.mp4\""
      ]
    },
    {
      "cell_type": "code",
      "execution_count": 7,
      "metadata": {
        "id": "Mgc49tGcLVup"
      },
      "outputs": [],
      "source": [
        "#Save the video on runs/\n",
        "\n",
        "!scp -r /content/runs '/content/gdrive/My Drive/PPE Detection/'"
      ]
    },
    {
      "cell_type": "code",
      "execution_count": 11,
      "metadata": {
        "id": "JEOz-JMlLgOt",
        "colab": {
          "base_uri": "https://localhost:8080/"
        },
        "outputId": "bba9c76d-3e50-4672-be14-1a44b46feae2"
      },
      "outputs": [
        {
          "output_type": "stream",
          "name": "stdout",
          "text": [
            "ffmpeg version 4.4.2-0ubuntu0.22.04.1 Copyright (c) 2000-2021 the FFmpeg developers\n",
            "  built with gcc 11 (Ubuntu 11.2.0-19ubuntu1)\n",
            "  configuration: --prefix=/usr --extra-version=0ubuntu0.22.04.1 --toolchain=hardened --libdir=/usr/lib/x86_64-linux-gnu --incdir=/usr/include/x86_64-linux-gnu --arch=amd64 --enable-gpl --disable-stripping --enable-gnutls --enable-ladspa --enable-libaom --enable-libass --enable-libbluray --enable-libbs2b --enable-libcaca --enable-libcdio --enable-libcodec2 --enable-libdav1d --enable-libflite --enable-libfontconfig --enable-libfreetype --enable-libfribidi --enable-libgme --enable-libgsm --enable-libjack --enable-libmp3lame --enable-libmysofa --enable-libopenjpeg --enable-libopenmpt --enable-libopus --enable-libpulse --enable-librabbitmq --enable-librubberband --enable-libshine --enable-libsnappy --enable-libsoxr --enable-libspeex --enable-libsrt --enable-libssh --enable-libtheora --enable-libtwolame --enable-libvidstab --enable-libvorbis --enable-libvpx --enable-libwebp --enable-libx265 --enable-libxml2 --enable-libxvid --enable-libzimg --enable-libzmq --enable-libzvbi --enable-lv2 --enable-omx --enable-openal --enable-opencl --enable-opengl --enable-sdl2 --enable-pocketsphinx --enable-librsvg --enable-libmfx --enable-libdc1394 --enable-libdrm --enable-libiec61883 --enable-chromaprint --enable-frei0r --enable-libx264 --enable-shared\n",
            "  libavutil      56. 70.100 / 56. 70.100\n",
            "  libavcodec     58.134.100 / 58.134.100\n",
            "  libavformat    58. 76.100 / 58. 76.100\n",
            "  libavdevice    58. 13.100 / 58. 13.100\n",
            "  libavfilter     7.110.100 /  7.110.100\n",
            "  libswscale      5.  9.100 /  5.  9.100\n",
            "  libswresample   3.  9.100 /  3.  9.100\n",
            "  libpostproc    55.  9.100 / 55.  9.100\n",
            "\u001b[1;31m/content/gdrive/MyDrive/PPE: No such file or directory\n",
            "\u001b[0m"
          ]
        }
      ],
      "source": [
        "#Convert the video to mp4 format\n",
        "!ffmpeg -i {\"/content/gdrive/MyDrive/PPE Detection/runs/detect/predict/workers-video-2.avi\"} -vcodec libx264 {\"yolov8l-ppe-detection-video-1.mp4\"}"
      ]
    }
  ],
  "metadata": {
    "accelerator": "GPU",
    "colab": {
      "provenance": [],
      "gpuType": "T4"
    },
    "kernelspec": {
      "display_name": "Python 3",
      "name": "python3"
    },
    "language_info": {
      "name": "python"
    }
  },
  "nbformat": 4,
  "nbformat_minor": 0
}